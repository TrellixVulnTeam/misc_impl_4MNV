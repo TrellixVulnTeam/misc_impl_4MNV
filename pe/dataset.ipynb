{
 "cells": [
  {
   "cell_type": "markdown",
   "metadata": {},
   "source": [
    "# Dataset\n",
    "\n",
    "+ MNIST\n",
    "    + resize to 64x64\n",
    "    + 2 sets of labels\n",
    "        + dye color of MNIST to different colors, a continuous label in [0,1]\n",
    "        + digit class\n"
   ]
  },
  {
   "cell_type": "code",
   "execution_count": 46,
   "metadata": {},
   "outputs": [],
   "source": [
    "import numpy as np\n",
    "import matplotlib.pyplot as plt\n",
    "\n",
    "import torch\n",
    "import torchvision \n",
    "import torchvision.transforms as transforms"
   ]
  },
  {
   "cell_type": "code",
   "execution_count": 80,
   "metadata": {},
   "outputs": [],
   "source": [
    "def plot_im(tensor, n_row=8, plot_title=None, im_path=None):\n",
    "    tensor = tensor.cpu().detach()\n",
    "    ims = torchvision.utils.make_grid(tensor, padding=1, normalize=True, nrow=n_row)\n",
    "    ims = np.transpose(ims, (1,2,0))\n",
    "    plt.imshow(ims)\n",
    "    plt.axis('off')\n",
    "    if plot_title:\n",
    "        plt.title(plot_title)\n",
    "    if im_path:\n",
    "        plt.savefig(im_path)\n",
    "        plt.clf()\n",
    "        plt.close('all')\n",
    "    else:\n",
    "        plt.show()\n",
    "\n",
    "data_root = './'\n",
    "image_size = 64\n",
    "batch_size = 1\n",
    "n_workers = 1"
   ]
  },
  {
   "cell_type": "code",
   "execution_count": 69,
   "metadata": {},
   "outputs": [],
   "source": [
    "trainset = datasets.MNIST(\n",
    "    root=data_root,\n",
    "    download=True,\n",
    "    transform=transforms.Compose([transforms.ToTensor()]))\n",
    "trainloader = torch.utils.data.DataLoader(\n",
    "    trainset,\n",
    "    batch_size=batch_size,\n",
    "    shuffle=True,\n",
    "    num_workers=n_workers)"
   ]
  },
  {
   "cell_type": "code",
   "execution_count": 70,
   "metadata": {},
   "outputs": [
    {
     "data": {
      "text/plain": [
       "torch.Size([60000, 28, 28])"
      ]
     },
     "execution_count": 70,
     "metadata": {},
     "output_type": "execute_result"
    }
   ],
   "source": [
    "trainset.data.shape"
   ]
  },
  {
   "cell_type": "code",
   "execution_count": 87,
   "metadata": {},
   "outputs": [
    {
     "data": {
      "image/png": "[encoded data removed]",
      "text/plain": [
       "<Figure size 432x288 with 1 Axes>"
      ]
     },
     "metadata": {
      "needs_background": "light"
     },
     "output_type": "display_data"
    },
    {
     "name": "stdout",
     "output_type": "stream",
     "text": [
      "torch.Size([1, 1, 28, 28])\n"
     ]
    }
   ],
   "source": [
    "for (x,y) in trainloader:\n",
    "    plot_one(x)\n",
    "    print(x.shape)\n",
    "    break"
   ]
  },
  {
   "cell_type": "code",
   "execution_count": 121,
   "metadata": {},
   "outputs": [
    {
     "data": {
      "image/png": "[encoded data removed]",
      "text/plain": [
       "<Figure size 432x288 with 1 Axes>"
      ]
     },
     "metadata": {
      "needs_background": "light"
     },
     "output_type": "display_data"
    }
   ],
   "source": [
    "x = x.reshape(1,28,28)\n",
    "red  = torch.tensor([1,0,0],dtype=torch.float32)\n",
    "blue = torch.tensor([0,0,1],dtype=torch.float32)\n",
    "\n",
    "\n",
    "shade = shade.reshape(3,1,1).repeat(1,28,28)\n",
    "mask = x.clone().squeeze()>0\n",
    "im = x.repeat(3,1,1)\n",
    "im[:,mask==1] = im[:,mask==1]*shade[:,mask==1]\n",
    "\n",
    "\n",
    "\n",
    "\n",
    "plot_im(im)"
   ]
  },
  {
   "cell_type": "code",
   "execution_count": 114,
   "metadata": {},
   "outputs": [
    {
     "data": {
      "text/plain": [
       "torch.Size([3, 28, 28])"
      ]
     },
     "execution_count": 114,
     "metadata": {},
     "output_type": "execute_result"
    }
   ],
   "source": [
    "shade.shape"
   ]
  },
  {
   "cell_type": "code",
   "execution_count": null,
   "metadata": {},
   "outputs": [],
   "source": []
  }
 ],
 "metadata": {
  "kernelspec": {
   "display_name": "Python [conda env:misc_impl] *",
   "language": "python",
   "name": "conda-env-misc_impl-py"
  },
  "language_info": {
   "codemirror_mode": {
    "name": "ipython",
    "version": 3
   },
   "file_extension": ".py",
   "mimetype": "text/x-python",
   "name": "python",
   "nbconvert_exporter": "python",
   "pygments_lexer": "ipython3",
   "version": "3.7.5"
  }
 },
 "nbformat": 4,
 "nbformat_minor": 2
}
