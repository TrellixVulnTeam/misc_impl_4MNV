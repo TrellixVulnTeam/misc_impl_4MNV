{
 "cells": [
  {
   "cell_type": "code",
   "execution_count": null,
   "metadata": {},
   "outputs": [],
   "source": [
    "from torchsummary import summary # pip only\n",
    "\n",
    "import itertools\n",
    "import numpy as np\n",
    "\n",
    "import torch\n",
    "import torch.nn as nn\n",
    "import matplotlib.pyplot as plt\n",
    "import torchvision \n",
    "import torchvision.datasets as datasets\n",
    "\n",
    "%load_ext autoreload\n",
    "%autoreload 2\n",
    "    \n",
    "import models\n",
    "import data"
   ]
  },
  {
   "cell_type": "code",
   "execution_count": null,
   "metadata": {},
   "outputs": [],
   "source": [
    "device = torch.device('cuda:0')\n",
    "\n",
    "torch.manual_seed(0)\n",
    "if torch.cuda.is_available():\n",
    "    torch.cuda.manual_seed(0)\n",
    "\n",
    "latent_size = 2\n",
    "enc_sizes = [784,500,latent_size]\n",
    "dec_sizes = [latent_size,500,784]\n",
    "batch_size = 100\n",
    "train = False\n",
    "\n",
    "n_epochs = 200\n",
    "n_batches_print = 100\n",
    "\n",
    "conditional_size = 10\n",
    "\n",
    "cvae_enc_sizes = enc_sizes.copy()\n",
    "cvae_enc_sizes[0] += conditional_size\n",
    "\n",
    "cvae_dec_sizes = dec_sizes.copy()\n",
    "cvae_dec_sizes[0] += conditional_size\n",
    "\n",
    "cvae_prior_network_sizes = [conditional_size, 5, latent_size]\n",
    "\n",
    "cvae_enc_sizes, cvae_dec_sizes, cvae_prior_network_sizes"
   ]
  },
  {
   "cell_type": "code",
   "execution_count": null,
   "metadata": {},
   "outputs": [],
   "source": [
    "transforms = torchvision.transforms.Compose([\n",
    "    torchvision.transforms.ToTensor(),\n",
    "    torchvision.transforms.Lambda(lambda x: torch.round(x)),\n",
    "    torchvision.transforms.Lambda(lambda x: x.view(-1)),\n",
    "])\n",
    "\n",
    "trainset = datasets.MNIST(root='../data', train=True, download=True, transform=transforms)\n",
    "trainloader = torch.utils.data.DataLoader(trainset, batch_size=batch_size, shuffle=True, num_workers=8)\n",
    "\n",
    "testset = datasets.MNIST(root='../data', train=False, download=True, transform=transforms)\n",
    "testloader = torch.utils.data.DataLoader(testset, batch_size=batch_size, shuffle=True, num_workers=8)"
   ]
  },
  {
   "cell_type": "code",
   "execution_count": null,
   "metadata": {},
   "outputs": [],
   "source": [
    "x,y = next(iter(trainloader))\n",
    "print(x.shape, y.shape, torch.nn.functional.one_hot(y,10)[0])\n",
    "\n",
    "plt.imshow(x[0].view(28,28))"
   ]
  },
  {
   "cell_type": "code",
   "execution_count": null,
   "metadata": {},
   "outputs": [],
   "source": [
    "vae = models.VAE(enc_sizes,dec_sizes)\n",
    "\n",
    "if not train:\n",
    "    vae.load_state_dict(torch.load('vae.pt'))\n",
    "\n",
    "vae.to(device)\n",
    "print(vae)"
   ]
  },
  {
   "cell_type": "code",
   "execution_count": null,
   "metadata": {},
   "outputs": [],
   "source": [
    "if train:\n",
    "        \n",
    "    optimizer = torch.optim.Adam(vae.parameters())\n",
    "\n",
    "    n_epochs = 200\n",
    "    n_batches_print = 100\n",
    "\n",
    "    for epoch in range(n_epochs):\n",
    "\n",
    "        running_loss = 0\n",
    "\n",
    "        for it, (images, labels) in enumerate(trainloader):\n",
    "\n",
    "            images, labels = images.to(device), labels.to(device)\n",
    "\n",
    "            mu, logvariance, z, y = vae(images)\n",
    "            loss = -models.VAE.variational_objective(images, mu, logvariance, z, y)\n",
    "            \n",
    "            optimizer.zero_grad()\n",
    "            loss.backward()\n",
    "            optimizer.step()\n",
    "\n",
    "            running_loss += loss\n",
    "            if it % n_batches_print == n_batches_print-1:\n",
    "                print(f'[{epoch+1} {it+1}] loss: {running_loss/n_batches_print}')\n",
    "                running_loss = 0.0\n",
    "\n",
    "    print('Finished Training')\n",
    "    \n",
    "    torch.save(vae.state_dict(), \"./vae.pt\")"
   ]
  },
  {
   "cell_type": "code",
   "execution_count": null,
   "metadata": {},
   "outputs": [],
   "source": [
    "def test_model(vae, dataloader, device, conditional=False):\n",
    "    elbo_avg = 0\n",
    "    for x, y in dataloader:\n",
    "        x, y = x.to(device), y.to(device)\n",
    "        if conditional:\n",
    "            out = vae(x, nn.functional.one_hot(y, 10).float())\n",
    "            elbo_avg += models.CVAE.variational_objective(x, *out)\n",
    "        else:\n",
    "            out = vae(x)\n",
    "            elbo_avg += models.VAE.variational_objective(x, *out)\n",
    "        \n",
    "    return elbo_avg/len(dataloader)\n",
    "\n",
    "\n",
    "print(f\"Training set ELBO = {test_model(vae, trainloader, device)}\")\n",
    "print(f\"Test set ELBO     = {test_model(vae, testloader, device)}\")"
   ]
  }
 ],
 "metadata": {
  "kernelspec": {
   "display_name": "Python [conda env:misc_impl] *",
   "language": "python",
   "name": "conda-env-misc_impl-py"
  },
  "language_info": {
   "codemirror_mode": {
    "name": "ipython",
    "version": 3
   },
   "file_extension": ".py",
   "mimetype": "text/x-python",
   "name": "python",
   "nbconvert_exporter": "python",
   "pygments_lexer": "ipython3",
   "version": "3.7.5"
  }
 },
 "nbformat": 4,
 "nbformat_minor": 2
}
