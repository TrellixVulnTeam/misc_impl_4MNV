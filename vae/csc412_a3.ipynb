{
 "cells": [
  {
   "cell_type": "markdown",
   "metadata": {},
   "source": [
    "# CSC412/2506  Assignment 3: Variational Auto Encoders\n",
    "\n",
    "In this assignment we will learn how to preform efficient inference and learning in directed graphical models with continuous latent variables.We will use stochastic variational inference with automatic differentiation (SADVI) to approximate intractible posterior distributions. \n",
    "We will implement the two gradient estimators discussed in lecture, Score Function and Reparamterization, and experimentally demonstrate their properties such as biasedness and variance. \n",
    "We will use the reparameterization gradient estimators to optimize the ELBO of our latent variable model.\n",
    "\n",
    "You can use automatic differentiation in your code.\n",
    "You may also use a machine learning framework to specify the encoder and decoder neural networks, and provide gradientent optimizers such as ADAM.\n",
    "However, you may not use any probabilistic modelling elements for these frameworks.\n",
    "In particular, sampling from and evaluating densities under distributions must be written by you."
   ]
  },
  {
   "cell_type": "markdown",
   "metadata": {},
   "source": [
    "# Implementing the VAE [20pts]\n",
    "\n",
    "In this assignment we will implement and investigate the Variational Auto Encoder on Binarized MNIST digits detailed in [Auto-Encoding Variational Bayes](https://arxiv.org/pdf/1312.6114.pdf) by Kingma and Welling (2013). Before starting, read this paper. In particular, we will implement model as described in Appendix C."
   ]
  },
  {
   "cell_type": "markdown",
   "metadata": {},
   "source": [
    "## Load and Prepare Data\n",
    "\n",
    "Load the MNIST dataset, binarize the images, split into a training dataset of 10000 images and a test set of 10000 images. Also partition the training set into minibatches of size M=100."
   ]
  },
  {
   "cell_type": "code",
   "execution_count": null,
   "metadata": {},
   "outputs": [],
   "source": [
    "import math\n",
    "import numpy as np\n",
    "import torch\n",
    "import torchvision\n",
    "import torch.nn.functional as F\n",
    "import torch.nn as nn\n",
    "import torch.distributions as dist\n",
    "import matplotlib.pyplot as plt"
   ]
  },
  {
   "cell_type": "code",
   "execution_count": null,
   "metadata": {},
   "outputs": [],
   "source": [
    "# You may use the script provided in A2 or dataloaders provided by framework\n",
    "import data\n",
    "N_data, train_images, train_labels, test_images, test_labels = data.load_mnist()"
   ]
  },
  {
   "cell_type": "code",
   "execution_count": null,
   "metadata": {},
   "outputs": [],
   "source": [
    "# Load MNIST and Set Up Data\n",
    "train_images = np.round(train_images[0:10000])\n",
    "train_labels = train_labels[0:10000]\n",
    "test_images = np.round(test_images[0:10000])\n",
    "test_labels = test_labels[0:10000]\n",
    "\n",
    "train_images = torch.from_numpy(train_images).float()\n",
    "train_labels = torch.from_numpy(train_labels).float()\n",
    "test_images = torch.from_numpy(test_images).float()\n",
    "test_labels = torch.from_numpy(test_labels).float()\n",
    "print(f'N_data={N_data}')\n",
    "print(f'train_images.shape={train_images.shape}')\n",
    "print(f'train_labels.shape={train_labels.shape}')\n",
    "print(f'test_images.shape={test_images.shape}')\n",
    "print(f'test_labels.shape={test_labels.shape}')"
   ]
  },
  {
   "cell_type": "code",
   "execution_count": null,
   "metadata": {},
   "outputs": [],
   "source": [
    "def imshow(img):\n",
    "    npimg = img.numpy()\n",
    "    plt.imshow(np.transpose(npimg, (1, 2, 0)))\n",
    "    plt.axis('off')\n",
    "    plt.show()\n",
    "\n",
    "imshow(torchvision.utils.make_grid(train_images[:5].view(5,1,28,28),padding=1))\n",
    "print(' '.join(f'{torch.argmax(train_labels[j]).item()}' for j in range(5)))"
   ]
  },
  {
   "cell_type": "code",
   "execution_count": null,
   "metadata": {},
   "outputs": [],
   "source": [
    "# Implemented batching for you\n",
    "batch_size = 100\n",
    "num_batches = int(np.ceil(len(train_images) / batch_size))\n",
    "\n",
    "def batch_indices(iter):\n",
    "    idx = iter % num_batches\n",
    "    return slice(idx * batch_size, (idx+1) * batch_size)\n",
    "\n",
    "batch_indices(0), train_images[batch_indices(0)].shape, batch_size, num_batches"
   ]
  },
  {
   "cell_type": "markdown",
   "metadata": {},
   "source": [
    "## Distributions [5pts]\n",
    "\n",
    "Implement code to sample from and evaluate the log-pdf of diagonal multivariate gaussians $\\mathcal{N}(x|\\mu, \\sigma^2 I)$ and Bernoulli distributions. For sampling from these distributions, you have access to samples from uniform and unit Gaussians, (`rand` and `randn`). Make sure you test you've implemented these correctly by comparing to standard packages!"
   ]
  },
  {
   "cell_type": "code",
   "execution_count": null,
   "metadata": {},
   "outputs": [],
   "source": [
    "# sampler from Diagonal Gaussian x~N(μ,σ^2 I) (hint: use reparameterization trick here)\n",
    "\n",
    "def sample_gaussian(mu,logsigma2):\n",
    "    # http://blog.shakirm.com/2015/10/machine-learning-trick-of-the-day-4-reparameterisation-tricks/\n",
    "    #\n",
    "    epsilon = torch.randn_like(logsigma2)\n",
    "    return mu + torch.exp(0.5*logsigma2)*epsilon\n",
    "\n",
    "# sampler from Bernoulli\n",
    "\n",
    "def sample_bernoulli(p):\n",
    "    return (torch.rand_like(p) < p).float()\n",
    "\n",
    "# log-pdf of x under Diagonal Gaussian N(x|μ,σ^2 I)\n",
    "#\n",
    "# x           (batch_size, n_x)\n",
    "# mu          (batch_size, n_x)\n",
    "# log_sigma2  (batch_size, n_x)\n",
    "#\n",
    "def logpdf_gaussian(x,mu,logsigma2):\n",
    "    # batch dot product: https://github.com/pytorch/pytorch/issues/18027\n",
    "    #\n",
    "    # overflow problem fix: put 1/sigma^2 \\circ (x-mu) first, ....\n",
    "    #\n",
    "    return (-mu.shape[-1]/2)*math.log(2*math.pi) - \\\n",
    "        (1/2)*torch.sum(logsigma2,dim=1) - \\\n",
    "        (1/2)*torch.sum((1/torch.exp(logsigma2))*(x-mu)*(x-mu),-1)\n",
    "    \n",
    "\n",
    "# log-pdf of x under Bernoulli \n",
    "#\n",
    "# x    (batch_size, n_x)\n",
    "# p    (batch_size, n_x)\n",
    "#\n",
    "def logpdf_bernoulli(x,p):\n",
    "    return torch.sum(dist.bernoulli.Bernoulli(probs=p).log_prob(x),dim=-1)"
   ]
  },
  {
   "cell_type": "markdown",
   "metadata": {},
   "source": [
    "## Defining Model Architecture [5pts]\n",
    "\n",
    "Implement the model as defined in Appendix C. The MLPs will have a single hidden layer with Dh=500 hidden units. The dimensionality of the latent space will be Dz=2 for visualization purposes later.\n",
    "\n",
    "Note that the output of the encoder will be $[\\mu,\\log\\sigma^2]$. Why not ouput $\\sigma^2$ directly? Keep this in mind when you sample from the distribution using your Diagonal Gaussian sampler."
   ]
  },
  {
   "cell_type": "code",
   "execution_count": null,
   "metadata": {},
   "outputs": [],
   "source": [
    "class Encoder(nn.Module):\n",
    "    \n",
    "    def __init__(self,n_x,n_hidden,n_z):\n",
    "        super(Encoder, self).__init__()\n",
    "        \n",
    "        self.fc1= nn.Linear(n_x,n_hidden)\n",
    "        self.fc2_mu = nn.Linear(n_hidden,n_z)\n",
    "        self.fc2_logsigma2 = nn.Linear(n_hidden,n_z)\n",
    "        \n",
    "    def forward(self,x):\n",
    "        \n",
    "        h = torch.tanh(self.fc1(x))\n",
    "        mu = self.fc2_mu(h)\n",
    "        logsigma2 = self.fc2_logsigma2(h)\n",
    "        \n",
    "        return mu, logsigma2\n",
    "    \n",
    "\n",
    "class StochasticLayer(nn.Module):\n",
    "    \n",
    "    def __init__(self):\n",
    "        super(StochasticLayer, self).__init__()\n",
    "        pass\n",
    "    \n",
    "    def forward(self,mu,logsigma2):\n",
    "        z = sample_gaussian(mu,logsigma2)\n",
    "        return z\n",
    "    \n",
    "class Decoder(nn.Module):\n",
    "    \n",
    "    def __init__(self,n_x,n_hidden,n_z):\n",
    "        super(Decoder, self).__init__()\n",
    "        \n",
    "        self.fc1 = nn.Linear(n_z,n_hidden)\n",
    "        self.fc2 = nn.Linear(n_hidden,n_x)\n",
    "        \n",
    "    def forward(self, z):\n",
    "        h = torch.tanh(self.fc1(z))\n",
    "        y = torch.sigmoid(self.fc2(h))\n",
    "        \n",
    "        return y"
   ]
  },
  {
   "cell_type": "markdown",
   "metadata": {},
   "source": [
    "## Variational Objective [7pts]\n",
    "\n",
    "Here we will use the log-pdfs, the encoder, gaussian sampler, and decoder to define the Monte Carlo estimator for the mean of the ELBO over the minibatch."
   ]
  },
  {
   "cell_type": "code",
   "execution_count": null,
   "metadata": {},
   "outputs": [],
   "source": [
    "def to_numpy(tensor):\n",
    "    return tensor.data.cpu().numpy()\n",
    "\n",
    "def variational_objective(x,mu,logsigma2,z,y):\n",
    "\n",
    "    # log_q(z|x) logprobability of z under approximate posterior N(μ,σ^2)\n",
    "\n",
    "    log_approxposterior_prob = logpdf_gaussian(z,mu,logsigma2)\n",
    "\n",
    "    # log_p_z(z) log probability of z under prior\n",
    "\n",
    "    log_prior_prob = logpdf_gaussian(z,torch.zeros_like(z),torch.log(torch.ones_like(z)))\n",
    "\n",
    "    # log_p(x|z) - conditional probability of data given latents.\n",
    "\n",
    "    log_likelihood_prob = logpdf_bernoulli(x,y)\n",
    "\n",
    "    # Monte Carlo Estimator of mean ELBO with Reparameterization over M minibatch samples.\n",
    "    # This is the average ELBO over the minibatch\n",
    "    # Unlike the paper, do not use the closed form KL between two gaussians,\n",
    "    # Following eq (2), use the above quantities to estimate ELBO as discussed in lecture\n",
    "\n",
    "    # number of samples = 1\n",
    "    elbo = torch.mean(-log_approxposterior_prob + log_likelihood_prob + log_prior_prob)\n",
    "    \n",
    "#     print([to_numpy(torch.mean(t)) for t in [-log_approxposterior_prob,log_likelihood_prob,log_prior_prob]])\n",
    "\n",
    "    return elbo"
   ]
  },
  {
   "cell_type": "markdown",
   "metadata": {},
   "source": [
    "## Optimize with Gradient Descent\n",
    "\n",
    "Minimize the -ELBO with ADAM optimizer. You may use the optimizer provided by your framework"
   ]
  },
  {
   "cell_type": "code",
   "execution_count": null,
   "metadata": {},
   "outputs": [],
   "source": [
    "# Load Saved Model Parameters (if you've already trained)\n",
    "\n",
    "trained = True\n",
    "n_x = 28*28\n",
    "n_hidden = 500\n",
    "n_z = 2\n",
    "\n",
    "encoder = Encoder(n_x,n_hidden,n_z)\n",
    "stochasticlayer = StochasticLayer()\n",
    "decoder = Decoder(n_x,n_hidden,n_z)\n",
    "\n",
    "if trained:\n",
    "    device = torch.device(\"cpu\")\n",
    "    encoder.load_state_dict(torch.load('encoder.pt'))\n",
    "    decoder.load_state_dict(torch.load('decoder.pt'))\n",
    "else:\n",
    "    device = torch.device(\"cuda:0\" if torch.cuda.is_available() else \"cpu\")\n",
    "\n",
    "encoder.to(device)\n",
    "stochasticlayer.to(device)\n",
    "decoder.to(device)\n",
    "\n",
    "print(f'{encoder}\\n{stochasticlayer}\\n{decoder}')"
   ]
  },
  {
   "cell_type": "code",
   "execution_count": null,
   "metadata": {
    "scrolled": true
   },
   "outputs": [],
   "source": [
    "# Set up ADAM optimizer\n",
    "\n",
    "torch.manual_seed(0)\n",
    "optimizer = torch.optim.Adam(list(encoder.parameters()) + list(decoder.parameters()))\n",
    "\n",
    "n_epochs = 200\n",
    "n_batches_print = 100\n",
    "\n",
    "for epoch in range(n_epochs):\n",
    "\n",
    "    running_loss = 0.0\n",
    "    for it in range(num_batches):\n",
    "        \n",
    "        iter_images = train_images[batch_indices(it)].to(device)\n",
    "        iter_labels = train_labels[batch_indices(it)].to(device)\n",
    "\n",
    "        optimizer.zero_grad()\n",
    "        \n",
    "        mu, logsigma2 = encoder(iter_images)\n",
    "        z = stochasticlayer(mu, logsigma2)\n",
    "        y = decoder(z)\n",
    "\n",
    "        loss = -variational_objective(iter_images,mu,logsigma2,z,y)\n",
    "        loss.backward()\n",
    "    \n",
    "        optimizer.step()\n",
    "        \n",
    "        running_loss += loss\n",
    "        \n",
    "        if it % n_batches_print == n_batches_print-1:    # print every 200 mini-batches\n",
    "            print(f'[{epoch+1} {it+1}] loss: {running_loss/n_batches_print}')\n",
    "            running_loss = 0.0\n",
    "\n",
    "print('Finished Training')"
   ]
  },
  {
   "cell_type": "code",
   "execution_count": null,
   "metadata": {},
   "outputs": [],
   "source": [
    "# Save Optimized Model Parameters\n",
    "torch.save(encoder.state_dict(), \"./encoder.pt\")\n",
    "torch.save(decoder.state_dict(), \"./decoder.pt\")"
   ]
  },
  {
   "cell_type": "markdown",
   "metadata": {},
   "source": [
    "## Report ELBO on Training and Test Set [3pts]"
   ]
  },
  {
   "cell_type": "code",
   "execution_count": null,
   "metadata": {},
   "outputs": [],
   "source": [
    "# ELBO on training set\n",
    "\n",
    "mu, logsigma2 = encoder(train_images.to(device))\n",
    "z = stochasticlayer(mu, logsigma2)\n",
    "y = decoder(z)\n",
    "\n",
    "elbo_training = variational_objective(train_images.to(device),mu,logsigma2,z,y)\n",
    "print(f\"Training set ELBO = {elbo_training}\")\n",
    "\n",
    "# ELBO on test set\n",
    "\n",
    "mu, logsigma2 = encoder(test_images.to(device))\n",
    "z = stochasticlayer(mu, logsigma2)\n",
    "y = decoder(z)\n",
    "\n",
    "elbo_testing = variational_objective(test_images.to(device),mu,logsigma2,z,y)\n",
    "print(f\"Training set ELBO = {elbo_testing}\")"
   ]
  },
  {
   "cell_type": "markdown",
   "metadata": {},
   "source": [
    "# Numerically Computing Intractable Integrals [10pts]"
   ]
  },
  {
   "cell_type": "markdown",
   "metadata": {},
   "source": [
    "## Numerical Integration over Latent Space [5pts]\n",
    "\n",
    "Since we chose a low dimensional latent space, we are able to perform [numerical integration](https://en.wikipedia.org/wiki/Riemann_sum) to evaluate integrals which are intractible in higher dimension. \n",
    "\n",
    "For instance, we will use this to integrate over the latent space. e.g. the $$p(z|x) = \\frac{p(x|z)*p(z)}{p(x)}= \\frac{p(x|z)*p(z)}{\\int p(x|z)*p(z) dz}$$\n",
    "\n",
    "We want to numerically compute that integral. However, since we are parameterizing $\\log p(x|z)$ and $\\log p(z)$ we will have\n",
    "$$\\log p(z|x) = \\log p(x|z) + \\log p(z) - \\log \\int \\exp [\\log p(x|z)+ \\log p(z)] dz$$\n",
    "\n",
    "You will write code which computes $\\log \\int \\exp \\log f(z) dz$ given an equally spaced  grid of $\\log f(z)$s as input.\n",
    "Note that if we approximate that integral with a numerical sum, in order for it to be numerically stable we will need `logsumexp`."
   ]
  },
  {
   "cell_type": "code",
   "execution_count": null,
   "metadata": {},
   "outputs": [],
   "source": [
    "# Implement log sum exp\n",
    "\n",
    "def logsumexp(x):\n",
    "    a = torch.max(x)\n",
    "    return a + torch.log(torch.sum(torch.exp(x-a)))\n",
    "\n",
    "# Implement stable numerical integration \n",
    "#     over a 2d grid of equally spaced (delta_z) evaluations logf(x)\n",
    "#     sum over volumes over grid points    `delta_z^2 x value`\n",
    "def integrate(values,delta_z):\n",
    "    return logsumexp(values + 2*torch.log(delta_z))"
   ]
  },
  {
   "cell_type": "markdown",
   "metadata": {},
   "source": [
    "## Compare Numerical Log-Likelihood to ELBO [5pts]\n",
    "\n",
    "We can use the numerical integration to compute the log-likeihood of a element in our dataset under our model. We can then compare the numerical integration to the estimate given by the ELBO."
   ]
  },
  {
   "cell_type": "code",
   "execution_count": null,
   "metadata": {},
   "outputs": [],
   "source": [
    "np.random.seed(0)\n",
    "\n",
    "def compare_loglikelihood_to_elbo():\n",
    "\n",
    "    # Define the delta_z to be the spacing of the grid  (I used delta_z = 0.1)\n",
    "    delta_z = 0.1\n",
    "    delta_z_t = torch.tensor(delta_z)\n",
    "\n",
    "    # Define a grid of delta_z spaced points [-4,4]x[-4,4]\n",
    "    x,y = np.meshgrid(np.arange(-4,4+delta_z,delta_z),np.arange(-4,4+delta_z,delta_z))\n",
    "    z = np.hstack([x.reshape(-1,1),y.reshape(-1,1)])\n",
    "    z = torch.from_numpy(z).float().to(device)\n",
    "\n",
    "    # Sample an x from the data to evaluate the likelhiood\n",
    "    x = train_images[int(np.random.rand()*10000),:]\n",
    "    x = x.float().to(device)\n",
    "\n",
    "    # Compute log_p(x|z)+log_p(z) for every point on the grid\n",
    "\n",
    "    log_pxz = logpdf_bernoulli(x,decoder(z))\n",
    "    log_pz = logpdf_gaussian(z,torch.zeros_like(z),torch.log(torch.ones_like(z)))\n",
    "\n",
    "    # Using your numerical integration code\n",
    "    # integrate log_p(x|z)+log_p(z) over z to find log_p(x)\n",
    "\n",
    "    log_px = integrate(log_pxz + log_pz, delta_z_t)\n",
    "\n",
    "    # Check that your numerical integration is correct \n",
    "    # by integrating log_p(x|z)+log_p(z) - log_p(x)\n",
    "    # If you've successfully normalized this should integrate to 0 = log 1\n",
    "\n",
    "    assert(torch.allclose(integrate(log_pxz + log_pz - log_px, delta_z_t), torch.tensor(0).float(),atol=1e-4))\n",
    "\n",
    "    # Now compute the ELBO on x\n",
    "\n",
    "    mu, logsigma2 = encoder(x.view(1,-1))\n",
    "    z = stochasticlayer(mu, logsigma2)\n",
    "    y = decoder(z)\n",
    "    elbo = variational_objective(x,mu,logsigma2,z,y)\n",
    "    \n",
    "    return log_px, elbo\n",
    "\n",
    "\n",
    "# Try this for multiple samples of x\n",
    "# note that the ELBO is a lower bound to the true log_p(x)!\n",
    "\n",
    "for i in [np.random.rand() for _ in range(5)]:\n",
    "    x = train_images[int(i*10000),:]\n",
    "    \n",
    "    log_px, elbo = compare_loglikelihood_to_elbo()\n",
    "    \n",
    "    print(f'{elbo:.3f} <= {log_px:.3f}')"
   ]
  },
  {
   "cell_type": "markdown",
   "metadata": {},
   "source": [
    "# Data Space Visualizations [10pts]\n",
    "\n",
    "In this section we will investigate our model by visualizing the distributions over data given by the generative model, samples from these distributions, and reconstructions of the data."
   ]
  },
  {
   "cell_type": "code",
   "execution_count": null,
   "metadata": {},
   "outputs": [],
   "source": [
    "# Write a function to reshape 784 array into a 28x28 image for plotting\n",
    "\n",
    "def imshow(img):\n",
    "    npimg = img.detach().numpy()\n",
    "    plt.imshow(np.transpose(npimg, (1, 2, 0)))\n",
    "    plt.axis('off')\n",
    "    plt.show()"
   ]
  },
  {
   "cell_type": "markdown",
   "metadata": {},
   "source": [
    "## Samples from the generative model [5pts]\n",
    "\n",
    "Here you will sample from the generative model using ancestral sampling. \n",
    "\n",
    "* First sample a z from the prior. \n",
    "* Then use the generative model to parameterize a bernoulli distribution over x given z. Plot this distribution.\n",
    "* Then sample x from the distribution. Plot this sample.\n",
    "\n",
    "Do this for 10 samples z from the prior.\n",
    "\n",
    "Concatenate all your plots into one 10x2 figure where the first column is the distribution over x and the second column is a sample from this distribution. Each  row will be a new sample from the prior."
   ]
  },
  {
   "cell_type": "code",
   "execution_count": null,
   "metadata": {},
   "outputs": [],
   "source": [
    "# Sample 10 z from prior\n",
    "\n",
    "mu = torch.zeros(10,n_z)\n",
    "logsigma2 = torch.log(torch.ones(10,n_z))\n",
    "z = sample_gaussian(mu,logsigma2)\n",
    "\n",
    "# For each z, plot p(x|z)\n",
    "\n",
    "y = decoder(z)\n",
    "\n",
    "# Sample x from p(x|z)\n",
    "\n",
    "xt = sample_bernoulli(y)\n",
    "\n",
    "# Concatenate plots into a figure\n",
    "\n",
    "ims = torch.cat([im.view(-1,1,28,28) for im in [y, xt]],dim=0)\n",
    "imshow(torchvision.utils.make_grid(ims,padding=1,nrow=5))"
   ]
  },
  {
   "cell_type": "markdown",
   "metadata": {},
   "source": [
    "## Reconstructions of data [5pts]\n",
    "\n",
    "Here we will investigate the VAEs ability to reconstruct 10 inputs from the data. For each input ou will\n",
    "\n",
    "* Plot the input $x$\n",
    "* Use the recognition network to encode $x$ to the parameters for a distribution $q(z|x)$\n",
    "* Sample $z \\sim q(z|x)$\n",
    "* Use the generative model to decode to the parameters for distribution $p(x|z)$. Plot this\n",
    "* Sample $\\tilde x \\sim p(x|z)$. Plot this\n",
    "\n",
    "Then you will concatenate all your plots into a 10x3 figure where the first column is the input data, the second column is the distribution over x, the third column is a reconstruction of the input. Each row will be a new sample from the data."
   ]
  },
  {
   "cell_type": "code",
   "execution_count": null,
   "metadata": {},
   "outputs": [],
   "source": [
    "# Sample 10 xs from the data, plot.\n",
    "\n",
    "x = train_images[[int(np.random.rand()*10000) for _ in range(10)],:]\n",
    "\n",
    "# For each x, encode to distribution q(z|x)\n",
    "\n",
    "mu,logsigma2 = encoder(x)\n",
    "\n",
    "# For each x, sample distribution z ~ q(z|x)\n",
    "\n",
    "z = stochasticlayer(mu,logsigma2)\n",
    "\n",
    "# For each z, decode to distribution p(x̃|z), plot.\n",
    "\n",
    "y = decoder(z)\n",
    "\n",
    "# For each x, sample from the distribution x̃ ~ p(x̃|z), plot.\n",
    "\n",
    "xt = sample_bernoulli(y)\n",
    "\n",
    "# Concatenate all plots into a figure.\n",
    "\n",
    "ims = torch.cat([im.view(-1,1,28,28).transpose(2,3) for im in [x, y, xt]],dim=0)\n",
    "ims = torchvision.utils.make_grid(ims,padding=1,nrow=10).transpose(1,2)\n",
    "imshow(ims)"
   ]
  },
  {
   "cell_type": "markdown",
   "metadata": {},
   "source": [
    "# Latent Space Visualizations [15pts]\n",
    "\n",
    "In this section we will investigate our model by visualizing the latent space through various methods. These will include encoding the data, decoding along a grid, and linearly interpolating between encdoded data."
   ]
  },
  {
   "cell_type": "markdown",
   "metadata": {},
   "source": [
    "## Latent embedding of data [5pts]\n",
    "\n",
    "One way to understand what is represented in the latent space is to consider where it encodes elements of the data. Here we will produce a scatter plot in the latent space, where each point in the plot will be the mean vector for the distribution $q(z|x)$ given by the encoder. Further, we will colour each point in the plot by the class label for the input data. \n",
    "\n",
    "Hopefully our latent space will have learned to distinguish between elements from different classes, even though we never provided class labels to the model!"
   ]
  },
  {
   "cell_type": "code",
   "execution_count": null,
   "metadata": {},
   "outputs": [],
   "source": [
    "# Encode the training data\n",
    "\n",
    "mu,_ = encoder(train_images)\n",
    "\n",
    "# Take the mean vector of each encoding\n",
    "\n",
    "\n",
    "# Plot these mean vectors in the latent space with a scatter\n",
    "# Colour each point depending on the class label\n",
    "\n",
    "mu = mu.detach().numpy()\n",
    "colors = torch.argmax(train_labels,dim=1).detach().numpy()\n",
    "\n",
    "plt.scatter(mu[:,0], mu[:,1], c=colors, alpha=0.5)\n",
    "plt.title('latent space visualization')\n",
    "plt.xlim((-7,7))\n",
    "plt.ylim((-7,7))\n",
    "plt.xlabel('z1')\n",
    "plt.ylabel('z2')"
   ]
  },
  {
   "cell_type": "markdown",
   "metadata": {},
   "source": [
    "## Decoding along a lattice [5pts]\n",
    "\n",
    "We can also understand the \"learned manifold\" by plotting the generative distribution $p(x|z)$ for each point along a grid in the latent space. We will replicate figure 4b in the paper."
   ]
  },
  {
   "cell_type": "code",
   "execution_count": null,
   "metadata": {},
   "outputs": [],
   "source": [
    "# Create a 20x20 equally spaced grid of z's\n",
    "# (use the  previous figure to help you decide appropriate bounds for the grid)\n",
    "\n",
    "x,y = np.meshgrid(np.linspace(-4,4,20),np.linspace(-4,4,20))\n",
    "z = np.hstack([x.reshape(-1,1),y.reshape(-1,1)])\n",
    "z = torch.from_numpy(z).float().to(device)\n",
    "\n",
    "# For each z on the grid plot the generative distribution over x\n",
    "\n",
    "y = decoder(z)\n",
    "\n",
    "# concatenate these plots to a lattice of distributions\n",
    "\n",
    "imshow(torchvision.utils.make_grid(y.view(-1,1,28,28),padding=1,nrow=20))"
   ]
  },
  {
   "cell_type": "markdown",
   "metadata": {},
   "source": [
    "## Interpolate between two classes [5pts]\n",
    "\n",
    "A common technique to assess latent representations is to interpolate between two points.\n",
    "\n",
    "Here we will encode 3 pairs of data points with different classes. Then we will linearly interpolate between the mean vectors of their encodings. We will plot the generative distributions along the linear interpolation."
   ]
  },
  {
   "cell_type": "code",
   "execution_count": null,
   "metadata": {},
   "outputs": [],
   "source": [
    "# Function which gives linear interpolation z_α between za and zb\n",
    "\n",
    "def interpolate(za,zb,alpha):\n",
    "    return (1-alpha)*za + alpha*zb\n",
    "\n",
    "n_alpha = 10\n",
    "\n",
    "for it in range(3):\n",
    "    \n",
    "    # Sample 3 pairs of data with different classes\n",
    "    \n",
    "    i = int(np.random.rand()*10000)\n",
    "    j = int(np.random.rand()*10000)\n",
    "    while torch.all(torch.eq(train_labels[i,:],train_labels[j,:])):\n",
    "        j = int(np.random.rand()*10000)\n",
    "        \n",
    "    print(f'interpolate between class {torch.argmax(train_labels[i])}, {torch.argmax(train_labels[j])}')\n",
    "    \n",
    "    x = train_images[[i,j],:]\n",
    "    \n",
    "    # Encode the data in each pair, and take the mean vectors\n",
    "    \n",
    "    z,_ = encoder(x)\n",
    "\n",
    "    # Linearly interpolate between these mean vectors\n",
    "    \n",
    "    z_alpha = []\n",
    "    \n",
    "    for alpha in range(n_alpha):\n",
    "        z_alpha.append(interpolate(z[0,:],z[1,:],alpha/n_alpha).view(1,-1))\n",
    "\n",
    "    z_alpha = torch.cat(z_alpha,dim=0)\n",
    "        \n",
    "    # Along the interpolation, plot the distributions p(x|z_α)\n",
    "\n",
    "    y = decoder(z_alpha)\n",
    "\n",
    "    # Concatenate these plots into one figure\n",
    "    \n",
    "    imshow(torchvision.utils.make_grid(y.view(-1,1,28,28),padding=1,nrow=10))\n"
   ]
  },
  {
   "cell_type": "markdown",
   "metadata": {},
   "source": [
    "# Posteriors and Stochastic Variational Inference [20pts]\n",
    "\n",
    "Here we will use numerical integration to plot the \"true\" posterior $p(z|x)$ which is generally intractable. We will compare the intractable true posterior to the variational approximate posterior given by the recognition model $q(z|x)$.\n",
    "\n",
    "Then we will use the generative model to perform inference other inference tasks. In particular, we will see that the purpose of the encoder was only to make training the generative model tractable, and that we can do inference using the generative model completely without the encoder. To illustrate this we will perform the inference task of producing a generative distribution over the bottom half of the digit conditioned on the top half. We will achieve this with stochastic variational inference."
   ]
  },
  {
   "cell_type": "markdown",
   "metadata": {},
   "source": [
    "## Plotting Posteriors [5pts]\n",
    "\n",
    "Here we will plot the true posterior by evaluating $\\log p(x|z)+\\log p(z)$ on an equally spaced grid over z then numerically integrating over this grid to find the log-normalizer $\\log p(x)$. This will give us the intractable true posterior $p(z|x)$.\n",
    "\n",
    "Then we will compare the true posterior to the approximate posterior given by the recognition model $q(z|x)$. Does the recognition model produce a good approximate posterior to the intractable true posterior?"
   ]
  },
  {
   "cell_type": "code",
   "execution_count": null,
   "metadata": {},
   "outputs": [],
   "source": [
    "np.random.seed(1)\n",
    "# Sample an element x from the dataset to plot posteriors for\n",
    "\n",
    "x = train_images[int(np.random.rand()*10000),:]\n",
    "mu,logsigma2 = encoder(x)\n",
    "\n",
    "# Define a grid of equally spaced points in z\n",
    "# The grid needs to be fine enough that the plot is nice\n",
    "# To keep the integration tractable \n",
    "# I reccomend centering your grid at the mean of q(z|x)\n",
    "\n",
    "n_samples = 100\n",
    "\n",
    "mu = mu.detach().numpy()\n",
    "std3 =  0.5\n",
    "\n",
    "X = np.linspace(mu[0]-std3,mu[0]+std3,n_samples)\n",
    "Y = np.linspace(mu[1]-std3,mu[1]+std3,n_samples)\n",
    "delta_z = X[1]-X[0]\n",
    "delta_z_t = torch.tensor(delta_z)\n",
    "\n",
    "X,Y= np.meshgrid(X,Y)\n",
    "z = np.hstack([X.reshape(-1,1),Y.reshape(-1,1)])\n",
    "z = torch.from_numpy(z).float().to(device)\n",
    "\n",
    "# Evaluate log_p(x|z) + log_p(z) for every z on the grid\n",
    "\n",
    "log_pxz = logpdf_bernoulli(x,decoder(z))\n",
    "log_pz = logpdf_gaussian(z,torch.zeros_like(z),torch.log(torch.ones_like(z)))\n",
    "\n",
    "# Numerically integrate log_p(x|z) + log_p(z) to get log_p(x)\n",
    "\n",
    "log_px = integrate(log_pxz + log_pz, delta_z_t)\n",
    "\n",
    "# Produce a grid of normalized log_p(z|x)\n",
    "\n",
    "assert(torch.allclose(integrate(log_pxz + log_pz - log_px, delta_z_t), torch.tensor(0).float(),atol=1e-4))\n",
    "log_pzx = log_pxz + log_pz - log_px\n",
    "\n",
    "# Plot the contours of p(z|x) (note, not log)\n",
    "\n",
    "pzx = torch.exp(log_pzx.reshape((n_samples,n_samples)))\n",
    "pzx = pzx.detach().numpy()\n",
    "plt.contour(X,Y,pzx,colors='red')\n",
    "\n",
    "# Evaluate log_q(z|x) recognition network for every z on grid\n",
    "\n",
    "muu = torch.tensor(mu).view(1,-1).repeat(n_samples*n_samples,1)\n",
    "logsigma22 = logsigma2.view(1,-1).repeat(n_samples*n_samples,1)\n",
    "\n",
    "log_qzx = logpdf_gaussian(z,muu,logsigma22)\n",
    "\n",
    "# Plot the contours of q(z|x) on previous plot\n",
    "\n",
    "qzx = torch.exp(log_qzx.reshape((n_samples,n_samples)))\n",
    "qzx = qzx.detach().numpy()\n",
    "plt.contour(X,Y,qzx,colors='blue')\n",
    "\n",
    "print(f'red: p_z|x blue: q_z|x')"
   ]
  },
  {
   "cell_type": "markdown",
   "metadata": {},
   "source": [
    "## True posterior for top of digit [5pts]\n",
    "\n",
    "In this question we will plot the \"true\" posterior given only the top of the image, $p(z|x_{top})$. \n",
    "\n",
    "Realize that the generative model gives a Bernoulli distribution over each pixel in the image. We can easily evaluate the likelihood of only the top of an image by evaluating under only those corresponding dimensions of the generative model."
   ]
  },
  {
   "cell_type": "code",
   "execution_count": null,
   "metadata": {},
   "outputs": [],
   "source": [
    "# Function which returns only the top half of a 28x28 array\n",
    "# This will be useful for plotting, as well as selecting correct bernoulli params\n",
    "\n",
    "# log_p(x_top | z) (hint: select top half of 28x28 bernoulli param array)\n",
    "\n",
    "# Sample an element from the data set and take only its top half: x_top\n",
    "\n",
    "# Define a grid of equally spaced points in z\n",
    "\n",
    "# Evaluate log_p(x_top | z) + log_p(z) for every z on grid\n",
    "\n",
    "# Numerically integrate to get log_p(x_top)\n",
    "\n",
    "# Normalize to produce grid of log_p(z|x_top)\n",
    "\n",
    "# Plot the contours of p(z|x_top)\n"
   ]
  },
  {
   "cell_type": "markdown",
   "metadata": {},
   "source": [
    "## Learn approximate posterior for top of digit with Stochastic Variational Inference [10 pts]\n",
    "\n",
    "In this question we will see how we can use SVI to learn an approximate posterior to $p(z|x_{top})$ which we just obtained through intractable integration.\n",
    "\n",
    "Note that we can't just use our recognition model, because our encoder doesn't know what to do with only top halfs of images. Instead, we will initialize a variational distribution $q(z) = \\mathcal{N}(z| \\mu,\\sigma^2 I)$ and optimize the ELBO to minimize the KL divergence between it and the true distribution."
   ]
  },
  {
   "cell_type": "code",
   "execution_count": null,
   "metadata": {},
   "outputs": [],
   "source": [
    "# Initialize parameters μ and logσ for variational distribution q(z)\n",
    "\n",
    "# Define mean ELBO over M samples z ~ q(z)\n",
    "# using log_p(z), log_p(x_top | z), and q(z|x_top)\n",
    "\n",
    "# Loss for SVI is -1*ELBO\n",
    "\n",
    "# Set up ADAM to optimize μ and logσ^2\n",
    "\n",
    "# Optimize for a few iterations until convergence (you can use a larger stepsize here)\n"
   ]
  },
  {
   "cell_type": "code",
   "execution_count": null,
   "metadata": {},
   "outputs": [],
   "source": [
    "# On previous plot of contours of p(z|x_top) plot the optimized q(z)\n"
   ]
  },
  {
   "cell_type": "code",
   "execution_count": null,
   "metadata": {},
   "outputs": [],
   "source": [
    "# Sample z ~ q(z)\n",
    "\n",
    "# Use generative model p(x|z) to produce distribution over x\n",
    "\n",
    "# Extract the bottom half of this generative distribution: p(x_bot| z)\n",
    "\n",
    "# Concatenate the x_top and p(x_bot | z) and plot.\n"
   ]
  },
  {
   "cell_type": "markdown",
   "metadata": {},
   "source": [
    "# Investigating Gradient Estimators [Bonus 5pts]\n",
    "\n",
    "In this part we will experimentally investigate the difference in variances between the gradient estimates given by the Reparameterization and Score-Function gradient estimators.\n",
    "\n",
    "Comment on their mean and variances"
   ]
  },
  {
   "cell_type": "code",
   "execution_count": null,
   "metadata": {},
   "outputs": [],
   "source": [
    "# Use Reparameterization Gradient Estimator\n",
    "# to estimate gradient of mean ELBO wrt μ over M minibatch samples\n",
    "# hint: this will involve just taking gradients through the code used to train\n",
    "\n",
    "# Use Score-Function Gradient Estimator\n",
    "# to estimate gradient of mean ELBO wrt μ over M minibatch samples\n",
    "# make sure you are not useing the reparameterization trick to sample z from q\n",
    "# you should only be taking gradients through log_q(z|x), no gradients through ELBO or z\n",
    "\n",
    "# Consider the gradients wrt the first component of μ\n",
    "# Produce two histograms in two different subplots\n",
    "# First show the distribution of gradients given by Reparameterization estimator\n",
    "# Second show the distribution of gradients given by Score Function Estimator\n"
   ]
  }
 ],
 "metadata": {
  "kernelspec": {
   "display_name": "Python 3",
   "language": "python",
   "name": "python3"
  },
  "language_info": {
   "codemirror_mode": {
    "name": "ipython",
    "version": 3
   },
   "file_extension": ".py",
   "mimetype": "text/x-python",
   "name": "python",
   "nbconvert_exporter": "python",
   "pygments_lexer": "ipython3",
   "version": "3.7.5"
  }
 },
 "nbformat": 4,
 "nbformat_minor": 2
}
