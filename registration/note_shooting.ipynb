{
 "cells": [
  {
   "cell_type": "code",
   "execution_count": null,
   "id": "reduced-junction",
   "metadata": {
    "scrolled": true
   },
   "outputs": [],
   "source": [
    "%load_ext autoreload\n",
    "%autoreload 2\n",
    "\n",
    "\n",
    "## Geodesic shooting for several points using se kernel\n",
    "# \n",
    "from functools import partial\n",
    "\n",
    "import jax\n",
    "from jax import random, grad\n",
    "import jax.numpy as np\n",
    "import jax.numpy.linalg as linalg\n",
    "\n",
    "import matplotlib.pyplot as plt\n",
    "import matplotlib as mpl\n",
    "# https://matplotlib.org/3.1.1/gallery/style_sheets/style_sheets_reference.html\n",
    "mpl.rcParams['lines.linewidth'] = 3\n",
    "mpl.rcParams['font.size'] = 25\n",
    "mpl.rcParams['font.family'] = 'Times New Roman'\n",
    "cmap = plt.cm.get_cmap('bwr')\n",
    "\n",
    "\n",
    "import sys\n",
    "sys.path.append('../gp')\n",
    "from plt_utils import *\n",
    "\n",
    "\n",
    "from jax_registration import *"
   ]
  },
  {
   "cell_type": "code",
   "execution_count": null,
   "id": "exposed-antibody",
   "metadata": {
    "scrolled": true
   },
   "outputs": [],
   "source": [
    "## Parameters\n",
    "\n",
    "n = 5\n",
    "xlim = (0, 1)\n",
    "ylim = (0, 1)\n",
    "ℓ = .25\n",
    "euler_steps = 20\n",
    "δt = .1\n",
    "grid_nlines = 11\n",
    "\n",
    "## partials \n",
    "\n",
    "k = partial(cov_se, ℓ=ℓ)\n",
    "shooting_step = jax.jit(partial(HamiltonianStep, k=k, δt=δt))\n",
    "\n",
    "## Data\n",
    "\n",
    "key = random.PRNGKey(5)\n",
    "key, sk = random.split(key); q0 = random.uniform(sk, (n, 2))*.5+.25\n",
    "key, sk = random.split(key); p0 = random.normal(sk, (n, 2))*.2\n",
    "\n",
    "q0 = np.array([[.2,.3], [.4,.7], [.5,.65], [.8,.4]])\n",
    "p0 = np.array([[.15,.05], [-.05,-.1], [.1,-.1], [0,.15]])\n",
    "\n",
    "g0, gL = GridData(nlines=grid_nlines)"
   ]
  },
  {
   "cell_type": "code",
   "execution_count": null,
   "id": "narrative-group",
   "metadata": {
    "scrolled": true
   },
   "outputs": [],
   "source": [
    "## Plotting\n",
    "\n",
    "fig, axs = plt.subplots(1,4,figsize=(20,5))\n",
    "\n",
    "q = q0; p = p0; g = g0\n",
    "qs = [q]; ps = [p]\n",
    "\n",
    "axi = 0\n",
    "display_ts = [int(x*euler_steps) for x in [0.,.25,.5,1-1/euler_steps]]\n",
    "\n",
    "for t in range(euler_steps):\n",
    "    \n",
    "    if t in display_ts:\n",
    "        ax = axs[axi]; axi += 1\n",
    "        plt_grid(ax, g, gL)\n",
    "        plt_vectorfield(ax, g, k(g, q)@p, scale=10, color='k')\n",
    "        plt_vectorfield(ax, q, p, color=cmap(.7))\n",
    "        for qi, (q_, p_) in enumerate(zip(qs[::-1], ps[::-1])):\n",
    "            ax.scatter(q_[:,0], q_[:,1], color=cmap(.9-.02*qi))\n",
    "            plt_vectorfield(ax, q_, p_, color=cmap(.1+.02*qi))\n",
    "        ax.set_title(f'$t$={t/euler_steps}')\n",
    "        ax.set_xlabel('$\\mathcal{H}$'+f'$(q_t,p_t)$={Hqp(q,p,k):.4f}')\n",
    "        ax.set_xlim(xlim)\n",
    "        ax.set_ylim(ylim)\n",
    "        ax.set_xticks([])\n",
    "        ax.set_yticks([])\n",
    "        ax.set_aspect('equal')\n",
    "    \n",
    "    q, p, g = shooting_step(q, p, g)\n",
    "    qs.append(q)\n",
    "    ps.append(p)\n",
    "    \n",
    "    \n",
    "\n",
    "fig.tight_layout()\n",
    "plt_savefig(fig, 'summary/assets/plt_shooting.png')\n"
   ]
  },
  {
   "cell_type": "code",
   "execution_count": null,
   "id": "false-music",
   "metadata": {
    "scrolled": true
   },
   "outputs": [],
   "source": []
  },
  {
   "cell_type": "code",
   "execution_count": null,
   "id": "attractive-hawaiian",
   "metadata": {},
   "outputs": [],
   "source": []
  }
 ],
 "metadata": {
  "kernelspec": {
   "display_name": "Python [conda env:mi_registration]",
   "language": "python",
   "name": "conda-env-mi_registration-py"
  },
  "language_info": {
   "codemirror_mode": {
    "name": "ipython",
    "version": 3
   },
   "file_extension": ".py",
   "mimetype": "text/x-python",
   "name": "python",
   "nbconvert_exporter": "python",
   "pygments_lexer": "ipython3",
   "version": "3.7.10"
  }
 },
 "nbformat": 4,
 "nbformat_minor": 5
}
