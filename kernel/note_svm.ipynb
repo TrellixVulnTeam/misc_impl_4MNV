{
 "cells": [
  {
   "cell_type": "code",
   "execution_count": null,
   "metadata": {},
   "outputs": [],
   "source": [
    "\n",
    "import numpy as np\n",
    "import matplotlib.pyplot as plt\n",
    "from sklearn import svm\n"
   ]
  },
  {
   "cell_type": "code",
   "execution_count": null,
   "metadata": {
    "scrolled": false
   },
   "outputs": [],
   "source": [
    "\n",
    "def kernel_linear(X,Y):\n",
    "    return np.dot(X,Y.T)\n",
    "\n",
    "def kernel_poly2(X,Y):\n",
    "    # phi(x) = [x1, x2, x1*x2]\n",
    "    X = np.concatenate([X,(X[:,0]*X[:,1]).reshape(-1,1)], axis=1)\n",
    "    Y = np.concatenate([Y,(Y[:,0]*Y[:,1]).reshape(-1,1)], axis=1)\n",
    "    return np.dot(X,Y.T)\n",
    "    \n",
    "\n",
    "# Data\n",
    "np.random.seed(0)\n",
    "X = np.concatenate([\n",
    "    0.5*np.random.randn(100, 2)+[1,1],\n",
    "    0.5*np.random.randn(100, 2)+[1,-1],\n",
    "    0.5*np.random.randn(100, 2)+[-1,1],\n",
    "    0.5*np.random.randn(100, 2)+[-1,-1],\n",
    "], axis=0)\n",
    "Y = np.logical_xor(X[:, 0] > 0, X[:, 1] > 0)\n",
    "\n",
    "\n",
    "# Plot\n",
    "height = 10\n",
    "title_size = 50\n",
    "fig, axs = plt.subplots(1, 5, figsize=(height*5,height))\n",
    "\n",
    "# Original Data\n",
    "ax = axs[0]\n",
    "ax.scatter(X[:, 0], X[:, 1], s=30, c=Y, cmap='bwr')\n",
    "ax.set_xticks([])\n",
    "ax.set_yticks([])\n",
    "ax.set_title('Data', size=title_size, fontname=\"Times New Roman\")\n",
    "\n",
    "# Decision function \n",
    "def plt_decision_function(ax, kernel, gamma=1):\n",
    "    # gamma = 1/\\sigma^2\n",
    "    clf = svm.SVC(kernel=kernel, gamma=gamma)\n",
    "    clf.fit(X, Y)\n",
    "    xx, yy = np.meshgrid(np.linspace(-3, 3, 500),\n",
    "                         np.linspace(-3, 3, 500))\n",
    "    Z = clf.decision_function(np.c_[xx.ravel(), yy.ravel()])\n",
    "    Z = Z.reshape(xx.shape)\n",
    "    nlevel = 3\n",
    "    levels = np.linspace(-1,1,nlevel)\n",
    "    linestyles = ['--' for _ in range(len(levels))]\n",
    "    linestyles[nlevel//2] = '-'\n",
    "    ax.contour(xx, yy, Z, levels=levels, linewidths=2, linestyles=linestyles, colors='k')\n",
    "    # ax.contourf(xx, yy, Z, levels=levels, cmap=\"bwr\")\n",
    "    ax.scatter(X[:, 0], X[:, 1], s=30, c=np.sign(clf.decision_function(X)), cmap='bwr')\n",
    "    ax.set_xticks([])\n",
    "    ax.set_yticks([])\n",
    "    return ax\n",
    "\n",
    "# RBF kernel\n",
    "for i, gamma in enumerate([10,1,0.1]):\n",
    "    ax = axs[1+i]\n",
    "    ax = plt_decision_function(ax, 'rbf', gamma)\n",
    "    ax.set_title(f'SVM with rbf $\\sigma^2={1/gamma}$', size=title_size, fontname=\"Times New Roman\")\n",
    "\n",
    "# Separable kernel\n",
    "ax = axs[4]\n",
    "ax = plt_decision_function(ax, kernel_poly2)\n",
    "ax.set_title(f'SVM with $\\phi(x) = [x_1,x_2,x_1x_2]$', size=title_size, fontname=\"Times New Roman\")\n",
    "\n",
    "plt.tight_layout()\n",
    "save_path = './summary/assets/svm_on_2d_gaussian_vary_kernel'\n",
    "fig.savefig(save_path, bbox_inches='tight', dpi=200)\n"
   ]
  },
  {
   "cell_type": "code",
   "execution_count": null,
   "metadata": {},
   "outputs": [],
   "source": []
  }
 ],
 "metadata": {
  "kernelspec": {
   "display_name": "Python [conda env:misc_impl] *",
   "language": "python",
   "name": "conda-env-misc_impl-py"
  },
  "language_info": {
   "codemirror_mode": {
    "name": "ipython",
    "version": 3
   },
   "file_extension": ".py",
   "mimetype": "text/x-python",
   "name": "python",
   "nbconvert_exporter": "python",
   "pygments_lexer": "ipython3",
   "version": "3.7.7"
  }
 },
 "nbformat": 4,
 "nbformat_minor": 4
}
