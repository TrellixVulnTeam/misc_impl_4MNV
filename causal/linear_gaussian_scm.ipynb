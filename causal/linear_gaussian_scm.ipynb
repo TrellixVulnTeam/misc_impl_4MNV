{
 "cells": [
  {
   "cell_type": "markdown",
   "metadata": {},
   "source": [
    "## Code for elements of causal inference\n",
    "\n"
   ]
  },
  {
   "cell_type": "code",
   "execution_count": 97,
   "metadata": {},
   "outputs": [],
   "source": [
    "import matplotlib.pyplot as plt\n",
    "import numpy as np\n",
    "from numpy import random as npr\n",
    "from scipy import stats\n",
    "from sklearn.linear_model import LinearRegression\n",
    "from sklearn.preprocessing import minmax_scale"
   ]
  },
  {
   "cell_type": "markdown",
   "metadata": {},
   "source": [
    "#### Code Snippet 3.3 (p35)\n",
    "\n",
    "$$\n",
    "\\begin{align}\n",
    "C &:= N_C \\\\\n",
    "E &:= 4\\cdot C + N_E\n",
    "\\end{align}\n",
    "$$\n",
    "\n",
    "with $N_C,N_E \\sim \\mathsf{N}(0,1)$ and graph $C\\to E$"
   ]
  },
  {
   "cell_type": "code",
   "execution_count": 30,
   "metadata": {},
   "outputs": [
    {
     "name": "stdout",
     "output_type": "stream",
     "text": [
      "Pearson Correlation Coefficient = -0.0128 (pvalue = 0.826)\n"
     ]
    },
    {
     "data": {
      "image/png": "[encoded data removed]",
      "text/plain": [
       "<Figure size 432x288 with 1 Axes>"
      ]
     },
     "metadata": {
      "needs_background": "light"
     },
     "output_type": "display_data"
    }
   ],
   "source": [
    "npr.seed(0)\n",
    "n = 300\n",
    "\n",
    "# Observational distribution\n",
    "C = npr.normal(0,1,n)\n",
    "E = 4*C + npr.normal(0,1,n)\n",
    "plt.hist(E,label='P_E')\n",
    "\n",
    "# Interventional distribution do(C:=2)\n",
    "C = 2*np.ones(n)\n",
    "E = 4*C + npr.normal(0,1,n)\n",
    "plt.hist(E,label='P_E do(C:=2)')\n",
    "plt.legend()\n",
    "\n",
    "# Interventional distribution do(E:=\\tilde{EN})\n",
    "# breaks dependence between C and E\n",
    "C = npr.normal(0,1,n)\n",
    "E = npr.normal(0,1,n)\n",
    "r,pvalue = stats.pearsonr(C,E)\n",
    "print(f'Pearson Correlation Coefficient = {r:.3} (pvalue = {pvalue:.3})')"
   ]
  },
  {
   "cell_type": "markdown",
   "metadata": {},
   "source": [
    "#### Code Snippet 6.43 (p117)\n",
    "\n",
    "Graph where direct path is $X \\to D \\to Y$. Both $\\{K\\}$ and $\\{F,C,K\\}$ are valid adjustment set."
   ]
  },
  {
   "cell_type": "code",
   "execution_count": 56,
   "metadata": {},
   "outputs": [
    {
     "name": "stdout",
     "output_type": "stream",
     "text": [
      "Y~X        X's coeff: 1.303 Intercept: -0.034443159127696854\n",
      "Y~X+K      X's coeff: 1.972 Intercept: 0.0018953313235745561\n",
      "Y~X+F+C+K  X's coeff: 1.973 Intercept: 0.001976143099566091\n"
     ]
    }
   ],
   "source": [
    "npr.seed(0)\n",
    "n = 1000\n",
    "\n",
    "C = npr.normal(0,1,n)\n",
    "A = 0.8*npr.normal(0,1,n)\n",
    "K = A + 0.1*npr.normal(0,1,n)\n",
    "X = C - 2*A + 0.2*npr.normal(0,1,n)\n",
    "F = 3*X + 0.8*npr.normal(0,1,n)\n",
    "D = -2*X + 0.5*npr.normal(0,1,n)\n",
    "G = D + 0.5*npr.normal(0,1,n)\n",
    "Y = 2*K - D + 0.2*npr.normal(0,1,n)\n",
    "H = 0.5*Y + 0.1*npr.normal(0,1,n)\n",
    "\n",
    "reg = LinearRegression().fit(X.reshape(-1,1),Y)\n",
    "print(f\"Y~X        X's coeff: {reg.coef_[0]:.4} Intercept: {reg.intercept_}\")\n",
    "\n",
    "reg = LinearRegression().fit(np.hstack(list(v.reshape(-1,1) for v in (X,K))),Y)\n",
    "print(f\"Y~X+K      X's coeff: {reg.coef_[0]:.4} Intercept: {reg.intercept_}\")\n",
    "\n",
    "reg = LinearRegression().fit(np.hstack(list(v.reshape(-1,1) for v in (X,F,C,K))),Y)\n",
    "print(f\"Y~X+F+C+K  X's coeff: {reg.coef_[0]:.4} Intercept: {reg.intercept_}\")"
   ]
  },
  {
   "cell_type": "markdown",
   "metadata": {},
   "source": [
    "## Linear Gaussian Setup\n",
    "\n",
    "1. simulation \n",
    "2. estimate causal effect\n",
    "3. probabilistic counterfactuals "
   ]
  },
  {
   "cell_type": "code",
   "execution_count": 112,
   "metadata": {},
   "outputs": [
    {
     "data": {
      "text/plain": [
       "(array([[ 0,  0,  0],\n",
       "        [-1,  0,  0],\n",
       "        [ 1, 10,  0]]),\n",
       " array([[ 1.,  0.,  0.],\n",
       "        [-1.,  1., -0.],\n",
       "        [-9., 10.,  1.]]))"
      ]
     },
     "execution_count": 112,
     "metadata": {},
     "output_type": "execute_result"
    }
   ],
   "source": [
    "a = 0\n",
    "b = -1  # Z->Y negatively correlated \n",
    "c = 0\n",
    "d = 1   # Z->X has small effect\n",
    "e = 10  # Y->X has large effect\n",
    "\n",
    "A = np.array([\n",
    "    [0,0,0],\n",
    "    [b,0,0],\n",
    "    [d,e,0]\n",
    "])\n",
    "\n",
    "A, np.linalg.inv(np.eye(3)-A)"
   ]
  },
  {
   "cell_type": "code",
   "execution_count": 124,
   "metadata": {},
   "outputs": [
    {
     "data": {
      "image/png": "[encoded data removed]",
      "text/plain": [
       "<Figure size 432x288 with 2 Axes>"
      ]
     },
     "metadata": {
      "needs_background": "light"
     },
     "output_type": "display_data"
    },
    {
     "name": "stdout",
     "output_type": "stream",
     "text": [
      "i=0: Z=1.76 Y=-1.38 mean(im)=93\n"
     ]
    },
    {
     "data": {
      "image/png": "[encoded data removed]",
      "text/plain": [
       "<Figure size 432x288 with 2 Axes>"
      ]
     },
     "metadata": {
      "needs_background": "light"
     },
     "output_type": "display_data"
    },
    {
     "name": "stdout",
     "output_type": "stream",
     "text": [
      "i=1: Z=0.40 Y=-0.43 mean(im)=121\n"
     ]
    },
    {
     "data": {
      "image/png": "[encoded data removed]",
      "text/plain": [
       "<Figure size 432x288 with 2 Axes>"
      ]
     },
     "metadata": {
      "needs_background": "light"
     },
     "output_type": "display_data"
    },
    {
     "name": "stdout",
     "output_type": "stream",
     "text": [
      "i=2: Z=0.98 Y=0.12 mean(im)=141\n"
     ]
    },
    {
     "data": {
      "image/png": "[encoded data removed]",
      "text/plain": [
       "<Figure size 432x288 with 2 Axes>"
      ]
     },
     "metadata": {
      "needs_background": "light"
     },
     "output_type": "display_data"
    },
    {
     "name": "stdout",
     "output_type": "stream",
     "text": [
      "i=3: Z=2.24 Y=-2.48 mean(im)=58\n"
     ]
    },
    {
     "data": {
      "image/png": "[encoded data removed]",
      "text/plain": [
       "<Figure size 432x288 with 2 Axes>"
      ]
     },
     "metadata": {
      "needs_background": "light"
     },
     "output_type": "display_data"
    },
    {
     "name": "stdout",
     "output_type": "stream",
     "text": [
      "i=4: Z=1.87 Y=-2.22 mean(im)=66\n"
     ]
    }
   ],
   "source": [
    "npr.seed(0)\n",
    "p = 10*10\n",
    "n = 500\n",
    "\n",
    "# Observational distribution\n",
    "Z = npr.normal(0,1,n)\n",
    "Y = a + b*Z + npr.normal(0,1,n)\n",
    "X = (c + d*Z + e*Y).reshape(-1,1)*np.ones((1,p)) + npr.multivariate_normal(np.zeros(p),np.eye(p),n)\n",
    "\n",
    "# Visualize \n",
    "I = [0,1,2,3,4]\n",
    "X_rescale = minmax_scale(X,feature_range=(0,255))\n",
    "for i in I:\n",
    "    im = X_rescale[i,:].reshape(10,10)\n",
    "    plt.imshow(im,cmap='gray',vmin=0, vmax=255)\n",
    "    plt.colorbar()\n",
    "    plt.show()\n",
    "    print(f'i={i}: Z={Z[i]:.2f} Y={Y[i]:.2f} mean(im)={np.mean(im):.0f}')\n"
   ]
  },
  {
   "cell_type": "code",
   "execution_count": 131,
   "metadata": {},
   "outputs": [
    {
     "name": "stdout",
     "output_type": "stream",
     "text": [
      "Y~Z        Z's coeff: -1.04 (b=-1) Intercept: -0.07 (a=0)\n"
     ]
    },
    {
     "ename": "TypeError",
     "evalue": "unsupported format string passed to numpy.ndarray.__format__",
     "output_type": "error",
     "traceback": [
      "\u001b[0;31m---------------------------------------------------------------------------\u001b[0m",
      "\u001b[0;31mTypeError\u001b[0m                                 Traceback (most recent call last)",
      "\u001b[0;32m<ipython-input-131-c8a9a062ab05>\u001b[0m in \u001b[0;36m<module>\u001b[0;34m\u001b[0m\n\u001b[1;32m      3\u001b[0m \u001b[0;34m\u001b[0m\u001b[0m\n\u001b[1;32m      4\u001b[0m \u001b[0mreg\u001b[0m \u001b[0;34m=\u001b[0m \u001b[0mLinearRegression\u001b[0m\u001b[0;34m(\u001b[0m\u001b[0;34m)\u001b[0m\u001b[0;34m.\u001b[0m\u001b[0mfit\u001b[0m\u001b[0;34m(\u001b[0m\u001b[0mnp\u001b[0m\u001b[0;34m.\u001b[0m\u001b[0mhstack\u001b[0m\u001b[0;34m(\u001b[0m\u001b[0mlist\u001b[0m\u001b[0;34m(\u001b[0m\u001b[0mv\u001b[0m\u001b[0;34m.\u001b[0m\u001b[0mreshape\u001b[0m\u001b[0;34m(\u001b[0m\u001b[0;34m-\u001b[0m\u001b[0;36m1\u001b[0m\u001b[0;34m,\u001b[0m\u001b[0;36m1\u001b[0m\u001b[0;34m)\u001b[0m\u001b[0;34m*\u001b[0m\u001b[0mnp\u001b[0m\u001b[0;34m.\u001b[0m\u001b[0mones\u001b[0m\u001b[0;34m(\u001b[0m\u001b[0;34m(\u001b[0m\u001b[0;36m1\u001b[0m\u001b[0;34m,\u001b[0m\u001b[0mp\u001b[0m\u001b[0;34m)\u001b[0m\u001b[0;34m)\u001b[0m \u001b[0;32mfor\u001b[0m \u001b[0mv\u001b[0m \u001b[0;32min\u001b[0m \u001b[0;34m(\u001b[0m\u001b[0mZ\u001b[0m\u001b[0;34m,\u001b[0m\u001b[0mY\u001b[0m\u001b[0;34m)\u001b[0m\u001b[0;34m)\u001b[0m\u001b[0;34m)\u001b[0m\u001b[0;34m,\u001b[0m\u001b[0mX\u001b[0m\u001b[0;34m)\u001b[0m\u001b[0;34m\u001b[0m\u001b[0;34m\u001b[0m\u001b[0m\n\u001b[0;32m----> 5\u001b[0;31m \u001b[0mprint\u001b[0m\u001b[0;34m(\u001b[0m\u001b[0;34mf\"Y~Z        Z's coeff: {reg.coef_[0]:.2f} (b={b}) Intercept: {reg.intercept_:.2f} (a={a})\"\u001b[0m\u001b[0;34m)\u001b[0m\u001b[0;34m\u001b[0m\u001b[0;34m\u001b[0m\u001b[0m\n\u001b[0m",
      "\u001b[0;31mTypeError\u001b[0m: unsupported format string passed to numpy.ndarray.__format__"
     ]
    }
   ],
   "source": [
    "# Max likelihood by linear regression\n",
    "reg = LinearRegression().fit(Z.reshape(-1,1),Y)\n",
    "print(f\"Y~Z        Z's coeff: {reg.coef_[0]:.2f} (b={b}) Intercept: {reg.intercept_:.2f} (a={a})\")\n",
    "\n",
    "# Max likelihood by considering joint distribution\n"
   ]
  },
  {
   "cell_type": "code",
   "execution_count": 133,
   "metadata": {},
   "outputs": [
    {
     "data": {
      "text/plain": [
       "(500, 200)"
      ]
     },
     "execution_count": 133,
     "metadata": {},
     "output_type": "execute_result"
    }
   ],
   "source": [
    "covariates = np.hstack(list(v.reshape(-1,1)*np.ones((1,p)) for v in (Z,Y)))\n",
    "covariates.shape"
   ]
  },
  {
   "cell_type": "code",
   "execution_count": 66,
   "metadata": {},
   "outputs": [
    {
     "data": {
      "text/plain": [
       "(1, 40)"
      ]
     },
     "execution_count": 66,
     "metadata": {},
     "output_type": "execute_result"
    }
   ],
   "source": [
    "(c*np.ones((1,p))).shape"
   ]
  },
  {
   "cell_type": "code",
   "execution_count": 96,
   "metadata": {},
   "outputs": [],
   "source": []
  },
  {
   "cell_type": "code",
   "execution_count": null,
   "metadata": {},
   "outputs": [],
   "source": []
  }
 ],
 "metadata": {
  "kernelspec": {
   "display_name": "Python [conda env:misc_impl] *",
   "language": "python",
   "name": "conda-env-misc_impl-py"
  },
  "language_info": {
   "codemirror_mode": {
    "name": "ipython",
    "version": 3
   },
   "file_extension": ".py",
   "mimetype": "text/x-python",
   "name": "python",
   "nbconvert_exporter": "python",
   "pygments_lexer": "ipython3",
   "version": "3.7.7"
  }
 },
 "nbformat": 4,
 "nbformat_minor": 4
}
