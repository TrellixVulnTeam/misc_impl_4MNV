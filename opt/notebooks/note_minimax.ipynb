{
 "cells": [
  {
   "cell_type": "code",
   "execution_count": null,
   "metadata": {},
   "outputs": [],
   "source": [
    "using Pkg; Pkg.activate(\"..\")\n",
    "using Revise\n",
    "using PyPlot\n",
    "using LinearAlgebra\n",
    "using SparseArrays\n",
    "using Zygote\n",
    "\n",
    "include(\"../src/Opt.jl\")\n",
    "import .Opt"
   ]
  },
  {
   "cell_type": "code",
   "execution_count": null,
   "metadata": {},
   "outputs": [],
   "source": [
    "\n",
    "\n",
    "# GDA\n",
    "def gda(z_0, alpha=0.05, num_iter=100):\n",
    "    z = [z_0]\n",
    "    grad_fn = grad(target)\n",
    "    for i in range(num_iter):\n",
    "        g = grad_fn(z[-1])\n",
    "        z1 = z[-1] + g*np.array([-1,1])*alpha\n",
    "        z.append(z1)\n",
    "    z = np.array(z)\n",
    "    return z"
   ]
  },
  {
   "cell_type": "code",
   "execution_count": null,
   "metadata": {},
   "outputs": [],
   "source": [
    "f(x,y) = -3x^2 + 4x*y - y^2\n",
    "\n",
    "plt.figure(figsize=(5,5))\n",
    "axes = plt.gca()\n",
    "axes.set_xlim([-plot_width,plot_width])\n",
    "axes.set_ylim([-plot_width,plot_width])\n",
    "\n",
    "plot_width = 8\n",
    "X = [ i      for i=-plot_width:0.1:plot_width, j=-plot_width:0.1:plot_width ]\n",
    "Y = [ j      for i=-plot_width:0.1:plot_width, j=-plot_width:0.1:plot_width ]\n",
    "Z = [ f(i,j) for i=-plot_width:0.1:plot_width, j=-plot_width:0.1:plot_width ]\n",
    "plt.contourf(X,Y,Z,30)"
   ]
  },
  {
   "cell_type": "code",
   "execution_count": null,
   "metadata": {},
   "outputs": [],
   "source": []
  },
  {
   "cell_type": "code",
   "execution_count": null,
   "metadata": {},
   "outputs": [],
   "source": []
  }
 ],
 "metadata": {
  "kernelspec": {
   "display_name": "Julia 1.4.0",
   "language": "julia",
   "name": "julia-1.4"
  },
  "language_info": {
   "file_extension": ".jl",
   "mimetype": "application/julia",
   "name": "julia",
   "version": "1.4.0"
  }
 },
 "nbformat": 4,
 "nbformat_minor": 4
}
