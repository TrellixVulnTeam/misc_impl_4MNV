{
 "cells": [
  {
   "cell_type": "markdown",
   "metadata": {},
   "source": [
    "## Newton's Method\n"
   ]
  },
  {
   "cell_type": "code",
   "execution_count": null,
   "metadata": {},
   "outputs": [],
   "source": [
    "using Pkg; Pkg.activate(\"..\")\n",
    "using Revise\n",
    "using PyPlot\n",
    "using LinearAlgebra\n",
    "using SparseArrays\n",
    "\n",
    "include(\"../src/Opt.jl\")\n",
    "import .Opt"
   ]
  },
  {
   "cell_type": "code",
   "execution_count": null,
   "metadata": {},
   "outputs": [],
   "source": [
    "n = 20\n",
    "f, grad!, hess! = Opt.hard_leastsquares_problem(n)\n",
    "x0 = zeros(n)\n",
    "n_iterations = 10\n",
    "g_abstol = 1e-8\n",
    "α = 1\n",
    "\n",
    "fs  = zeros(n_iterations)\n",
    "grad_norm = zeros(n_iterations)\n",
    "function access_state(state)\n",
    "    fs[state.k] = state.f\n",
    "    grad_norm[state.k] = norm(state.g)\n",
    "end"
   ]
  },
  {
   "cell_type": "code",
   "execution_count": null,
   "metadata": {},
   "outputs": [],
   "source": [
    "x = copy(x0)\n",
    "s = Opt.NewtonMethodState(x0)\n",
    "H = zeros(n,n)\n",
    "\n",
    "for k in 1:n_iterations\n",
    "\n",
    "    s.k, s.f = k, f(x)\n",
    "    s.x .= x\n",
    "    grad!(s.g, x)\n",
    "    hess!(s.H, x)\n",
    "\n",
    "    access_state(s)\n",
    "    \n",
    "    @. x = s.x + α*$(-pinv(s.H)*s.g)\n",
    "\n",
    "    if norm(s.g) <= g_abstol\n",
    "        println(\"Terminate at k=$k: |∇f(xᵏ)| = $(norm(s.g)) <= $g_abstol\")\n",
    "        break\n",
    "    end\n",
    "end"
   ]
  },
  {
   "cell_type": "code",
   "execution_count": null,
   "metadata": {},
   "outputs": [],
   "source": [
    "xs = 1:n_iterations\n",
    "figure(figsize=(6,6))\n",
    "suptitle(\"hard least squares problem (n=$n)\")\n",
    "ax = subplot(111)\n",
    "ax.set_xscale(\"log\")\n",
    "ax.set_yscale(\"log\")\n",
    "ax.spines[\"right\"].set_visible(false)\n",
    "ax.spines[\"top\"].set_visible(false)\n",
    "plot(xs, fs)\n",
    "ylabel(\"f(xᵏ)\")\n",
    "xlabel(\"k\")"
   ]
  },
  {
   "cell_type": "code",
   "execution_count": null,
   "metadata": {},
   "outputs": [],
   "source": []
  }
 ],
 "metadata": {
  "kernelspec": {
   "display_name": "Julia 1.4.0",
   "language": "julia",
   "name": "julia-1.4"
  },
  "language_info": {
   "file_extension": ".jl",
   "mimetype": "application/julia",
   "name": "julia",
   "version": "1.4.0"
  }
 },
 "nbformat": 4,
 "nbformat_minor": 4
}
