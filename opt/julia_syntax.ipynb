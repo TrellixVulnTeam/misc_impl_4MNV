{
 "cells": [
  {
   "cell_type": "code",
   "execution_count": 1,
   "metadata": {},
   "outputs": [
    {
     "name": "stderr",
     "output_type": "stream",
     "text": [
      "\u001b[32m\u001b[1m Activating\u001b[22m\u001b[39m environment at `~/github/misc_impl/opt/Project.toml`\n"
     ]
    }
   ],
   "source": [
    "using Pkg; Pkg.activate(\".\")\n",
    "import Random: rand!"
   ]
  },
  {
   "cell_type": "code",
   "execution_count": 2,
   "metadata": {},
   "outputs": [
    {
     "name": "stdout",
     "output_type": "stream",
     "text": [
      "typeof(1) = Int64\n",
      "Sys.WORD_SIZE = 64\n",
      "(typemin(Int32), typemax(Int32)) = (-2147483648, 2147483647)\n",
      "eps(Float32) = 1.1920929f-7\n"
     ]
    },
    {
     "data": {
      "text/plain": [
       "1.1920929f-7"
      ]
     },
     "execution_count": 2,
     "metadata": {},
     "output_type": "execute_result"
    }
   ],
   "source": [
    "# https://docs.julialang.org/en/v1/manual/integers-and-floating-point-numbers/\n",
    "# \n",
    "@show typeof(1)\n",
    "@show Sys.WORD_SIZE\n",
    "@show typemin(Int32), typemax(Int32)\n",
    "@show eps(Float32)"
   ]
  },
  {
   "cell_type": "code",
   "execution_count": 3,
   "metadata": {},
   "outputs": [
    {
     "name": "stdout",
     "output_type": "stream",
     "text": [
      "(3 * 2) / 12 = 0.5\n",
      "[1, 2, 3] .^ 2 = [1, 4, 9]\n",
      "2 .* A .^ 2 .+ sin.(A) = [0.2137993262476956 0.007108879967688894 0.30906597564170746; 0.8743924298856481 1.3069333081701284 0.6815850707569915]\n",
      "#= In[3]:10 =# @__dot__(2 * A ^ 2 + sin(A)) = [0.2137993262476956 0.007108879967688894 0.30906597564170746; 0.8743924298856481 1.3069333081701284 0.6815850707569915]\n",
      "size.([A, A] .⊗ [A, A]) = [(4, 9), (4, 9)]\n",
      "isequal(1, 1.0) = true\n",
      "isinf(Inf) = true\n",
      "1 < 2 <= 2 < 3 == 3 > 2 >= 1 == 1 < 3 != 5 = true\n",
      "0 .< A .< 4 = Bool[1, 1, 1]\n",
      "Int8(127) = 127\n",
      "Int8(127.0) = 127\n",
      "round(0.5) = 0.0\n",
      "round(0.51) = 1.0\n",
      "sign(0.2) = 1.0\n",
      "exp(1) = 2.718281828459045\n",
      "log(ℯ) = 1\n"
     ]
    },
    {
     "data": {
      "text/plain": [
       "1"
      ]
     },
     "execution_count": 3,
     "metadata": {},
     "output_type": "execute_result"
    }
   ],
   "source": [
    "# https://docs.julialang.org/en/v1/manual/mathematical-operations/\n",
    "# \n",
    "@show 3 * 2 / 12\n",
    "@show [1,2,3].^2\n",
    "\n",
    "# dot syntax\n",
    "\n",
    "A = rand(2,3)\n",
    "@show 2 .* A .^2 .+ sin.(A)\n",
    "@show @. 2A^2 + sin(A)\n",
    "\n",
    "⊗(A,B) = kron(A,B)\n",
    "@show size.([A,A] .⊗ [A,A])  # computes [A⊗A, A⊗A]\n",
    "\n",
    "@show isequal(1,1.)\n",
    "@show isinf(Inf)\n",
    "\n",
    "# chained comparisons\n",
    "@show 1 < 2 <= 2 < 3 == 3 > 2 >= 1 == 1 < 3 != 5\n",
    "A = [1,2,3]\n",
    "@show 0 .< A .< 4\n",
    "\n",
    "# conversions\n",
    "@show Int8(127)\n",
    "@show Int8(127.0)\n",
    "@show round(0.50)\n",
    "@show round(0.51)\n",
    "\n",
    "\n",
    "# arithmetics \n",
    "@show sign(.2)\n",
    "@show exp(1)\n",
    "@show log(ℯ)"
   ]
  },
  {
   "cell_type": "code",
   "execution_count": 4,
   "metadata": {},
   "outputs": [
    {
     "name": "stdout",
     "output_type": "stream",
     "text": [
      "typeof('x') = Char\n",
      "Int('x') = 120\n",
      "Char(120) = 'x'\n",
      "(s[1], s[end - 1], s[end]) = ('H', 'l', 'd')\n",
      "(length(s), lastindex(s)) = (12, 12)\n",
      "(s[1:5], SubString(s, 1, 5)) = (\"Hello\", \"Hello\")\n",
      "collect(eachindex(s)) = [1, 2, 3, 4, 5, 6, 7, 8, 9, 10, 11, 12]\n",
      "string(s, \"  \", s) = \"Hello, world  Hello, world\"\n",
      "\"$(s) from me!\" = \"Hello, world from me!\"\n",
      "\"1 + 2 = $(1 + 2)\" = \"1 + 2 = 3\"\n",
      "\" \\nmultiple\\nlines\\n\" = \" \\nmultiple\\nlines\\n\"\n",
      "findfirst(isequal('e'), s) = 2\n",
      "occursin(\"Hello\", s) = true\n"
     ]
    },
    {
     "data": {
      "text/plain": [
       "true"
      ]
     },
     "execution_count": 4,
     "metadata": {},
     "output_type": "execute_result"
    }
   ],
   "source": [
    "# https://docs.julialang.org/en/v1/manual/strings/\n",
    "#\n",
    "\n",
    "# Char\n",
    "@show typeof('x')  # Char: 32-bit primitive\n",
    "@show Int('x')\n",
    "@show Char(120)\n",
    "\n",
    "# String\n",
    "s = \"Hello, world\"\n",
    "@show s[1], s[end-1], s[end]\n",
    "@show length(s), lastindex(s)\n",
    "@show s[1:5], SubString(s,1,5)\n",
    "@show collect(eachindex(s))  # iterator\n",
    "@show string(s, \"  \", s)\n",
    "\n",
    "# interpolation \n",
    "@show \"$s from me!\"\n",
    "@show \"1 + 2 = $(1+2)\"\n",
    "\n",
    "@show \"\"\" \n",
    "multiple\n",
    "lines\n",
    "\"\"\"\n",
    "\n",
    "@show findfirst(isequal('e'), s)\n",
    "@show occursin(\"Hello\", s)"
   ]
  },
  {
   "cell_type": "code",
   "execution_count": 5,
   "metadata": {},
   "outputs": [
    {
     "name": "stdout",
     "output_type": "stream",
     "text": [
      "f = f\n",
      "(f(2, 3), Σ(2, 3)) = (5, 5)\n",
      "typeof(g(2, 3)) = Int8\n",
      "(1 + 2 + 3, 1 + 2 + 3) = (6, 6)\n",
      "size(A) = (2,)\n",
      "([A B], hcat(A, B), size([A B])) = ([1 3; 2 4], [1 3; 2 4], (2, 2))\n",
      "([A; B], vcat(A, B), size([A; B])) = ([1, 2, 3, 4], [1, 2, 3, 4], (4,))\n",
      "(A', size(A')) = ([1 2], (1, 2))\n",
      "B[1] = 3\n",
      "map((x->begin\n",
      "            #= In[5]:37 =#\n",
      "            (x ^ 2 + 2x) - 1\n",
      "        end), [1, 2, 3]) = [2, 7, 14]\n",
      "get((()->begin\n",
      "            #= In[5]:38 =#\n",
      "            println(time())\n",
      "        end), Dict(\"a\" => 1, \"b\" => 2), \"a\") = 1\n",
      "(0, \"hello\", 2 * 3) = (0, \"hello\", 6)\n",
      "(named_tuple, named_tuple.a) = ((a = 1, b = 2), 1)\n",
      "range((2, 4)) = 2\n",
      "bar(1, 2) = (1, 2, ())\n",
      "bar(1, 2, 3) = (1, 2, (3,))\n",
      "bar(1, 2, 3, 4) = (1, 2, (3, 4))\n",
      "add1(2) = 3\n",
      "add1(2; keyword = 1) = 3\n",
      "add1(2) = 3\n",
      "(sqrt ∘ (+))(3, 6) = 3.0\n",
      "map((first ∘ reverse) ∘ uppercase, split(\"you can compose functions like this\")) = ['U', 'N', 'E', 'S', 'E', 'S']\n",
      "(1:10 |> sum) |> (x->begin\n",
      "            #= In[5]:81 =#\n",
      "            x + 1\n",
      "        end) = 56\n",
      "[\"list\", \"of\", \"strings\"] .|> [uppercase, titlecase, length] = Any[\"LIST\", \"Of\", 7]\n",
      "sin.([1, 2, 3]) = [0.8414709848078965, 0.9092974268256817, 0.1411200080598672]\n",
      "f.(pi, [1, 2, 3]) = [13.42477796076938, 17.42477796076938, 21.42477796076938]\n",
      "f.([2, 3, 4], [1, 2, 3]) = [10, 17, 24]\n",
      "#= In[5]:93 =# @__dot__(X = sin(cos(Y))) = [0.5143952585235492, -0.4042391538522658, -0.8360218615377305, -0.6080830096407656]\n"
     ]
    },
    {
     "data": {
      "text/plain": [
       "4-element Array{Float64,1}:\n",
       "  0.5143952585235492\n",
       " -0.4042391538522658\n",
       " -0.8360218615377305\n",
       " -0.6080830096407656"
      ]
     },
     "execution_count": 5,
     "metadata": {},
     "output_type": "execute_result"
    }
   ],
   "source": [
    "# https://docs.julialang.org/en/v1/manual/functions/\n",
    "# \n",
    "function f(x,y)\n",
    "    x + y\n",
    "end\n",
    "\n",
    "Σ = f\n",
    "\n",
    "@show f\n",
    "@show f(2,3), Σ(2,3)\n",
    "\n",
    "# argment passing behavior: \n",
    "#     pass-by-sharing, values not copied, args act as new variable \n",
    "#     bindnigs, values they refer to are identical to passed values\n",
    "#     modification to mutable values (`Array`) is visible to caller, i.e. python\n",
    "\n",
    "# return type\n",
    "function g(x,y)::Int8\n",
    "    x * y\n",
    "end\n",
    "\n",
    "@show typeof(g(2,3))\n",
    "\n",
    "@show 1+2+3, +(1,2,3)\n",
    "\n",
    "# special ops \n",
    "A = [1,2]\n",
    "B = [3,4]\n",
    "\n",
    "@show size(A)      # (2,) col vector\n",
    "@show [A B], hcat(A,B), size([A B])\n",
    "@show [A;B], vcat(A,B), size([A;B])\n",
    "@show A', size(A') # (1,2) row vector\n",
    "@show B[1]\n",
    "\n",
    "# anonymous functions\n",
    "@show map(x -> x^2 + 2x - 1, [1,2,3])\n",
    "@show get(()-> println(time()), Dict(\"a\"=>1, \"b\"=>2), \"a\")\n",
    "\n",
    "# Tuple: immutable\n",
    "@show (0, \"hello\", 2*3)\n",
    "named_tuple = (a=1, b=2)\n",
    "@show named_tuple, named_tuple.a\n",
    "\n",
    "# argument destructuring\n",
    "range((min,max)) = max-min\n",
    "@show range((2,4))\n",
    "\n",
    "# varargs\n",
    "bar(a,b,x...) = (a,b,x)\n",
    "@show bar(1,2)\n",
    "@show bar(1,2,3)\n",
    "@show bar(1,2,3,4)\n",
    "\n",
    "# optional args\n",
    "add1(x, optional=1) = x + optional\n",
    "@show add1(2)\n",
    "\n",
    "# keyword args\n",
    "add1(x; keyword=1) = x + keyword\n",
    "@show add1(2; keyword=1)\n",
    "\n",
    "#type \n",
    "add1(x; c::Int=1) = x + c\n",
    "@show add1(2)\n",
    "\n",
    "# do-block\n",
    "map([-1,0,22]) do x\n",
    "    if x < 0\n",
    "        return 0\n",
    "    elseif x == 0\n",
    "        return 1\n",
    "    else\n",
    "        return x\n",
    "    end\n",
    "end\n",
    "\n",
    "# function composition and pipes\n",
    "@show (sqrt ∘ +)(3,6)\n",
    "@show map(first ∘ reverse ∘ uppercase, split(\"you can compose functions like this\"))\n",
    "@show 1:10 |> sum |> x -> x+1\n",
    "@show [\"list\", \"of\", \"strings\"] .|> [uppercase, titlecase, length]\n",
    "\n",
    "# dot syntax\n",
    "@show sin.([1,2,3])\n",
    "# # f.(args, ...) equiv to broadcast(f, args...)\n",
    "f(x,y) = 3x + 4y\n",
    "@show f.(pi, [1,2,3])\n",
    "@show f.([2,3,4],[1,2,3])\n",
    "# preallocating output array for faster code!\n",
    "Y = [1.,2.,3.,4.]\n",
    "X = similar(Y)\n",
    "@show @. X = sin(cos(Y))\n",
    "\n",
    " "
   ]
  },
  {
   "cell_type": "code",
   "execution_count": 6,
   "metadata": {},
   "outputs": [
    {
     "name": "stdout",
     "output_type": "stream",
     "text": [
      "z = 3\n",
      "true\n",
      "1\n",
      "2\n",
      "3\n",
      "4\n",
      "5\n",
      "(1, 3)\n",
      "(1, 4)\n",
      "(2, 3)\n",
      "(2, 4)\n",
      "[take!(chn) for _ = 1:6] = Any[\"start\", 2, 4, 6, 8, \"stop\"]\n"
     ]
    },
    {
     "data": {
      "text/plain": [
       "6-element Array{Any,1}:\n",
       "  \"start\"\n",
       " 2\n",
       " 4\n",
       " 6\n",
       " 8\n",
       "  \"stop\""
      ]
     },
     "execution_count": 6,
     "metadata": {},
     "output_type": "execute_result"
    }
   ],
   "source": [
    "# https://docs.julialang.org/en/v1/manual/control-flow/\n",
    "#\n",
    "\n",
    "# compound expression \n",
    "z = (x=1; y=2; x+y)\n",
    "@show z\n",
    "\n",
    "# if-elseif-else equiv to ternary operator ?:\n",
    "print(1>2 ? \"false\" : \"true\")\n",
    "\n",
    "# short-circuit\n",
    "#     for short if statements\n",
    "#     <cond> && <statement> evaluate if <cond> is true\n",
    "#     <cond> || <statement> evaluate if <cond> is false\n",
    "n = 2\n",
    "n >= 0 || error(\"must be >= 0\")\n",
    "\n",
    "# loops\n",
    "println()\n",
    "for i = 1:5\n",
    "    println(i)\n",
    "end\n",
    "\n",
    "for i = 1:2, j = 3:4\n",
    "    println((i,j))\n",
    "end\n",
    "\n",
    "# task/coroutines\n",
    "#    ̇ interruptable by another task, and resumable later, at point where it left off\n",
    "#   ⋅ no space allocation on call stack\n",
    "#   ⋅ order of task call not deterministic\n",
    "# Channel\n",
    "#   ⋅ waitable FIFO queue, w/ multiple tasks reading/writing \n",
    "function producer(c::Channel)\n",
    "    # multiple return-values with put!\n",
    "    put!(c, \"start\")\n",
    "    for n = 1:4\n",
    "        put!(c, 2n)\n",
    "    end\n",
    "    put!(c, \"stop\")\n",
    "end\n",
    "\n",
    "chn = Channel(producer)\n",
    "@show [take!(chn) for _ in 1:6]\n",
    "# channel closed when task terminates !\n"
   ]
  },
  {
   "cell_type": "code",
   "execution_count": 42,
   "metadata": {},
   "outputs": [
    {
     "name": "stdout",
     "output_type": "stream",
     "text": [
      "(foo, typeof(foo)) = (Foo(\"hello\", 23, 1.5), Foo)\n",
      "fieldnames(Foo) = (:bar, :baz, :qux)\n",
      "(foo.bar, foo.baz, foo.qux) = (\"hello\", 23, 1.5)\n",
      "c.A = [0.16834345392935357]\n",
      "rand!(c.A) = [0.12401577249587836]\n",
      "(Point{Float64} <: Point) == true = true\n",
      "norm(p) = 3.605551275463989\n",
      "typeof(Point(2, 3)) = Point{Int64}\n",
      "p = point: (2.0, 3.0)\n"
     ]
    },
    {
     "data": {
      "text/plain": [
       "point: (2.0, 3.0)"
      ]
     },
     "execution_count": 42,
     "metadata": {},
     "output_type": "execute_result"
    }
   ],
   "source": [
    "# https://docs.julialang.org/en/v1/manual/types/\n",
    "#\n",
    "# Julia is dynamically typed\n",
    "# All values are objects, but functions are not bundled with objects\n",
    "\n",
    "# composite types\n",
    "#     immutable (more efficient, enforce invariance)\n",
    "#         ⋅ may contain Array as fields, which are mutable\n",
    "#         ⋅ fields cannot be changed to point to different objects\n",
    "#         ⋅ can be copied freely by compiler! no distinction between original & copy\n",
    "#     mutable with `mutable struct`\n",
    "\n",
    "struct Foo\n",
    "   bar\n",
    "   baz::Int\n",
    "   qux::Float64\n",
    "end\n",
    "\n",
    "# construtor\n",
    "#     ⋅ default ctor, accepts args and call `convert` \n",
    "\n",
    "foo = Foo(\"hello\", 23, 1.5)\n",
    "@show foo, typeof(foo)\n",
    "@show fieldnames(Foo)\n",
    "@show foo.bar, foo.baz, foo.qux\n",
    "\n",
    "struct C\n",
    "    A::Array{Float64, 2}\n",
    "end\n",
    "\n",
    "c = C(rand(1,1))\n",
    "\n",
    "@show c.A\n",
    "@show rand!(c.A) # can mutate mutable fields\n",
    "\n",
    "# mutable struct: allocated on heap, stable memory addresses\n",
    "\n",
    "mutable struct Bar\n",
    "   baz\n",
    "   qux::Float64\n",
    "end\n",
    "\n",
    "\n",
    "# parametric type\n",
    "#     ⋅ take parameters to instantiate a family of types\n",
    "\n",
    "struct Point{T}\n",
    "   x::T\n",
    "   y::T\n",
    "end\n",
    "\n",
    "function norm(p::Point{T}) where T <: Real\n",
    "    sqrt(p.x^2 + p.y^2)\n",
    "end\n",
    "\n",
    "\n",
    "p = Point{Float64}(2,3)\n",
    "\n",
    "@show (Point{Float64} <: Point) == true\n",
    "@show norm(p)\n",
    "@show typeof(Point(2,3)) # infers Int64\n",
    "\n",
    "Base.show(io::IO, p::Point{T}) where T <: Real = print(io, \"point: (\", p.x, \", \", p.y, \")\")\n",
    "@show p"
   ]
  },
  {
   "cell_type": "code",
   "execution_count": 47,
   "metadata": {},
   "outputs": [
    {
     "name": "stdout",
     "output_type": "stream",
     "text": [
      "Baz(1, 2) = Baz(1, 2)\n",
      "Baz(1) = Baz(1, 1)\n",
      "Baz() = Baz(0, 0)\n",
      "OrderedPair(1, 2) = OrderedPair(1, 2)\n"
     ]
    },
    {
     "data": {
      "text/plain": [
       "OrderedPair(1, 2)"
      ]
     },
     "execution_count": 47,
     "metadata": {},
     "output_type": "execute_result"
    }
   ],
   "source": [
    "# https://docs.julialang.org/en/v1/manual/constructors/#man-constructors-1\n",
    "#\n",
    "\n",
    "struct Baz\n",
    "   bar\n",
    "   baz\n",
    "end\n",
    "\n",
    "# outer contructor\n",
    "#    ⋅ can only create instance by calling another constructor\n",
    "\n",
    "Baz(x) = Baz(x, x)\n",
    "Baz() = Baz(0)\n",
    "\n",
    "@show Baz(1, 2)\n",
    "@show Baz(1)\n",
    "@show Baz()\n",
    "\n",
    "# inner constructor\n",
    "#     ⋅ enforce invariance, allows constructing self-referential object\n",
    "#     ⋅ declared inside `struct` block, access to `new`\n",
    "#     ⋅ if defined, no default constructor is provided\n",
    "\n",
    "struct OrderedPair\n",
    "   x::Real\n",
    "   y::Real\n",
    "   OrderedPair(x,y) = x > y ? error(\"out of order\") : new(x,y)\n",
    "end\n",
    "\n",
    "@show OrderedPair(1, 2)\n",
    "\n",
    "# parametric constructor"
   ]
  },
  {
   "cell_type": "code",
   "execution_count": 7,
   "metadata": {},
   "outputs": [
    {
     "name": "stdout",
     "output_type": "stream",
     "text": [
      "f(1.0, 2.0) = 1\n",
      "f(1, 2.2) = 2\n",
      "methods(f) = # 3 methods for generic function \"f\":\n",
      "[1] f(x::Float64, y::Float64) in Main at In[7]:13\n",
      "[2] f(x::Number, y::Number) in Main at In[7]:14\n",
      "[3] f(x, y) in Main at In[7]:12\n",
      "(same_type(1, 2), same_type(1, 2.0)) = (true, false)\n",
      "myappend([1, 2, 3], 4) = [1, 2, 3, 4]\n",
      "Base.invokelatest(f, 1, 2) = 2\n"
     ]
    },
    {
     "data": {
      "text/plain": [
       "2"
      ]
     },
     "execution_count": 7,
     "metadata": {},
     "output_type": "execute_result"
    }
   ],
   "source": [
    "# https://docs.julialang.org/en/v1/manual/methods/\n",
    "#\n",
    "\n",
    "# Function\n",
    "#     ⋅ maps tuple of arguments to a return value\n",
    "#     ⋅ implements a concept\n",
    "# Method\n",
    "#     ⋅ one possible behavior of a function\n",
    "#     ⋅ can be annotated to indicate the types of args, and their number\n",
    "#     ⋅ the most specific type of method is applied, executed by `dispatch`\n",
    "#     ⋅ No automatic casting or conversion of function args is performed!\n",
    "f(x,y) = 0\n",
    "f(x::Float64, y::Float64) = 1\n",
    "f(x::Number, y::Number) = 2\n",
    "@show f(1.,2.)\n",
    "@show f(1,2.2)\n",
    "@show methods(f)\n",
    "\n",
    "# parametric methods\n",
    "\n",
    "# aplies when both args are of same type \n",
    "same_type(x::T, y::T) where {T} = true\n",
    "# catch all, cover other cases\n",
    "same_type(x,y) = false\n",
    "@show same_type(1,2), same_type(1,2.0)\n",
    "\n",
    "myappend(v::Vector{T}, x::T) where {T} = [v..., x]\n",
    "@show myappend([1,2,3], 4)\n",
    "\n",
    "# redefining/add new methods\n",
    "#     changes don't take effect immediately\n",
    "@show Base.invokelatest(f, 1, 2)"
   ]
  },
  {
   "cell_type": "code",
   "execution_count": 8,
   "metadata": {},
   "outputs": [
    {
     "name": "stderr",
     "output_type": "stream",
     "text": [
      "\u001b[32m\u001b[1m Activating\u001b[22m\u001b[39m environment at `~/github/misc_impl/opt/Project.toml`\n"
     ]
    },
    {
     "data": {
      "text/plain": [
       "Main.MyModule"
      ]
     },
     "execution_count": 8,
     "metadata": {},
     "output_type": "execute_result"
    }
   ],
   "source": [
    "# https://docs.julialang.org/en/v1/manual/modules/\n",
    "# \n",
    "module MyModule\n",
    "\n",
    "using Pkg; Pkg.activate(\".\")\n",
    "using PyPlot: plot\n",
    "import Base.show\n",
    "\n",
    "# include(\"file1.jl\")\n",
    "\n",
    "export MyType, foo\n",
    "\n",
    "struct MyType\n",
    "    x\n",
    "end\n",
    "\n",
    "bar(x) = 2x # private\n",
    "foo(a::MyType) = bar(a.x) + 1\n",
    "\n",
    "end\n",
    "\n",
    "# Core, Base, Main\n",
    "# a baremodule only imports Core"
   ]
  },
  {
   "cell_type": "code",
   "execution_count": 9,
   "metadata": {},
   "outputs": [
    {
     "name": "stdout",
     "output_type": "stream",
     "text": [
      "zeros(Float32, 2, 3) = Float32[0.0 0.0 0.0; 0.0 0.0 0.0]\n",
      "ones(Int8, 2, 3) = Int8[1 1 1; 1 1 1]\n",
      "rand(2, 3) = [0.016655434382877976 0.4709429478545475 0.9793081095649061; 0.6644102549037443 0.6269082904616876 0.4592798637915976]\n",
      "randn(2, 3) = [-0.27658737166508257 -0.09945400366110076 -0.16545279517487915; -2.445668592985114 0.8746940924015222 -1.3362839949998482]\n",
      "[1:2, 4:5] = UnitRange{Int64}[1:2, 4:5]\n",
      "[1:2; 4:5] = [1, 2, 4, 5]\n",
      "[1:2 4:5] = [1 4; 2 5]\n",
      "[(1 / 4) * x[i - 1] + (1 / 2) * x[i] + (1 / 4) * x[i + 1] for i = 2:length(x) - 1] = [0.16045641131032284, 0.2501697594719469, 0.6570749853516551, 0.8335045523427642, 0.5867264655839761, 0.2596331630250575]\n",
      "sum((1 / n ^ 2 for n = 1:1000)) = 1.6439345666815615\n",
      "A[1, 1, 1, 1] = 1\n",
      "A[[1, 2], 1, [1, 2], 1] = [1 5; 2 6]\n",
      "A[[1 2; 1 2]] = [1 2; 1 2]\n",
      "(i, A[i]) = (1, 1)\n",
      "(i, A[i]) = (2, 2)\n",
      "(i, A[i]) = (3, 3)\n",
      "(i, A[i]) = (4, 4)\n",
      "(i, A[i]) = (5, 5)\n",
      "(i, A[i]) = (6, 6)\n",
      "(i, A[i]) = (7, 7)\n",
      "(i, A[i]) = (8, 8)\n",
      "(i, A[i]) = (9, 9)\n",
      "(i, A[i]) = (10, 10)\n",
      "(i, A[i]) = (11, 11)\n",
      "(i, A[i]) = (12, 12)\n",
      "(i, A[i]) = (13, 13)\n",
      "(i, A[i]) = (14, 14)\n",
      "(i, A[i]) = (15, 15)\n",
      "(i, A[i]) = (16, 16)\n",
      "repeat(a, 1, 3) + A == broadcast(+, a, A) == a .+ A = true\n"
     ]
    },
    {
     "data": {
      "text/plain": [
       "true"
      ]
     },
     "execution_count": 9,
     "metadata": {},
     "output_type": "execute_result"
    }
   ],
   "source": [
    "# https://docs.julialang.org/en/v1/manual/arrays/\n",
    "# \n",
    "@show zeros(Float32, 2,3)\n",
    "@show ones(Int8, 2,3)\n",
    "@show rand(2,3)\n",
    "@show randn(2,3)\n",
    "@show [1:2, 4:5] # creates 1-dim array containing values\n",
    "@show [1:2; 4:5] # vcat or cat(A...; dims=1)\n",
    "@show [1:2 4:5]  # hcat or cat(A...; dims=2)\n",
    "\n",
    "# comprehension\n",
    "x = rand(8)\n",
    "# take average of neighbors!\n",
    "@show [1/4*x[i-1] + 1/2*x[i] + 1/4*x[i+1] for i=2:length(x)-1] \n",
    "\n",
    "# generator (comprehension without [], ... no alloaction)\n",
    "@show sum(1/n^2 for n = 1:1000)\n",
    "\n",
    "# indexing\n",
    "A = reshape(collect(1:16), (2,2,2,2))\n",
    "@show A[1,1,1,1] # scalar index\n",
    "@show A[[1,2], 1, [1,2], 1]  # mixed scalar/vector index\n",
    "@show A[[1 2; 1 2]] # matrix index\n",
    "\n",
    "# iteration\n",
    "for i in eachindex(A)\n",
    "    @show i, A[i]\n",
    "end\n",
    "\n",
    "# broadcast\n",
    "a = rand(2,1); A = rand(2,3)\n",
    "@show repeat(a,1,3) + A == broadcast(+, a, A) == (a .+ A)\n",
    "\n",
    "\n",
    "# DenseArray: col-major contiguously allocated\n",
    "#     1d: Vector, 2d: Matrix\n",
    "# SubArray: created by `view` "
   ]
  },
  {
   "cell_type": "code",
   "execution_count": 10,
   "metadata": {},
   "outputs": [
    {
     "name": "stdout",
     "output_type": "stream",
     "text": [
      "([1 2; 3 4])[:] = [1, 3, 2, 4]\n",
      "  0.512402 seconds (10.00 M allocations: 1.043 GiB, 27.47% gc time)\n",
      "#= In[10]:42 =# @time(loopinc()) = 50000015000000\n",
      "  0.000907 seconds (1 allocation: 112 bytes)\n",
      "#= In[10]:43 =# @time(loopinc_prealloc()) = 500001500000\n",
      "  0.048470 seconds (123.23 k allocations: 13.643 MiB, 11.86% gc time)\n",
      "#= In[10]:49 =# @time(fcopy(x)) = 499920.6934555073\n",
      "  0.058268 seconds (261.73 k allocations: 12.954 MiB)\n",
      "#= In[10]:50 =# @time(fview(x)) = 499920.6934555073\n",
      "#= In[10]:54 =# @code_lowered(f([1, 2, 3])) = CodeInfo(\n",
      "1 ─ %1 = Base.broadcasted(Main.cos, x)\n",
      "│   %2 = Base.broadcasted(Main.sin, %1)\n",
      "│   %3 = Base.materialize(%2)\n",
      "└──      return %3\n",
      ")\n"
     ]
    },
    {
     "data": {
      "text/plain": [
       "CodeInfo(\n",
       "\u001b[90m1 ─\u001b[39m %1 = Base.broadcasted(Main.cos, x)\n",
       "\u001b[90m│  \u001b[39m %2 = Base.broadcasted(Main.sin, %1)\n",
       "\u001b[90m│  \u001b[39m %3 = Base.materialize(%2)\n",
       "\u001b[90m└──\u001b[39m      return %3\n",
       ")"
      ]
     },
     "execution_count": 10,
     "metadata": {},
     "output_type": "execute_result"
    }
   ],
   "source": [
    "# https://docs.julialang.org/en/v1/manual/performance-tips/\n",
    "#\n",
    "\n",
    "# perf with @time\n",
    "\n",
    "# Type declarations\n",
    "#    ⋅ declare type for attributes in a struct!\n",
    "\n",
    "# break functions into multiple definitions (multiplex by type of arg)\n",
    "\n",
    "# access arrays in memory order, along columns\n",
    "@show [1 2; 3 4][:]\n",
    "\n",
    "# pre-allocated array for max efficiency\n",
    "xinc(x) = [x, x+1, x+2]\n",
    "function loopinc()\n",
    "    y = 0\n",
    "    for i = 1:10^7\n",
    "        ret = xinc(i)\n",
    "        y += ret[2]\n",
    "    end\n",
    "    y\n",
    "end\n",
    "\n",
    "function xinc!(ret::AbstractVector{T}, x::T) where T\n",
    "    ret[1] = x\n",
    "    ret[2] = x + 1\n",
    "    ret[3] = x + 2\n",
    "    nothing\n",
    "end\n",
    "\n",
    "function loopinc_prealloc()\n",
    "    ret = Vector{Int}(undef, 3)\n",
    "    y = 0\n",
    "    for i = 1:10^6\n",
    "        xinc!(ret, i)\n",
    "        y += ret[2]\n",
    "    end\n",
    "    y\n",
    "end\n",
    "\n",
    "@show @time loopinc()\n",
    "@show @time loopinc_prealloc()\n",
    "\n",
    "# use views for slices\n",
    "fcopy(x) = sum(x[2:end-1])\n",
    "@views fview(x) = sum(x[2:end-1])\n",
    "x = rand(10^6)\n",
    "@show @time fcopy(x)\n",
    "@show @time fview(x)\n",
    "\n",
    "# @code macros\n",
    "f(x) = sin.(cos.(x))\n",
    "@show @code_lowered f([1,2,3])"
   ]
  },
  {
   "cell_type": "code",
   "execution_count": 11,
   "metadata": {},
   "outputs": [
    {
     "name": "stdout",
     "output_type": "stream",
     "text": [
      "GFlop/sec        = 2.1878941628077686\n",
      "GFlop/sec (SIMD) = 48.993189946597425\n"
     ]
    }
   ],
   "source": [
    "\n",
    "# @inbounds\n",
    "# @fastmath  floating point optimization for reals\n",
    "# @simd      iterations are indep and can be re-ordered\n",
    "\n",
    "@noinline function inner(x, y)\n",
    "    s = zero(eltype(x))\n",
    "    for i=eachindex(x)\n",
    "        @inbounds s += x[i]*y[i]\n",
    "    end\n",
    "    return s\n",
    "end\n",
    "\n",
    "@noinline function innersimd(x, y)\n",
    "    s = zero(eltype(x))\n",
    "    @simd for i = eachindex(x)\n",
    "        @inbounds s += x[i] * y[i]\n",
    "    end\n",
    "    return s\n",
    "end\n",
    "\n",
    "function timeit(n, reps)\n",
    "    x = rand(Float32, n)\n",
    "    y = rand(Float32, n)\n",
    "    s = zero(Float64)\n",
    "    time = @elapsed for j in 1:reps\n",
    "        s += inner(x, y)\n",
    "    end\n",
    "    println(\"GFlop/sec        = \", 2n*reps / time*1E-9)\n",
    "    time = @elapsed for j in 1:reps\n",
    "        s += innersimd(x, y)\n",
    "    end\n",
    "    println(\"GFlop/sec (SIMD) = \", 2n*reps / time*1E-9)\n",
    "end\n",
    "\n",
    "timeit(1000, 1000)"
   ]
  },
  {
   "cell_type": "code",
   "execution_count": null,
   "metadata": {},
   "outputs": [],
   "source": [
    "# https://docs.julialang.org/en/v1/manual/workflow-tips/\n",
    "#\n",
    "\n",
    "# Use Revise!"
   ]
  }
 ],
 "metadata": {
  "kernelspec": {
   "display_name": "Julia 1.4.0",
   "language": "julia",
   "name": "julia-1.4"
  },
  "language_info": {
   "file_extension": ".jl",
   "mimetype": "application/julia",
   "name": "julia",
   "version": "1.4.0"
  }
 },
 "nbformat": 4,
 "nbformat_minor": 2
}
