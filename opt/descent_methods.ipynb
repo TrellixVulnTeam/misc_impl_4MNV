{
 "cells": [
  {
   "cell_type": "code",
   "execution_count": null,
   "metadata": {},
   "outputs": [
    {
     "name": "stderr",
     "output_type": "stream",
     "text": [
      "┌ Info: Recompiling stale cache file /home/wpq/.julia/compiled/v1.0/PyPlot/oatAj.ji for PyPlot [d330b81b-6aea-500a-939a-2ce795aea3ee]\n",
      "└ @ Base loading.jl:1190\n"
     ]
    }
   ],
   "source": [
    "using Pkg; Pkg.activate(\".\")\n",
    "using Revise\n",
    "using PyPlot"
   ]
  },
  {
   "cell_type": "code",
   "execution_count": 2,
   "metadata": {},
   "outputs": [
    {
     "data": {
      "text/plain": [
       "save_x! (generic function with 1 method)"
      ]
     },
     "execution_count": 2,
     "metadata": {},
     "output_type": "execute_result"
    }
   ],
   "source": [
    "function rosenbrock(x)\n",
    "    # global min: [1 1]\n",
    "   100*(x[2] - x[1]^2)^2 + (1. - x[1])^2 \n",
    "end\n",
    "\n",
    "function rosenbrock_grad!(G, x)\n",
    "    G[1] = -2.0 * (1.0 - x[1]) - 400.0 * (x[2] - x[1]^2) * x[1]\n",
    "    G[2] = 200.0 * (x[2] - x[1]^2)\n",
    "end\n",
    "\n",
    "function rosenbrock_hess!(H, x)\n",
    "    H[1, 1] = 2.0 - 400.0 * x[2] + 1200.0 * x[1]^2\n",
    "    H[1, 2] = -400.0 * x[1]\n",
    "    H[2, 1] = -400.0 * x[1]\n",
    "    H[2, 2] = 200.0\n",
    "end\n",
    "\n",
    "function save_fx!(fvals, i, fx)\n",
    "    fvals[i] = fx\n",
    "end\n",
    "\n",
    "function save_x!(xs, i, x)\n",
    "    xs[i] = x\n",
    "end    "
   ]
  },
  {
   "cell_type": "code",
   "execution_count": null,
   "metadata": {},
   "outputs": [],
   "source": [
    "# args\n",
    "x0 = [0.0, 0.0]\n",
    "alpha = 0.1\n",
    "f = rosenbrock\n",
    "grad! = rosenbrock_grad!\n",
    "n_iterations = 10\n",
    "x_reltol = 0\n",
    "f_reltol = 0\n",
    "g_abstol = 1e-8\n",
    "\n",
    "# pre-allocated\n",
    "fvals = zeros(n_iterations)"
   ]
  },
  {
   "cell_type": "code",
   "execution_count": null,
   "metadata": {},
   "outputs": [],
   "source": [
    "g = similar(x0)\n",
    "x = copy(x0)\n",
    "\n",
    "for i in 1:n_iterations\n",
    "    grad!(g, x)\n",
    "    @. x = x - alpha*g\n",
    "    \n",
    "end"
   ]
  },
  {
   "cell_type": "code",
   "execution_count": null,
   "metadata": {},
   "outputs": [],
   "source": [
    "plot(1:n_iterations, fvals)"
   ]
  },
  {
   "cell_type": "code",
   "execution_count": null,
   "metadata": {},
   "outputs": [],
   "source": []
  }
 ],
 "metadata": {
  "kernelspec": {
   "display_name": "Julia 1.0.5",
   "language": "julia",
   "name": "julia-1.0"
  },
  "language_info": {
   "file_extension": ".jl",
   "mimetype": "application/julia",
   "name": "julia",
   "version": "1.0.5"
  }
 },
 "nbformat": 4,
 "nbformat_minor": 2
}
