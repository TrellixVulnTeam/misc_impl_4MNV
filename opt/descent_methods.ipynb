{
 "cells": [
  {
   "cell_type": "code",
   "execution_count": null,
   "metadata": {
    "scrolled": false
   },
   "outputs": [],
   "source": [
    "using Pkg; Pkg.activate(\".\")\n",
    "using Revise\n",
    "import Plots: @animate, plot3d, gif, @gif\n",
    "import PyPlot\n",
    "import PyPlot: subplot, title, xlabel, ylabel, ylim, xlim, plot\n",
    "import LinearAlgebra: norm, dot\n",
    "import Base\n",
    "import SparseArrays: spdiagm, sprand, spzeros\n",
    "\n",
    "include(\"Opt.jl\")\n",
    "import .Opt"
   ]
  },
  {
   "cell_type": "code",
   "execution_count": null,
   "metadata": {},
   "outputs": [],
   "source": [
    "n = Int64(1e2)\n",
    "f, grad! = Opt.hard_leastsquares_problem(n)\n",
    "\n",
    "x = sprand(n, 0.5)\n",
    "g = similar(x)\n",
    "grad!(g,x)\n",
    "\n",
    "@show f(x)\n",
    "@show size(g)"
   ]
  },
  {
   "cell_type": "code",
   "execution_count": null,
   "metadata": {},
   "outputs": [],
   "source": [
    "# pre-allocated\n",
    "x0 = spzeros(n)\n",
    "n_iterations = 10\n",
    "\n",
    "Γf = zeros(n_iterations, n+1)\n",
    "grad_norm = zeros(n_iterations)\n",
    "\n",
    "function access_state(state)\n",
    "    Γf[state.k,:] = [state.x..., state.f]\n",
    "    grad_norm[state.k] = norm(state.g)\n",
    "end\n",
    "\n",
    "Opt.gradient_descent(x0, f, grad!;\n",
    "    α = 0.001,\n",
    "    n_iterations = n_iterations,\n",
    "    access_state = access_state)"
   ]
  },
  {
   "cell_type": "code",
   "execution_count": null,
   "metadata": {},
   "outputs": [],
   "source": [
    "subplot(211)\n",
    "PyPlot.plot(1:n_iterations, Γf[:,end])\n",
    "title(\"f(x)\")\n",
    "xlabel(\"k\")\n",
    "\n",
    "subplot(212)\n",
    "PyPlot.plot(1:n_iterations, grad_norm)\n",
    "title(\"|∇f(x)|\")\n",
    "xlabel(\"k\")"
   ]
  },
  {
   "cell_type": "code",
   "execution_count": null,
   "metadata": {},
   "outputs": [],
   "source": [
    "x0 = spzeros(n)\n",
    "n_iterations = 1000\n",
    "α₀ = 0.01\n",
    "barzilaiborwein_type = 1\n",
    "g_abstol = 1e-8\n",
    "access_state(state) = nothing\n",
    "\n",
    "x = copy(x0)\n",
    "g = copy(x0); grad!(g, x)\n",
    "u, v = zeros(size(x0)), zeros(size(x0))\n",
    "\n",
    "s = Opt.GradientDescentBarzilaiBorweinState(x0)\n",
    "grad!(s.g, x)\n",
    "\n",
    "for k in 1:n_iterations\n",
    "    \n",
    "    s.k, s.f = k, f(x)\n",
    "    @. s.x_prev = s.x\n",
    "    @. s.x = x\n",
    "    @. s.g_prev = s.g\n",
    "    @. s.g = g\n",
    "\n",
    "    if k == 1\n",
    "        # should do line search\n",
    "        s.α = α₀\n",
    "    else\n",
    "        u = s.x - s.x_prev\n",
    "        v = s.g - s.g_prev\n",
    "        s.α = (barzilaiborwein_type == 1) ?\n",
    "            dot(u, v) / norm(v)^2 :\n",
    "            norm(u)^2 / dot(u, v)\n",
    "    end\n",
    "\n",
    "    access_state(s)        \n",
    "\n",
    "    x = s.x + s.α*(-s.g)\n",
    "    grad!(g, x)\n",
    "\n",
    "    if norm(s.g) <= g_abstol\n",
    "        println(\"Terminate at k=$k: |∇f(x)| = $(norm(s.g)) <= $g_abstol\")\n",
    "        break\n",
    "    end\n",
    "end"
   ]
  },
  {
   "cell_type": "code",
   "execution_count": null,
   "metadata": {},
   "outputs": [],
   "source": [
    "x0 = spzeros(n)\n",
    "n_iterations = 10\n",
    "fs = zeros(n_iterations)\n",
    "grad_norm = zeros(n_iterations)\n",
    "αs = zeros(n_iterations)\n",
    "\n",
    "function access_state(state)\n",
    "    fs[state.k] = state.f\n",
    "    grad_norm[state.k] = norm(state.g)\n",
    "    αs[state.k] = state.α\n",
    "end\n",
    "\n",
    "Opt.gradient_descent_barzilaiborwein(x0, f, grad!;\n",
    "    n_iterations = n_iterations,\n",
    "    access_state = access_state)"
   ]
  },
  {
   "cell_type": "code",
   "execution_count": null,
   "metadata": {},
   "outputs": [],
   "source": [
    "N = 10\n",
    "xs = 2:N\n",
    "\n",
    "subplot(221)\n",
    "PyPlot.plot(xs, fs[xs])\n",
    "ylabel(\"f(x)\")\n",
    "xlabel(\"k\")\n",
    "\n",
    "subplot(222)\n",
    "PyPlot.plot(xs, grad_norm[xs])\n",
    "ylabel(\"|∇f(x)|\")\n",
    "xlabel(\"k\")\n",
    "\n",
    "subplot(223)\n",
    "PyPlot.plot(xs, αs[xs])\n",
    "ylabel(\"α\")\n",
    "xlabel(\"k\")"
   ]
  },
  {
   "cell_type": "code",
   "execution_count": null,
   "metadata": {},
   "outputs": [],
   "source": []
  },
  {
   "cell_type": "code",
   "execution_count": null,
   "metadata": {},
   "outputs": [],
   "source": [
    "import Plots\n",
    "import Plots: @animate, plot3d, gif\n",
    "\n",
    "step = 1\n",
    "s = collect(1:step:n_iterations)\n",
    "fs = fs[s]\n",
    "\n",
    "x = range(-2;stop=2,length=100)\n",
    "y = range(-1;stop=3,length=100)\n",
    "z = x .+ y\n",
    "\n",
    "plt = Plots.plot(\n",
    "    range(-2;stop=2,length=100),\n",
    "    range(-1;stop=3,length=100),\n",
    "    (x,y) -> rosenbrock([x y]),\n",
    "    st=:contourf, camera=(-30,30))\n",
    "\n",
    "plt = Plots.plot(\n",
    "    1,\n",
    "    xlim = (-2, 2),\n",
    "    ylim = (-1, 3),\n",
    "    zlim = (0, 2500),\n",
    "    title = \"Descent Methods\",\n",
    "    marker = 3)\n",
    "\n",
    "anim = @animate for k=1:size(s, 1)\n",
    "    push!(plt, Γfs[k,1], Γfs[k,2], Γfs[k])\n",
    "end\n",
    "\n",
    "Plots.gif(anim, \"tmp.gif\", fps = 15)"
   ]
  },
  {
   "cell_type": "code",
   "execution_count": null,
   "metadata": {},
   "outputs": [],
   "source": []
  }
 ],
 "metadata": {
  "kernelspec": {
   "display_name": "Julia 1.4.0",
   "language": "julia",
   "name": "julia-1.4"
  },
  "language_info": {
   "file_extension": ".jl",
   "mimetype": "application/julia",
   "name": "julia",
   "version": "1.4.0"
  }
 },
 "nbformat": 4,
 "nbformat_minor": 2
}
