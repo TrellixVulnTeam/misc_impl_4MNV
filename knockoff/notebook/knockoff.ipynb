{
 "cells": [
  {
   "cell_type": "markdown",
   "metadata": {},
   "source": [
    "# Knockoff on Linear Gaussian Model\n",
    "\n",
    "\n",
    "+ generate knockoff with closed formula, in case x ~ Normal"
   ]
  },
  {
   "cell_type": "code",
   "execution_count": 8,
   "metadata": {},
   "outputs": [],
   "source": [
    "import os\n",
    "import sys\n",
    "\n",
    "module_paths = [\n",
    "    '../external/deepknockoffs/DeepKnockoffs/DeepKnockoffs',  # kfilter\n",
    "    '../external/deepknockoffs/examples'\n",
    "]\n",
    "module_paths = [os.path.abspath(os.path.join(x)) for x in module_paths]\n",
    "for module_path in module_paths:\n",
    "    if module_path not in sys.path:\n",
    "        sys.path.append(module_path)\n",
    "\n",
    "\n",
    "import math\n",
    "import numpy as np\n",
    "import matplotlib.pyplot as plt\n",
    "\n",
    "from DeepKnockoffs.gaussian import GaussianKnockoffs\n",
    "from DeepKnockoffs.kfilter import kfilter\n",
    "\n",
    "import shap"
   ]
  },
  {
   "cell_type": "code",
   "execution_count": 2,
   "metadata": {},
   "outputs": [],
   "source": [
    "from sklearn import preprocessing\n",
    "from glmnet import LogitNet\n",
    "\n",
    "def lasso_stats(X,Xk,y,alpha=0.1,scale=True):\n",
    "    #\n",
    "    # W: lasso difference coefficient\n",
    "    # Z: \n",
    "    #\n",
    "    X  = X.astype(\"float\")\n",
    "    Xk = Xk.astype(\"float\")\n",
    "    p = X.shape[1]\n",
    "    if scale:\n",
    "        X_concat = preprocessing.scale(np.concatenate((X,Xk),1))\n",
    "    else:\n",
    "        X_concat = np.concatenate((X,Xk),1)\n",
    "    cols_order = np.random.choice(X_concat.shape[1],X_concat.shape[1],replace=False)\n",
    "    m = LogitNet(alpha=0.1, n_splits=3)\n",
    "    m.fit(X_concat[:,cols_order].copy(), y.copy())\n",
    "    Z = np.zeros((2*p,))\n",
    "    Z[cols_order] = m.coef_.squeeze()\n",
    "    W = np.abs(Z[0:p]) - np.abs(Z[p:(2*p)])\n",
    "    return W.squeeze(), Z"
   ]
  },
  {
   "cell_type": "code",
   "execution_count": 88,
   "metadata": {},
   "outputs": [],
   "source": [
    "# number of data point\n",
    "n = 1000\n",
    "# number of variables \n",
    "p = 1000\n",
    "# number of variables with nonzero coefficients\n",
    "k = 60\n",
    "# magnitude of nonzero coefficients\n",
    "amplitude = 15\n",
    "# noise level \n",
    "sigma = 1\n",
    "# target FDR \n",
    "q = 0.5"
   ]
  },
  {
   "cell_type": "code",
   "execution_count": 89,
   "metadata": {},
   "outputs": [],
   "source": [
    "np.random.seed(0)\n",
    "\n",
    "Sigma = np.eye(p)\n",
    "mu = np.zeros(p)\n",
    "S0 = np.random.choice(p, k, replace=False)\n",
    "beta = np.zeros(p)\n",
    "beta[S0] = amplitude/np.sqrt(n)\n",
    "\n",
    "def sigmoid(x):\n",
    "    return np.exp(x)/(1 + np.exp(x))\n",
    "\n",
    "def logistic_model(X):\n",
    "    return sigmoid(X@beta)\n",
    "\n",
    "def sample_logistic(X):\n",
    "    return np.random.binomial(1, logistic_model(X))\n",
    "\n",
    "def summary(S):\n",
    "    \n",
    "    true_discovery = sum(beta[S] > 0)\n",
    "    power = true_discovery*100/k\n",
    "    FDP = sum(beta[S] == 0) / max(1, np.size(S))\n",
    "    \n",
    "    print(f\"\"\"\n",
    "        true_discovery = {true_discovery}/{k} (power = {power}%)\n",
    "        FDP = {FDP} % (target FDR = {q})\n",
    "    \"\"\")"
   ]
  },
  {
   "cell_type": "code",
   "execution_count": 90,
   "metadata": {},
   "outputs": [
    {
     "data": {
      "text/plain": [
       "((1000, 1000), (1000,))"
      ]
     },
     "execution_count": 90,
     "metadata": {},
     "output_type": "execute_result"
    }
   ],
   "source": [
    "# Data\n",
    "X = np.random.multivariate_normal(mu, Sigma, size=n)\n",
    "y = sample_logistic(X)\n",
    "np.shape(X), np.shape(y)"
   ]
  },
  {
   "cell_type": "code",
   "execution_count": 91,
   "metadata": {},
   "outputs": [
    {
     "name": "stdout",
     "output_type": "stream",
     "text": [
      "threshold: 0.00018660335538271783\n",
      "\n",
      "        true_discovery = 46/60 (power = 76.66666666666667%)\n",
      "        FDP = 0.23333333333333334 % (target FDR = 0.5)\n",
      "    \n"
     ]
    }
   ],
   "source": [
    "# 1) Generate knockoffs X_k\n",
    "knockoff_generator = GaussianKnockoffs(Sigma, method='equi') # method='equi' too slow\n",
    "X_k = knockoff_generator.generate(X)\n",
    "# 2) Compute pairwise statistics W\n",
    "W, Z = lasso_stats(X,X_k,y,alpha=0,scale=False)\n",
    "# 3) Compute threshold \n",
    "t = kfilter(W, q=q)\n",
    "print(f'threshold: {t}')\n",
    "# 4) Perform Test\n",
    "S = np.where(W >= t)[0]\n",
    "summary(S)"
   ]
  },
  {
   "cell_type": "code",
   "execution_count": 116,
   "metadata": {},
   "outputs": [
    {
     "data": {
      "application/vnd.jupyter.widget-view+json": {
       "model_id": "18533285189d48449ead1a83c9b392a1",
       "version_major": 2,
       "version_minor": 0
      },
      "text/plain": [
       "HBox(children=(FloatProgress(value=0.0, max=50.0), HTML(value='')))"
      ]
     },
     "metadata": {},
     "output_type": "display_data"
    },
    {
     "name": "stdout",
     "output_type": "stream",
     "text": [
      "\n"
     ]
    },
    {
     "data": {
      "application/vnd.jupyter.widget-view+json": {
       "model_id": "0e21a915d206401b80071408c8d0c5fe",
       "version_major": 2,
       "version_minor": 0
      },
      "text/plain": [
       "HBox(children=(FloatProgress(value=0.0, max=50.0), HTML(value='')))"
      ]
     },
     "metadata": {},
     "output_type": "display_data"
    },
    {
     "name": "stdout",
     "output_type": "stream",
     "text": [
      "\n",
      "accumulated pairwise statistics\n",
      "threshold: 0.014718101639042153\n",
      "\n",
      "        true_discovery = 33/60 (power = 55.0%)\n",
      "        FDP = 0.0 % (target FDR = 0.5)\n",
      "    \n"
     ]
    }
   ],
   "source": [
    "# Use SHAP to compute pairwise statistics\n",
    "#\n",
    "np.random.seed(0)\n",
    "\n",
    "# 1) Generate knockoffs X_k\n",
    "knockoff_generator = GaussianKnockoffs(Sigma, method='equi') # method='equi' too slow\n",
    "X_k = knockoff_generator.generate(X)\n",
    "\n",
    "# for sample_id in range(30):\n",
    "#     print(f'sample_id={sample_id}')\n",
    "\n",
    "#     # 2) Compute pairwise statistics W, based on X[sample_id,:] X_k[sample_id,:]\n",
    "#     explainer   = shap.KernelExplainer(logistic_model, shap.kmeans(X, 3))\n",
    "#     explainer_k = shap.KernelExplainer(logistic_model, shap.kmeans(X_k, 3))\n",
    "#     shap_values = explainer.shap_values(X[sample_id,:])\n",
    "#     shap_values_k = explainer.shap_values(X_k[sample_id,:])\n",
    "#     # # difference in magnitude\n",
    "#     W = np.abs(shap_values) - np.abs(shap_values_k)\n",
    "\n",
    "#     # 3) Compute threshold \n",
    "#     t = kfilter(W, q=q,offset=0)\n",
    "#     print(f'threshold: {t}')\n",
    "#     # 4) Perform Test\n",
    "#     S = np.where(W >= t)[0]\n",
    "#     summary(S)\n",
    "\n",
    "explainer   = shap.KernelExplainer(logistic_model, shap.kmeans(X, 3))\n",
    "explainer_k = shap.KernelExplainer(logistic_model, shap.kmeans(X_k, 3))\n",
    "shap_values = explainer.shap_values(X[:50,:])\n",
    "shap_values_k = explainer.shap_values(X_k[:50,:])   \n",
    "W_acc = np.mean(shap_values,axis=0) - np.mean(shap_values_k,axis=0)\n",
    "\n",
    "print('accumulated pairwise statistics')\n",
    "# 3) Compute threshold \n",
    "t = kfilter(W_acc, q=q,offset=0)\n",
    "print(f'threshold: {t}')\n",
    "# 4) Perform Test\n",
    "S = np.where(W >= t)[0]\n",
    "summary(S)"
   ]
  },
  {
   "cell_type": "code",
   "execution_count": 130,
   "metadata": {},
   "outputs": [
    {
     "name": "stdout",
     "output_type": "stream",
     "text": [
      "accumulated pairwise statistics\n",
      "threshold: 0.01856918258411911\n",
      "\n",
      "        true_discovery = 32/60 (power = 53.333333333333336%)\n",
      "        FDP = 0.0 % (target FDR = 0.5)\n",
      "    \n"
     ]
    }
   ],
   "source": [
    "W_acc = np.mean(np.abs(shap_values),axis=0) - np.mean(np.abs(shap_values_k),axis=0)\n",
    "\n",
    "print('accumulated pairwise statistics')\n",
    "# 3) Compute threshold \n",
    "t = kfilter(W_acc, q=q,offset=0)\n",
    "print(f'threshold: {t}')\n",
    "# 4) Perform Test\n",
    "S = np.where(W >= t)[0]\n",
    "summary(S)"
   ]
  },
  {
   "cell_type": "code",
   "execution_count": null,
   "metadata": {},
   "outputs": [],
   "source": [
    "I = np.argsort(W_acc)\n",
    "np.intersect1d(S0,I[:100]), S0, I[:100], W_acc[I[:100]]\n",
    "\n",
    "\n",
    "# shap_values[:30], shap_values_k[:30]"
   ]
  },
  {
   "cell_type": "code",
   "execution_count": null,
   "metadata": {},
   "outputs": [],
   "source": [
    "\n",
    "compute_first_n_shap_values = 10\n",
    "shap_values = explainer.shap_values(X[:compute_first_n_shap_values,:])"
   ]
  },
  {
   "cell_type": "code",
   "execution_count": null,
   "metadata": {},
   "outputs": [],
   "source": [
    "shap.initjs()\n",
    "shap.force_plot(float(explainer.expected_value), shap_values[:10,:], X[:10,:])\n",
    "# shap.force_plot(explainer.expected_value[0], shap_values[0], X_test, link=\"logit\")\n"
   ]
  },
  {
   "cell_type": "code",
   "execution_count": null,
   "metadata": {},
   "outputs": [],
   "source": [
    "sample_ind = 0\n",
    "shap.waterfall_plot(explainer.expected_value, shap_values[sample_ind], X[sample_ind,:], max_display=14)\n"
   ]
  },
  {
   "cell_type": "code",
   "execution_count": null,
   "metadata": {},
   "outputs": [],
   "source": [
    "shap.summary_plot(shap_values, X[:10,:], max_display=14)"
   ]
  },
  {
   "cell_type": "code",
   "execution_count": 79,
   "metadata": {},
   "outputs": [],
   "source": []
  },
  {
   "cell_type": "code",
   "execution_count": null,
   "metadata": {},
   "outputs": [],
   "source": []
  }
 ],
 "metadata": {
  "kernelspec": {
   "display_name": "Python 3",
   "language": "python",
   "name": "python3"
  },
  "language_info": {
   "codemirror_mode": {
    "name": "ipython",
    "version": 3
   },
   "file_extension": ".py",
   "mimetype": "text/x-python",
   "name": "python",
   "nbconvert_exporter": "python",
   "pygments_lexer": "ipython3",
   "version": "3.7.7"
  }
 },
 "nbformat": 4,
 "nbformat_minor": 4
}
