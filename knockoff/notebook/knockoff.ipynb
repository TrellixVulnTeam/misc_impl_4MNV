{
 "cells": [
  {
   "cell_type": "markdown",
   "metadata": {},
   "source": [
    "# Knockoff on Linear Gaussian Model\n",
    "\n",
    "\n",
    "+ generate knockoff with closed formula, in case x ~ Normal"
   ]
  },
  {
   "cell_type": "code",
   "execution_count": 1,
   "metadata": {},
   "outputs": [],
   "source": [
    "import os\n",
    "import sys\n",
    "\n",
    "module_paths = [\n",
    "    '../deepknockoffs/DeepKnockoffs/DeepKnockoffs',\n",
    "    '../deepknockoffs/examples'\n",
    "]\n",
    "module_paths = [os.path.abspath(os.path.join(x)) for x in module_paths]\n",
    "for module_path in module_paths:\n",
    "    if module_path not in sys.path:\n",
    "        sys.path.append(module_path)\n",
    "\n",
    "\n",
    "import math\n",
    "import numpy as np\n",
    "import matplotlib.pyplot as plt\n",
    "np.random.seed(0)\n",
    "\n",
    "from DeepKnockoffs.gaussian import GaussianKnockoffs\n",
    "from DeepKnockoffs.kfilter import kfilter"
   ]
  },
  {
   "cell_type": "code",
   "execution_count": 62,
   "metadata": {},
   "outputs": [],
   "source": [
    "from sklearn import preprocessing\n",
    "from glmnet import LogitNet\n",
    "\n",
    "def lasso_stats(X,Xk,y,alpha=0.1,scale=True):\n",
    "    X  = X.astype(\"float\")\n",
    "    Xk = Xk.astype(\"float\")\n",
    "    p = X.shape[1]\n",
    "    if scale:\n",
    "        X_concat = preprocessing.scale(np.concatenate((X,Xk),1))\n",
    "    else:\n",
    "        X_concat = np.concatenate((X,Xk),1)\n",
    "    cols_order = np.random.choice(X_concat.shape[1],X_concat.shape[1],replace=False)\n",
    "    m = LogitNet(alpha=0.1, n_splits=3)\n",
    "    m.fit(X_concat[:,cols_order].copy(), y.copy())\n",
    "    Z = np.zeros((2*p,))\n",
    "    Z[cols_order] = m.coef_.squeeze()\n",
    "    W = np.abs(Z[0:p]) - np.abs(Z[p:(2*p)])\n",
    "    return W.squeeze(), Z"
   ]
  },
  {
   "cell_type": "code",
   "execution_count": 63,
   "metadata": {},
   "outputs": [],
   "source": [
    "# number of data point\n",
    "n = 1000\n",
    "# number of variables \n",
    "p = 1000\n",
    "# number of variables with nonzero coefficients\n",
    "k = 60\n",
    "# magnitude of nonzero coefficients\n",
    "amplitude = 15\n",
    "# noise level \n",
    "sigma = 1\n",
    "# target FDR \n",
    "q = 0.1"
   ]
  },
  {
   "cell_type": "code",
   "execution_count": 64,
   "metadata": {},
   "outputs": [],
   "source": [
    "Sigma = np.eye(p)\n",
    "mu = np.zeros(p)\n",
    "\n",
    "S0 = np.random.choice(n, k, replace=False)\n",
    "beta = np.zeros(p)\n",
    "beta[S0] = amplitude/np.sqrt(n)\n",
    "\n",
    "def sigmoid(x):\n",
    "    return np.exp(x)/(1 + np.exp(x))\n",
    "\n",
    "def sample_logistic(X):\n",
    "    return np.random.binomial(1, sigmoid(X@beta))\n",
    "\n",
    "def summary(S):\n",
    "    \n",
    "    true_discovery = sum(beta[S] > 0)\n",
    "    power = true_discovery*100/k\n",
    "    FDP = sum(beta[S] == 0) / max(1, np.size(S))\n",
    "    \n",
    "    print(f\"\"\"\n",
    "        true_discovery = {true_discovery} (power = {power})\n",
    "        FDP = {FDP} % (target FDR = {q})\n",
    "    \"\"\")"
   ]
  },
  {
   "cell_type": "code",
   "execution_count": 65,
   "metadata": {},
   "outputs": [
    {
     "name": "stdout",
     "output_type": "stream",
     "text": [
      "threshold: 0.008534440448662441\n",
      "\n",
      "        true_discovery = 39 (power = 65.0)\n",
      "        FDP = 0.15217391304347827 % (target FDR = 0.1)\n",
      "    \n"
     ]
    }
   ],
   "source": [
    "X = np.random.multivariate_normal(mu, Sigma, size=n)\n",
    "y = sample_logistic(X)\n",
    "\n",
    "knockoff_generator = GaussianKnockoffs(Sigma, method='equi')\n",
    "X_k = knockoff_generator.generate(X)\n",
    "\n",
    "W, Z = lasso_stats(X,X_k,y,alpha=0,scale=False)\n",
    "t = kfilter(W, q=q)\n",
    "print(f'threshold: {t}')\n",
    "\n",
    "S = np.where(W >= t)[0]\n",
    "summary(S)"
   ]
  },
  {
   "cell_type": "code",
   "execution_count": 67,
   "metadata": {},
   "outputs": [
    {
     "name": "stdout",
     "output_type": "stream",
     "text": [
      "threshold: 0.023464253992070666\n",
      "\n",
      "        true_discovery = 29 (power = 48.333333333333336)\n",
      "        FDP = 0.09375 % (target FDR = 0.1)\n",
      "    \n"
     ]
    }
   ],
   "source": [
    "X = np.random.multivariate_normal(mu, Sigma, size=n)\n",
    "y = sample_logistic(X)\n",
    "\n",
    "knockoff_generator = GaussianKnockoffs(Sigma, method='sdp')\n",
    "X_k = knockoff_generator.generate(X)\n",
    "\n",
    "W, Z = lasso_stats(X,X_k,y,alpha=0,scale=False)\n",
    "t = kfilter(W, q=q)\n",
    "print(f'threshold: {t}')\n",
    "\n",
    "S = np.where(W >= t)[0]\n",
    "summary(S)"
   ]
  },
  {
   "cell_type": "code",
   "execution_count": null,
   "metadata": {},
   "outputs": [],
   "source": []
  }
 ],
 "metadata": {
  "kernelspec": {
   "display_name": "Python 3",
   "language": "python",
   "name": "python3"
  },
  "language_info": {
   "codemirror_mode": {
    "name": "ipython",
    "version": 3
   },
   "file_extension": ".py",
   "mimetype": "text/x-python",
   "name": "python",
   "nbconvert_exporter": "python",
   "pygments_lexer": "ipython3",
   "version": "3.7.7"
  }
 },
 "nbformat": 4,
 "nbformat_minor": 4
}
