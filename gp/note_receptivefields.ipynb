{
 "cells": [
  {
   "cell_type": "markdown",
   "id": "treated-addiction",
   "metadata": {},
   "source": [
    "goal\n",
    "- conv architecture for bagnet using 1x1 convolution. \n",
    "    - verify receptive field computation etc.\n",
    "- implement functions to draw bounding boxes"
   ]
  },
  {
   "cell_type": "code",
   "execution_count": null,
   "id": "vital-dover",
   "metadata": {},
   "outputs": [],
   "source": [
    "import os\n",
    "os.environ[\"CUDA_DEVICE_ORDER\"] = \"PCI_BUS_ID\"\n",
    "os.environ['CUDA_VISIBLE_DEVICES'] = '4'\n",
    "os.environ['TF_CPP_VMODULE'] = '=bfc_allocator=1'\n",
    "os.environ['TF_CPP_MIN_LOG_LEVEL'] = '0'\n",
    "os.environ['XLA_FLAGS'] = '--xla_gpu_cuda_data_dir=/usr/local/cuda'\n",
    "os.environ[\"XLA_PYTHON_CLIENT_PREALLOCATE\"] = \"false\"\n",
    "os.environ[\"XLA_PYTHON_CLIENT_ALLOCATOR\"] = \"platform\"\n",
    "os.environ['LD_LIBRARY_PATH'] = '${LD_LIBRARY_PATH}:/usr/local/cuda/lib64'\n",
    "\n",
    "import jax\n",
    "import jax.numpy as np\n",
    "from jax import random, vjp, vmap\n",
    "from flax import linen as nn\n",
    "from flax.core import freeze, unfreeze\n",
    "\n",
    "import matplotlib.pyplot as plt\n",
    "import matplotlib.patches as patches\n"
   ]
  },
  {
   "cell_type": "code",
   "execution_count": null,
   "id": "italic-moisture",
   "metadata": {
    "scrolled": false
   },
   "outputs": [],
   "source": [
    "\n",
    "def compute_receptive_fields(model_def, in_shape, spike_loc=None):\n",
    "    \"\"\"Computes receptive fields using gradients\n",
    "        For images, returns receptive fields for (h, w)\n",
    "    \"\"\"\n",
    "    x = np.ones(in_shape)\n",
    "    model = model_def()\n",
    "    params = model.init(random.PRNGKey(0), x)\n",
    "    params = freeze(jax.tree_map(lambda w: np.ones(w.shape),\n",
    "                                 unfreeze(params)))\n",
    "    # vjp (𝑥,𝑣)↦∂𝑓(𝑥)ᵀv\n",
    "    # vjp :: (a -> b) -> a -> (b, CT b -> CT a)\n",
    "    #     vjp: (f, x) -> (f(x), vjp_fn) where vjp_fn: u -> v\n",
    "    f = lambda x: model.apply(params, x)\n",
    "    y, vjp_fn = vjp(f, x)\n",
    "    S = y.shape\n",
    "    gy = np.zeros(S)\n",
    "    if spike_loc is not None:\n",
    "        ind = jax.ops.index[0, spike_loc[:,0], spike_loc[:,1], ...]\n",
    "    else:\n",
    "        ind = jax.ops.index[0, S[1]//2, S[2]//2, ...]\n",
    "    gy = jax.ops.index_update(gy, ind, 1)\n",
    "    gx = vjp_fn(gy)[0]\n",
    "    I = np.where(gx!=0)\n",
    "    rf = np.array([np.max(idx)-np.min(idx)+1\n",
    "                   for idx in I])[[1,2]] # (y, x)\n",
    "    return rf, gx\n",
    "\n",
    "\n",
    "class CNN(nn.Module):\n",
    "\n",
    "    @nn.compact\n",
    "    def __call__(self, x):\n",
    "        x = nn.Conv(features=32, kernel_size=(3, 3))(x)\n",
    "        x = nn.relu(x)\n",
    "        x = nn.avg_pool(x, window_shape=(2, 2), strides=(2, 2))\n",
    "        x = nn.Conv(features=64, kernel_size=(3, 3))(x)\n",
    "        x = nn.relu(x)\n",
    "        x = nn.avg_pool(x, window_shape=(2, 2), strides=(2, 2))\n",
    "        return x\n",
    "    \n",
    "\n",
    "h, w = 28, 28\n",
    "in_shape = (1, h, w, 1)\n",
    "spike_loc = np.array([[1, 1], [1, -2], [-2, 1], [-2, -2]])\n",
    "# input_loc = np.array([[1, 1], []])\n",
    "rf, _ = compute_receptive_fields(CNN, in_shape)\n",
    "_, gx = compute_receptive_fields(CNN, in_shape, spike_loc)\n",
    "\n",
    "fig, ax = plt.subplots(1,1,figsize=(10,10))\n",
    "ax.imshow(gx.squeeze(), cmap='Greys')\n",
    "r = rf//2\n",
    "xy = (h//2-r[1]-.5, w//2-r[0]-.5) # half-pixel\n",
    "rect = patches.Rectangle(xy, rf[1], rf[0],\n",
    "    linewidth=1, edgecolor='r', facecolor='none')\n",
    "ax.add_patch(rect)\n",
    "\n",
    "\n",
    "\n",
    "rf\n"
   ]
  },
  {
   "cell_type": "code",
   "execution_count": null,
   "id": "related-parker",
   "metadata": {},
   "outputs": [],
   "source": [
    "x = np.ones((1,10,10,1))\n",
    "model = CNN()\n",
    "key = random.PRNGKey(0)\n",
    "params = model.init(key, x)\n",
    "model.apply(params, x).shape"
   ]
  }
 ],
 "metadata": {
  "kernelspec": {
   "display_name": "Python [conda env:cxrs] *",
   "language": "python",
   "name": "conda-env-cxrs-py"
  },
  "language_info": {
   "codemirror_mode": {
    "name": "ipython",
    "version": 3
   },
   "file_extension": ".py",
   "mimetype": "text/x-python",
   "name": "python",
   "nbconvert_exporter": "python",
   "pygments_lexer": "ipython3",
   "version": "3.7.9"
  }
 },
 "nbformat": 4,
 "nbformat_minor": 5
}
