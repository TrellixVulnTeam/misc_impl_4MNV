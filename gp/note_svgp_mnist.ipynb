{
 "cells": [
  {
   "cell_type": "markdown",
   "id": "8a2488e5",
   "metadata": {},
   "source": [
    "goal\n",
    "- SVGP + dirichlet training on mnist\n",
    "    - recreate evidential DL example ... \n",
    "- variational learning of supporting image patches !\n",
    "    - impl STN ... "
   ]
  },
  {
   "cell_type": "code",
   "execution_count": null,
   "id": "715c3c44",
   "metadata": {},
   "outputs": [],
   "source": []
  }
 ],
 "metadata": {
  "kernelspec": {
   "display_name": "Python [conda env:misc_impl]",
   "language": "python",
   "name": "conda-env-misc_impl-py"
  },
  "language_info": {
   "codemirror_mode": {
    "name": "ipython",
    "version": 3
   },
   "file_extension": ".py",
   "mimetype": "text/x-python",
   "name": "python",
   "nbconvert_exporter": "python",
   "pygments_lexer": "ipython3",
   "version": "3.7.9"
  }
 },
 "nbformat": 4,
 "nbformat_minor": 5
}
