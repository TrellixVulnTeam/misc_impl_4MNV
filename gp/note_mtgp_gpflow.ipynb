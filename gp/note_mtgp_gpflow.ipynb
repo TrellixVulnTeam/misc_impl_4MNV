{
 "cells": [
  {
   "cell_type": "code",
   "execution_count": 1,
   "id": "capable-minority",
   "metadata": {},
   "outputs": [],
   "source": [
    "import gpflow\n",
    "import tensorflow as tf\n",
    "import numpy as np\n",
    "import matplotlib.pyplot as plt\n",
    "\n",
    "%matplotlib inline\n",
    "\n",
    "from gpflow.ci_utils import ci_niter\n",
    "\n",
    "plt.rcParams[\"figure.figsize\"] = (12, 6)\n",
    "np.random.seed(123)"
   ]
  },
  {
   "cell_type": "code",
   "execution_count": 2,
   "id": "wicked-saudi",
   "metadata": {},
   "outputs": [
    {
     "data": {
      "image/png": "[encoded data removed]",
      "text/plain": [
       "<Figure size 576x288 with 1 Axes>"
      ]
     },
     "metadata": {
      "needs_background": "light"
     },
     "output_type": "display_data"
    }
   ],
   "source": [
    "# make a dataset with two outputs, correlated, heavy-tail noise. One has more noise than the other.\n",
    "X1 = np.random.rand(100, 1)  # Observed locations for first output\n",
    "X2 = np.random.rand(50, 1) * 0.5  # Observed locations for second output\n",
    "\n",
    "Y1 = np.sin(6 * X1) + np.random.randn(*X1.shape) * 0.03\n",
    "Y2 = np.sin(6 * X2 + 0.7) + np.random.randn(*X2.shape) * 0.1\n",
    "\n",
    "plt.figure(figsize=(8, 4))\n",
    "plt.plot(X1, Y1, \"x\", mew=2)\n",
    "_ = plt.plot(X2, Y2, \"x\", mew=2)"
   ]
  },
  {
   "cell_type": "code",
   "execution_count": 10,
   "id": "civic-struggle",
   "metadata": {},
   "outputs": [
    {
     "data": {
      "text/plain": [
       "<matplotlib.legend.Legend at 0x17b3961d0>"
      ]
     },
     "execution_count": 10,
     "metadata": {},
     "output_type": "execute_result"
    },
    {
     "data": {
      "image/png": "[encoded data removed]",
      "text/plain": [
       "<Figure size 864x432 with 1 Axes>"
      ]
     },
     "metadata": {
      "needs_background": "light"
     },
     "output_type": "display_data"
    }
   ],
   "source": [
    "\n",
    "from gpflow.mean_functions import Zero, Constant\n",
    "\n",
    "\n",
    "X = np.linspace(0,1,100).reshape(-1,1)\n",
    "mean_fn = Zero()\n",
    "plt.plot(X, mean_fn(X), label='zero')\n",
    "mean_fn = Constant()\n",
    "mean_fn.c = .2\n",
    "plt.plot(X, mean_fn(X), label='const')\n",
    "\n",
    "plt.legend()\n"
   ]
  },
  {
   "cell_type": "code",
   "execution_count": null,
   "id": "altered-alberta",
   "metadata": {},
   "outputs": [],
   "source": [
    "X_augmented = np.vstack((np.hstack((X1, np.zeros_like(X1))), np.hstack((X2, np.ones_like(X2)))))\n",
    "\n",
    "# Augment the Y data with ones or zeros that specify a likelihood from the list of likelihoods\n",
    "Y_augmented = np.vstack((np.hstack((Y1, np.zeros_like(Y1))), np.hstack((Y2, np.ones_like(Y2)))))"
   ]
  },
  {
   "cell_type": "code",
   "execution_count": null,
   "id": "essential-breed",
   "metadata": {},
   "outputs": [],
   "source": [
    "output_dim = 2  # Number of outputs\n",
    "rank = 1  # Rank of W\n",
    "\n",
    "# Base kernel\n",
    "k = gpflow.kernels.Matern32(active_dims=[0])\n",
    "k = gpflow.kernels.SquaredExponential(active_dims=[0])\n",
    "\n",
    "\n",
    "# Coregion kernel\n",
    "coreg = gpflow.kernels.Coregion(output_dim=output_dim, rank=rank, active_dims=[1])\n",
    "\n",
    "kern = k * coreg"
   ]
  },
  {
   "cell_type": "code",
   "execution_count": null,
   "id": "hearing-freedom",
   "metadata": {},
   "outputs": [],
   "source": [
    "# This likelihood switches between Gaussian noise with different variances for each f_i:\n",
    "lik = gpflow.likelihoods.SwitchedLikelihood(\n",
    "    [gpflow.likelihoods.Gaussian(), gpflow.likelihoods.Gaussian()]\n",
    ")\n",
    "\n",
    "# now build the GP model as normal\n",
    "m = gpflow.models.VGP((X_augmented, Y_augmented), kernel=kern, likelihood=lik)\n",
    "\n",
    "# fit the covariance function parameters\n",
    "maxiter = ci_niter(10000)\n",
    "gpflow.optimizers.Scipy().minimize(\n",
    "    m.training_loss, m.trainable_variables, options=dict(maxiter=maxiter), method=\"L-BFGS-B\",\n",
    ")"
   ]
  },
  {
   "cell_type": "code",
   "execution_count": null,
   "id": "streaming-trial",
   "metadata": {},
   "outputs": [],
   "source": [
    "def plot_gp(x, mu, var, color, label):\n",
    "    plt.plot(x, mu, color=color, lw=2, label=label)\n",
    "    plt.fill_between(\n",
    "        x[:, 0],\n",
    "        (mu - 2 * np.sqrt(var))[:, 0],\n",
    "        (mu + 2 * np.sqrt(var))[:, 0],\n",
    "        color=color,\n",
    "        alpha=0.4,\n",
    "    )\n",
    "\n",
    "\n",
    "def plot(m):\n",
    "    plt.figure(figsize=(8, 4))\n",
    "    Xtest = np.linspace(0, 1, 100)[:, None]\n",
    "    (line,) = plt.plot(X1, Y1, \"x\", mew=2)\n",
    "    mu, var = m.predict_f(np.hstack((Xtest, np.zeros_like(Xtest))))\n",
    "    plot_gp(Xtest, mu, var, line.get_color(), \"Y1\")\n",
    "\n",
    "    (line,) = plt.plot(X2, Y2, \"x\", mew=2)\n",
    "    mu, var = m.predict_f(np.hstack((Xtest, np.ones_like(Xtest))))\n",
    "    plot_gp(Xtest, mu, var, line.get_color(), \"Y2\")\n",
    "\n",
    "    plt.legend()\n",
    "\n",
    "\n",
    "plot(m)"
   ]
  },
  {
   "cell_type": "code",
   "execution_count": null,
   "id": "behavioral-prompt",
   "metadata": {},
   "outputs": [],
   "source": [
    "B = coreg.output_covariance().numpy()\n",
    "print(\"B =\", B)\n",
    "_ = plt.imshow(B)"
   ]
  }
 ],
 "metadata": {
  "kernelspec": {
   "display_name": "Python [conda env:misc_impl] *",
   "language": "python",
   "name": "conda-env-misc_impl-py"
  },
  "language_info": {
   "codemirror_mode": {
    "name": "ipython",
    "version": 3
   },
   "file_extension": ".py",
   "mimetype": "text/x-python",
   "name": "python",
   "nbconvert_exporter": "python",
   "pygments_lexer": "ipython3",
   "version": "3.7.9"
  }
 },
 "nbformat": 4,
 "nbformat_minor": 5
}
