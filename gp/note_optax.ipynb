{
 "cells": [
  {
   "cell_type": "code",
   "execution_count": null,
   "id": "5f99cf9b",
   "metadata": {},
   "outputs": [],
   "source": [
    "import optax\n",
    "import jax\n",
    "import jax.numpy as np"
   ]
  },
  {
   "cell_type": "code",
   "execution_count": null,
   "id": "310660af",
   "metadata": {},
   "outputs": [],
   "source": [
    "\n",
    "optimizer = optax.adam(1e-3)\n",
    "params = {'w': np.ones((10,)),\n",
    "          'b': np.ones((1,))}\n",
    "\n",
    "xs = np.ones((3,10))\n",
    "ys = np.arange(3)\n",
    "\n",
    "compute_loss = lambda params, x, y: np.sum(optax.l2_loss(x@params['w']+params['b'], y))\n",
    "grad_fn = jax.grad(compute_loss)\n",
    "\n",
    "\n",
    "# initialize optimizer state (rolling avg etc.)\n",
    "opt_state = optimizer.init(params)\n",
    "\n",
    "# compute gradient \n",
    "grads = grad_fn(params, xs, ys)\n",
    "\n",
    "# get updates given gradients and states\n",
    "updates, opt_state = optimizer.update(grads, opt_state)\n",
    "print(updates)\n",
    "\n",
    "# apply the updates to parameters\n",
    "params = optax.apply_updates(params, updates)\n",
    "\n",
    "\n",
    "# more flexible gradient tarnsforms \n",
    "\n",
    "xs = np.ones((3,10))\n",
    "ys = np.arange(3)\n",
    "\n",
    "gradient_transform = optax.chain(\n",
    "    optax.clip_by_global_norm(1e-8),\n",
    "    optax.scale_by_adam(),\n",
    "    optax.scale(-1e-3),)\n",
    "\n",
    "\n",
    "opt_state = gradient_transform.init(params)\n",
    "grads = grad_fn(params, xs, ys)\n",
    "updates, opt_state = gradient_transform.update(grads, opt_state)\n",
    "updates\n",
    "\n"
   ]
  },
  {
   "cell_type": "code",
   "execution_count": null,
   "id": "1c5fb552",
   "metadata": {},
   "outputs": [],
   "source": []
  }
 ],
 "metadata": {
  "kernelspec": {
   "display_name": "Python [conda env:cxr] *",
   "language": "python",
   "name": "conda-env-cxr-py"
  },
  "language_info": {
   "codemirror_mode": {
    "name": "ipython",
    "version": 3
   },
   "file_extension": ".py",
   "mimetype": "text/x-python",
   "name": "python",
   "nbconvert_exporter": "python",
   "pygments_lexer": "ipython3",
   "version": "3.7.10"
  }
 },
 "nbformat": 4,
 "nbformat_minor": 5
}
