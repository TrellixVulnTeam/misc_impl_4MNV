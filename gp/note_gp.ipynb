{
 "cells": [
  {
   "cell_type": "code",
   "execution_count": null,
   "metadata": {
    "scrolled": true
   },
   "outputs": [],
   "source": [
    "# Reference:\n",
    "#    https://peterroelants.github.io/posts/gaussian-process-kernels/\n",
    "#    https://distill.pub/2019/visual-exploration-gaussian-processes/\n",
    "#    http://gregorygundersen.com/blog/2019/06/27/gp-regression/\n",
    "#\n",
    "import numpy as np\n",
    "from numpy.linalg import inv, det, cholesky\n",
    "from numpy.linalg import solve as backsolve\n",
    "\n",
    "import jax\n",
    "from jax import grad, jit, vmap, device_put\n",
    "import jax.numpy as jnp\n",
    "import jax.numpy.linalg as jnp_linalg\n",
    "from jax.experimental import optimizers\n",
    "import itertools\n",
    "\n",
    "import matplotlib.pyplot as plt\n",
    "import matplotlib as mpl\n",
    "# https://matplotlib.org/3.1.1/gallery/style_sheets/style_sheets_reference.html\n",
    "mpl.rcParams['lines.linewidth'] = 3\n",
    "mpl.rcParams['font.size'] = 25\n",
    "mpl.rcParams['font.family'] = 'Times New Roman'\n",
    "cmap = plt.cm.get_cmap('bwr')\n",
    "\n",
    "import sys\n",
    "sys.path.append('../kernel')\n",
    "from jaxkern import (rbf_kernel, linear_kernel, cov_se, cov_rq, cov_pe, cdist_sqeuclidean)\n",
    "\n",
    "from plt_utils import plt_savefig, plt_scaled_colobar_ax\n",
    "from gp import gp_regression_chol, run_sgd\n"
   ]
  },
  {
   "cell_type": "code",
   "execution_count": null,
   "metadata": {},
   "outputs": [],
   "source": [
    "# make a dataset with two outputs, correlated, heavy-tail noise. One has more noise than the other.\n",
    "X1 = np.random.rand(100, 1)  # Observed locations for first output\n",
    "X2 = np.random.rand(50, 1) * 0.5  # Observed locations for second output\n",
    "\n",
    "Y1 = np.sin(6 * X1) + np.random.randn(*X1.shape) * 0.03\n",
    "Y2 = np.sin(6 * X2 + 0.7) + np.random.randn(*X2.shape) * 0.1\n",
    "\n",
    "plt.figure(figsize=(8, 4))\n",
    "plt.plot(X1, Y1, \"x\", mew=2)\n",
    "_ = plt.plot(X2, Y2, \"x\", mew=2)"
   ]
  },
  {
   "cell_type": "code",
   "execution_count": null,
   "metadata": {},
   "outputs": [],
   "source": [
    "# Augment the input with ones or zeros to indicate the required output dimension\n",
    "X_augmented = np.vstack((np.hstack((X1, np.zeros_like(X1))), np.hstack((X2, np.ones_like(X2)))))\n",
    "\n",
    "# Augment the Y data with ones or zeros that specify a likelihood from the list of likelihoods\n",
    "Y_augmented = np.vstack((np.hstack((Y1, np.zeros_like(Y1))), np.hstack((Y2, np.ones_like(Y2)))))\n",
    "\n",
    "X_augmented.shape, Y_augmented.shape"
   ]
  },
  {
   "cell_type": "code",
   "execution_count": null,
   "metadata": {
    "scrolled": true
   },
   "outputs": [],
   "source": [
    "B = np.array([[2.8,2.65],[2.65,4.45]])\n",
    "\n",
    "# B[]\n",
    "# B[]\n",
    "np.take(B, np.vstack((X_augmented[:,1],Y_augmented[:,1])).astype(np.int).T)\n",
    "\n",
    "\n"
   ]
  },
  {
   "cell_type": "code",
   "execution_count": null,
   "metadata": {},
   "outputs": [],
   "source": [
    "\n",
    "k = lambda X, Y: cov_se(X[:,0], Y[:,0], ℓ=ℓ) * B[X[:,1],Y[:,1]]\n",
    "\n",
    "\n",
    "μ, Σ, mll = gp_regression_chol(X_train, y_train, X_test, k, σn)\n",
    "std = np.expand_dims(np.sqrt(np.diag(Σ)), 1)\n",
    "\n",
    "ax = axs[i, j]\n",
    "ax.plot(X_test, μ, color='k')\n",
    "ax.fill_between(X_test.squeeze(), (μ-2*std).squeeze(), (μ+2*std).squeeze(), alpha=.2, color=cmap(.3))\n",
    "ax.scatter(X_train, y_train, marker='x', color='r', s=50)\n",
    "ax.grid()\n",
    "ax.set_xlim(xlim)\n",
    "ax.set_ylim(ylim)\n",
    "ax.set_title('$-\\log p(\\mathbf{y}\\mid X)$'+f'={-mll:.2f}')\n"
   ]
  },
  {
   "cell_type": "code",
   "execution_count": null,
   "metadata": {},
   "outputs": [],
   "source": [
    "\n",
    "## Parameters \n",
    "\n",
    "xlim = (-2, 2)\n",
    "ylim = (-3, 3)\n",
    "n_train = 3\n",
    "n_test = 100\n",
    "σn = .1\n",
    "ℓ = 1\n",
    "train_sizes = [3, 10, 100]\n",
    "lr = .002\n",
    "num_steps = 10\n",
    "\n",
    "def f1(x, σn=.1):\n",
    "    return np.sin(x)+np.sin(x*5)+np.cos(x*3)\n",
    "\n",
    "def log_func(f, params):\n",
    "    print(f\"loss={f(params):.3f}\\t\"\n",
    "          f\"ℓ={params['ℓ']:.3f}\\t\")\n",
    "## Plotting \n",
    "\n",
    "\n",
    "np.random.seed(0)\n",
    "X_test = np.expand_dims(np.linspace(*xlim, n_test), 1)\n",
    "X_train_all = np.expand_dims(\n",
    "    np.random.uniform(xlim[0], xlim[1], size=np.max(train_sizes)), 1)\n",
    "ϵ_all = σn*np.random.randn(np.max(train_sizes), 1)\n",
    "\n",
    "\n",
    "# n_train = 100\n",
    "X_train = X_train_all[:n_train]\n",
    "ϵ = ϵ_all[:n_train]\n",
    "y_train = f_gen(X_train) + ϵ\n",
    "\n",
    "plt.scatter(X_train, y_train)\n"
   ]
  },
  {
   "cell_type": "code",
   "execution_count": null,
   "metadata": {
    "scrolled": false
   },
   "outputs": [],
   "source": [
    "\n",
    "fig, axs = plt.subplots(1, 1)\n",
    "fig.set_size_inches(5, 5)\n",
    "\n",
    "\n",
    "\n",
    "for i, ℓ in enumerate(ℓs):\n",
    "    for j, n_train in enumerate(train_sizes):\n",
    "        \n",
    "        X_train = X_train_all[:n_train]\n",
    "        ϵ = ϵ_all[:n_train]\n",
    "        y_train = f_gen(X_train) + ϵ\n",
    "        \n",
    "        if i == 1:\n",
    "            jX, jy, jXstar = device_put(X_train), device_put(y_train), device_put(X_test)\n",
    "            def nmll(params):\n",
    "                k = lambda X, Y: cov_se(X, Y, ℓ=params['ℓ'])\n",
    "                μ, Σ, mll = gp_regression_chol(jX, jy, jXstar, k, σn=σn)\n",
    "                return -mll\n",
    "            params = {'ℓ': 1.}\n",
    "            res = run_sgd(nmll, params, lr=lr, num_steps=num_steps, log_func=None)\n",
    "            ℓ = res['ℓ'].item()\n",
    "        else:\n",
    "            ℓ = ℓs[i]\n",
    "            σn = σns[i]\n",
    "\n",
    "        k = lambda X, Y: cov_se(X, Y, ℓ=ℓ)\n",
    "        μ, Σ, mll = gp_regression_chol(X_train, y_train, X_test, k, σn)\n",
    "        std = np.expand_dims(np.sqrt(np.diag(Σ)), 1)\n",
    "\n",
    "        ax = axs[i, j]\n",
    "        ax.plot(X_test, μ, color='k')\n",
    "        ax.fill_between(X_test.squeeze(), (μ-2*std).squeeze(), (μ+2*std).squeeze(), alpha=.2, color=cmap(.3))\n",
    "        ax.scatter(X_train, y_train, marker='x', color='r', s=50)\n",
    "        ax.grid()\n",
    "        ax.set_xlim(xlim)\n",
    "        ax.set_ylim(ylim)\n",
    "        ax.set_title('$-\\log p(\\mathbf{y}\\mid X)$'+f'={-mll:.2f}')\n",
    "        \n",
    "        if j == 0 or i == 1:\n",
    "            ax.set_ylabel(f\"ℓ={ℓ:.2f}\", fontsize=45)\n",
    "            \n",
    "        if i == 2:\n",
    "            ax.set_xlabel(\"$n$\"+f\"={n_train}\", fontsize=45)\n",
    "\n",
    "fig.tight_layout()\n",
    "# plt_savefig(fig, 'summary/assets/plt_mtgp.png')"
   ]
  },
  {
   "cell_type": "code",
   "execution_count": null,
   "metadata": {},
   "outputs": [],
   "source": []
  },
  {
   "cell_type": "code",
   "execution_count": null,
   "metadata": {},
   "outputs": [],
   "source": []
  }
 ],
 "metadata": {
  "kernelspec": {
   "display_name": "Python 3",
   "language": "python",
   "name": "python3"
  },
  "language_info": {
   "codemirror_mode": {
    "name": "ipython",
    "version": 3
   },
   "file_extension": ".py",
   "mimetype": "text/x-python",
   "name": "python",
   "nbconvert_exporter": "python",
   "pygments_lexer": "ipython3",
   "version": "3.7.9"
  }
 },
 "nbformat": 4,
 "nbformat_minor": 4
}
