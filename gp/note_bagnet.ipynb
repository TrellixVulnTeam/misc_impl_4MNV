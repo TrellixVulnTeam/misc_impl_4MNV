{
 "cells": [
  {
   "cell_type": "markdown",
   "id": "operational-alfred",
   "metadata": {},
   "source": [
    "goal\n",
    "- conv architecture for bagnet using 1x1 convolution. \n",
    "    - verify receptive field computation etc.\n",
    "- implement functions to draw bounding boxes"
   ]
  },
  {
   "cell_type": "code",
   "execution_count": null,
   "id": "young-projector",
   "metadata": {},
   "outputs": [],
   "source": [
    "import os\n",
    "os.environ[\"CUDA_DEVICE_ORDER\"] = \"PCI_BUS_ID\"\n",
    "os.environ['CUDA_VISIBLE_DEVICES'] = '4'\n",
    "os.environ['TF_CPP_VMODULE'] = '=bfc_allocator=1'\n",
    "os.environ['TF_CPP_MIN_LOG_LEVEL'] = '0'\n",
    "os.environ['XLA_FLAGS'] = '--xla_gpu_cuda_data_dir=/usr/local/cuda'\n",
    "os.environ[\"XLA_PYTHON_CLIENT_PREALLOCATE\"] = \"false\"\n",
    "os.environ[\"XLA_PYTHON_CLIENT_ALLOCATOR\"] = \"platform\"\n",
    "os.environ['LD_LIBRARY_PATH'] = '${LD_LIBRARY_PATH}:/usr/local/cuda/lib64'\n",
    "\n",
    "import jax\n",
    "import jax.numpy as np\n",
    "from jax import random, vjp, vmap\n",
    "from flax import linen as nn\n",
    "from flax.core import freeze, unfreeze\n",
    "\n",
    "import matplotlib.pyplot as plt\n",
    "import matplotlib.patches as patches\n"
   ]
  },
  {
   "cell_type": "code",
   "execution_count": null,
   "id": "tribal-possible",
   "metadata": {
    "scrolled": false
   },
   "outputs": [],
   "source": [
    "def vgrad(f, x):\n",
    "    y, vjp_fn = vjp(f, x)\n",
    "    return vjp_fn(np.ones(y.shape))[0]\n",
    "\n",
    "class CNN(nn.Module):\n",
    "\n",
    "    @nn.compact\n",
    "    def __call__(self, x):\n",
    "        x = nn.Conv(features=32, kernel_size=(3, 3))(x)\n",
    "        x = nn.relu(x)\n",
    "        x = nn.avg_pool(x, window_shape=(2, 2), strides=(2, 2))\n",
    "        x = nn.Conv(features=64, kernel_size=(3, 3))(x)\n",
    "        x = nn.relu(x)\n",
    "        x = nn.avg_pool(x, window_shape=(2, 2), strides=(2, 2))\n",
    "        return x\n",
    "    \n",
    "\n",
    "h, w = 28, 28\n",
    "in_shape = (1, h, w, 1)\n",
    "spike_loc = np.array([[1, 1], [1, -2], [-2, 1], [-2, -2]])\n",
    "input_loc = np.array([[1, 1], []])\n",
    "rf, _ = compute_receptive_fields(CNN, in_shape)\n",
    "_, gx = compute_receptive_fields(CNN, in_shape, spike_loc)\n",
    "\n",
    "fig, ax = plt.subplots(1,1,figsize=(10,10))\n",
    "ax.imshow(gx.squeeze(), cmap='Greys')\n",
    "r = rf//2\n",
    "xy = (h//2-r[1]-.5, w//2-r[0]-.5) # half-pixel\n",
    "rect = patches.Rectangle(xy, rf[1], rf[0],\n",
    "    linewidth=1, edgecolor='r', facecolor='none')\n",
    "ax.add_patch(rect)\n",
    "\n",
    "\n",
    "\n",
    "rf\n"
   ]
  }
 ],
 "metadata": {
  "kernelspec": {
   "display_name": "Python [conda env:cxrs] *",
   "language": "python",
   "name": "conda-env-cxrs-py"
  },
  "language_info": {
   "codemirror_mode": {
    "name": "ipython",
    "version": 3
   },
   "file_extension": ".py",
   "mimetype": "text/x-python",
   "name": "python",
   "nbconvert_exporter": "python",
   "pygments_lexer": "ipython3",
   "version": "3.7.9"
  }
 },
 "nbformat": 4,
 "nbformat_minor": 5
}
