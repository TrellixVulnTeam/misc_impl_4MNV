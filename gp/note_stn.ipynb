{
 "cells": [
  {
   "cell_type": "markdown",
   "id": "patent-schedule",
   "metadata": {},
   "source": [
    "goal\n",
    "- spatial transformation network\n",
    "- references\n",
    "    - https://github.com/skaae/transformer_network/blob/master/transformerlayer.py\n",
    "    - torch grid sampler https://github.com/pytorch/pytorch/blob/f064c5aa33483061a48994608d890b968ae53fb5/aten/src/THNN/generic/SpatialGridSamplerBilinear.c\n"
   ]
  },
  {
   "cell_type": "code",
   "execution_count": null,
   "id": "intense-montreal",
   "metadata": {},
   "outputs": [],
   "source": [
    "from IPython.core.display import display, HTML\n",
    "display(HTML(\"<style>.container { width:100% !important; }</style>\"))\n",
    "\n",
    "import os\n",
    "os.environ[\"CUDA_DEVICE_ORDER\"] = \"PCI_BUS_ID\"\n",
    "os.environ['CUDA_VISIBLE_DEVICES'] = '0'\n",
    "os.environ['TF_CPP_VMODULE'] = '=bfc_allocator=1'\n",
    "os.environ['TF_CPP_MIN_LOG_LEVEL'] = '0'\n",
    "os.environ['XLA_FLAGS'] = '--xla_gpu_cuda_data_dir=/usr/local/cuda'\n",
    "os.environ[\"XLA_PYTHON_CLIENT_PREALLOCATE\"] = \"false\"\n",
    "os.environ[\"XLA_PYTHON_CLIENT_ALLOCATOR\"] = \"platform\"\n",
    "os.environ['LD_LIBRARY_PATH'] = '${LD_LIBRARY_PATH}:/usr/local/cuda/lib64'\n",
    "\n",
    "import jax\n",
    "import jax.numpy as np\n",
    "from jax import grad, jit, vmap, device_put, random\n",
    "from flax import linen as nn\n",
    "from jax.scipy.stats import dirichlet\n",
    "\n",
    "from jax.lib import xla_bridge\n",
    "print(xla_bridge.get_backend().platform)\n",
    "print(jax.local_device_count())\n",
    "print(jax.devices())\n",
    "\n",
    "import matplotlib.pyplot as plt\n",
    "import matplotlib as mpl\n",
    "import matplotlib.tri as tri\n",
    "# https://matplotlib.org/3.1.1/gallery/style_sheets/style_sheets_reference.html\n",
    "mpl.rcParams['lines.linewidth'] = 3\n",
    "mpl.rcParams['font.size'] = 25\n",
    "mpl.rcParams['font.family'] = 'Times New Roman' \n",
    "cmap = plt.cm.get_cmap('bwr')\n",
    "\n",
    "\n",
    "from gpax import *"
   ]
  },
  {
   "cell_type": "code",
   "execution_count": null,
   "id": "imposed-fundamentals",
   "metadata": {},
   "outputs": [],
   "source": [
    "import torch\n",
    "import torchvision\n",
    "\n",
    "# https://stackoverflow.com/questions/66577151/http-error-when-trying-to-download-mnist-data\n",
    "new_mirror = 'https://ossci-datasets.s3.amazonaws.com/mnist'\n",
    "torchvision.datasets.MNIST.resources = [\n",
    "   ('/'.join([new_mirror, url.split('/')[-1]]), md5)\n",
    "   for url, md5 in torchvision.datasets.MNIST.resources\n",
    "]\n",
    "\n",
    "transforms = torchvision.transforms.Compose([\n",
    "    lambda x: np.asarray(x)[...,np.newaxis] / 255.\n",
    "])\n",
    "dataset = torchvision.datasets.MNIST('./data', train=True, transform=transforms, download=True)"
   ]
  },
  {
   "cell_type": "code",
   "execution_count": null,
   "id": "imposed-bedroom",
   "metadata": {
    "scrolled": false
   },
   "outputs": [],
   "source": [
    "Tsize = (14, 14)\n",
    "\n",
    "A = np.stack([\n",
    "    np.array([[.5,0,0],[0,.5,0]]),\n",
    "    np.array([[.5,0,.2], [0,.5,.2]]),\n",
    "    np.array([[.5,0,0], [0,.3,0]]),\n",
    "    np.array([[.2,-.2,0], [.2,.2,0]]),\n",
    "])\n",
    "\n",
    "S = np.array(dataset.data[:len(A)].numpy()).reshape(-1,28,28,1)\n",
    "fn = vmap(spatial_transform_details, (0, 0, None), 0)\n",
    "T, Gs = fn(A, S, Tsize)\n",
    "\n",
    "\n",
    "fig, axs = plt.subplots(len(As), 2, figsize=(20,10*len(As)))\n",
    "for i in range(len(As)):\n",
    "    plt_spatial_transform(axs[i,:], Gs[i], S[i], T[i])\n",
    "    \n",
    "    \n",
    "fig.tight_layout()"
   ]
  },
  {
   "cell_type": "code",
   "execution_count": null,
   "id": "03f424f9",
   "metadata": {},
   "outputs": [],
   "source": []
  }
 ],
 "metadata": {
  "kernelspec": {
   "display_name": "Python [conda env:misc_impl]",
   "language": "python",
   "name": "conda-env-misc_impl-py"
  },
  "language_info": {
   "codemirror_mode": {
    "name": "ipython",
    "version": 3
   },
   "file_extension": ".py",
   "mimetype": "text/x-python",
   "name": "python",
   "nbconvert_exporter": "python",
   "pygments_lexer": "ipython3",
   "version": "3.7.10"
  }
 },
 "nbformat": 4,
 "nbformat_minor": 5
}
