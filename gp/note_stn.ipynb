{
 "cells": [
  {
   "cell_type": "markdown",
   "id": "patent-schedule",
   "metadata": {},
   "source": [
    "goal\n",
    "- spatial transformation network\n",
    "- references\n",
    "    - https://github.com/skaae/transformer_network/blob/master/transformerlayer.py\n",
    "    - torch grid sampler https://github.com/pytorch/pytorch/blob/f064c5aa33483061a48994608d890b968ae53fb5/aten/src/THNN/generic/SpatialGridSamplerBilinear.c\n"
   ]
  },
  {
   "cell_type": "code",
   "execution_count": null,
   "id": "intense-montreal",
   "metadata": {},
   "outputs": [],
   "source": [
    "from IPython.core.display import display, HTML\n",
    "display(HTML(\"<style>.container { width:100% !important; }</style>\"))\n",
    "\n",
    "import os\n",
    "os.environ[\"CUDA_DEVICE_ORDER\"] = \"PCI_BUS_ID\"\n",
    "os.environ['CUDA_VISIBLE_DEVICES'] = '1'\n",
    "os.environ['TF_CPP_VMODULE'] = '=bfc_allocator=1'\n",
    "os.environ['TF_CPP_MIN_LOG_LEVEL'] = '0'\n",
    "os.environ['XLA_FLAGS'] = '--xla_gpu_cuda_data_dir=/usr/local/cuda'\n",
    "os.environ[\"XLA_PYTHON_CLIENT_PREALLOCATE\"] = \"false\"\n",
    "os.environ[\"XLA_PYTHON_CLIENT_ALLOCATOR\"] = \"platform\"\n",
    "os.environ['LD_LIBRARY_PATH'] = '${LD_LIBRARY_PATH}:/usr/local/cuda/lib64'\n",
    "\n",
    "import jax\n",
    "import jax.numpy as np\n",
    "from jax import grad, jit, vmap, device_put, random\n",
    "from flax import linen as nn\n",
    "from jax.scipy.stats import dirichlet\n",
    "\n",
    "from jax.lib import xla_bridge\n",
    "print(xla_bridge.get_backend().platform)\n",
    "print(jax.local_device_count())\n",
    "print(jax.devices())\n",
    "\n",
    "import matplotlib.pyplot as plt\n",
    "import matplotlib as mpl\n",
    "import matplotlib.tri as tri\n",
    "# https://matplotlib.org/3.1.1/gallery/style_sheets/style_sheets_reference.html\n",
    "mpl.rcParams['lines.linewidth'] = 3\n",
    "mpl.rcParams['font.size'] = 25\n",
    "mpl.rcParams['font.family'] = 'Times New Roman' \n",
    "cmap = plt.cm.get_cmap('bwr')\n",
    "\n",
    "\n",
    "from gpax import *"
   ]
  },
  {
   "cell_type": "code",
   "execution_count": null,
   "id": "imposed-fundamentals",
   "metadata": {},
   "outputs": [],
   "source": [
    "import torch\n",
    "import torchvision\n",
    "\n",
    "# https://stackoverflow.com/questions/66577151/http-error-when-trying-to-download-mnist-data\n",
    "new_mirror = 'https://ossci-datasets.s3.amazonaws.com/mnist'\n",
    "torchvision.datasets.MNIST.resources = [\n",
    "   ('/'.join([new_mirror, url.split('/')[-1]]), md5)\n",
    "   for url, md5 in torchvision.datasets.MNIST.resources\n",
    "]\n",
    "\n",
    "transforms = torchvision.transforms.Compose([\n",
    "    lambda x: np.asarray(x)[...,np.newaxis] / 255.\n",
    "])\n",
    "dataset = torchvision.datasets.MNIST('./data', train=True, transform=transforms, download=True)"
   ]
  },
  {
   "cell_type": "code",
   "execution_count": null,
   "id": "8461e7c4",
   "metadata": {},
   "outputs": [],
   "source": [
    "patch_shape = (20,14)\n",
    "h, w = patch_shape\n",
    "S = np.array(dataset.data[:1].numpy()).reshape(28,28,1)/255.\n",
    "image_shape = S.shape\n",
    "H, W, _ = S.shape\n",
    "\n",
    "patches = extract_patches_2d(S, patch_shape)\n",
    "Py,Px = (H-h+1),(W-w+1)\n",
    "\n",
    "P = (H-h+1)*(W-w+1)\n",
    "hi = np.arange(H-h+1)\n",
    "wi = np.arange(W-w+1)\n",
    "hwi = np.array(list(itertools.product(hi, wi)))\n",
    "\n",
    "fig, ax = plt.subplots(1,1,figsize=(5,5))\n",
    "ax.set_xticks([]); ax.set_yticks([])\n",
    "ax.imshow(S, cmap='Greys')\n",
    "ax.scatter(hwi[:,0], hwi[:,1])\n",
    "\n",
    "print(patches.shape, Py, Px)"
   ]
  },
  {
   "cell_type": "code",
   "execution_count": null,
   "id": "b239bae7",
   "metadata": {
    "scrolled": true
   },
   "outputs": [],
   "source": [
    "s, t = extract_patches_2d_scal_transl(image_shape, patch_shape)\n",
    "A = vmap(trans2x3_from_scal_transl, (None, 0), 0)(s, t)\n",
    "A = A[:Px+1]\n",
    "\n",
    "fn = vmap(spatial_transform_details, (0, None, None), 0)\n",
    "T, Gs = fn(A, S, patch_shape)\n",
    "\n",
    "fig, axs = plt.subplots(len(A), 2, figsize=(10,5*len(A)))\n",
    "for i in range(len(A)):\n",
    "    plt_spatial_transform(axs[i,:], Gs[i], S, T[i])\n",
    "    axs[i,0].set_title(f'{A[i]}')\n",
    "fig.tight_layout()"
   ]
  },
  {
   "cell_type": "code",
   "execution_count": null,
   "id": "b3000f26",
   "metadata": {
    "scrolled": false
   },
   "outputs": [],
   "source": [
    "A = vmap(trans2x3_from_scal_transl, (None, 0), 0)(s, t)\n",
    "T = vmap(spatial_transform, (0, None, None), 0)(A, S, patch_shape)\n",
    "ims_from_T = make_im_grid(T, im_per_row=Px, pad_value=0.1)\n",
    "ims_from_patches = make_im_grid(patches, im_per_row=Px, pad_value=0.1)\n",
    "ims_diff = ims_from_T - ims_from_patches\n",
    "print(ims_from_T.min(), ims_from_T.max())\n",
    "print(ims_from_patches.min(), ims_from_patches.max())\n",
    "print(ims_diff.min(), ims_diff.max())\n",
    "\n",
    "fig, ax = plt.subplots(1,1,figsize=(20,20))\n",
    "ax.set_xticks([]); ax.set_yticks([])\n",
    "ax.imshow(ims_diff, cmap='Greys')\n",
    "\n"
   ]
  },
  {
   "cell_type": "code",
   "execution_count": null,
   "id": "a6052985",
   "metadata": {
    "scrolled": true
   },
   "outputs": [],
   "source": [
    "ims_from_patches = make_im_grid(patches, im_per_row=Px, pad_value=.2)\n",
    "fig, ax = plt.subplots(1,1,figsize=(20,20))\n",
    "ax.set_xticks([]); ax.set_yticks([])\n",
    "ax.imshow(ims_from_patches, cmap='Greys')\n",
    "\n"
   ]
  },
  {
   "cell_type": "code",
   "execution_count": null,
   "id": "imposed-bedroom",
   "metadata": {
    "scrolled": false
   },
   "outputs": [],
   "source": [
    "\n",
    "def plt_spatial_transform(axs, Gs, S, T):\n",
    "    \"\"\" Given `axs` of size 2, source grid `Gs` \n",
    "            draw source image `S` with source grid `Gs` and\n",
    "            target spatially transformed image `T`\n",
    "    \"\"\"\n",
    "    h, w = T.shape[0], T.shape[1]\n",
    "    Gt = homogeneous_grid(h, w)\n",
    "    Xt, Yt = np.meshgrid(np.linspace(-1, 1, h),\n",
    "                         np.linspace(-1, 1, w))\n",
    "    Xs_flat = Gs[0, :]\n",
    "    Ys_flat = Gs[1, :]\n",
    "    Xs = Xs_flat.reshape((h,w))\n",
    "    Ys = Ys_flat.reshape((h,w))\n",
    "    \n",
    "    ax = axs[0]\n",
    "    ax.set_xticks([]); ax.set_yticks([])\n",
    "    ax.scatter(Xs, Ys, marker='+', c='r', s=50)\n",
    "    ax.imshow(S, cmap='Greys', extent=(-1,1,1,-1), origin='upper')\n",
    "    \n",
    "    ax = axs[1]\n",
    "    ax.set_xticks([]); ax.set_yticks([])\n",
    "    ax.scatter(Xt, Yt, marker='+', c='r', s=30)\n",
    "    ax.imshow(T, cmap='Greys', extent=(-1,1,1,-1), origin='upper')\n",
    "\n",
    "\n",
    "\n",
    "Tsize = (14, 14)\n",
    "\n",
    "A = np.stack([\n",
    "    np.array([[.5,0,0],[0,.5,0]]),\n",
    "    np.array([[.5,0,.5],[0,.5,0]]),\n",
    "    np.array([[.5,0,1],[0,.5,0]]),\n",
    "])\n",
    "\n",
    "S = np.array(dataset.data[:1].numpy()).reshape(28,28,1)\n",
    "fn = vmap(spatial_transform_details, (0, None, None), 0)\n",
    "T, Gs = fn(A, S, Tsize)\n",
    "\n",
    "\n",
    "fig, axs = plt.subplots(len(A), 2, figsize=(10,5*len(A)))\n",
    "for i in range(len(A)):\n",
    "    plt_spatial_transform(axs[i,:], Gs[i], S, T[i])\n",
    "    axs[i,0].set_title(f'{A[i]}')\n",
    "    \n",
    "    \n",
    "fig.tight_layout()"
   ]
  },
  {
   "cell_type": "code",
   "execution_count": null,
   "id": "2013fa9e",
   "metadata": {},
   "outputs": [],
   "source": []
  }
 ],
 "metadata": {
  "kernelspec": {
   "display_name": "Python [conda env:misc_impl]",
   "language": "python",
   "name": "conda-env-misc_impl-py"
  },
  "language_info": {
   "codemirror_mode": {
    "name": "ipython",
    "version": 3
   },
   "file_extension": ".py",
   "mimetype": "text/x-python",
   "name": "python",
   "nbconvert_exporter": "python",
   "pygments_lexer": "ipython3",
   "version": "3.7.10"
  }
 },
 "nbformat": 4,
 "nbformat_minor": 5
}
