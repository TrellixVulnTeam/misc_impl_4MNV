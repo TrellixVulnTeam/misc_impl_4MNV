{
 "cells": [
  {
   "cell_type": "markdown",
   "id": "patent-schedule",
   "metadata": {},
   "source": [
    "goal\n",
    "- spatial transformation network\n",
    "- references\n",
    "    - https://github.com/skaae/transformer_network/blob/master/transformerlayer.py\n",
    "    - torch grid sampler https://github.com/pytorch/pytorch/blob/f064c5aa33483061a48994608d890b968ae53fb5/aten/src/THNN/generic/SpatialGridSamplerBilinear.c\n"
   ]
  },
  {
   "cell_type": "code",
   "execution_count": null,
   "id": "intense-montreal",
   "metadata": {},
   "outputs": [],
   "source": [
    "from IPython.core.display import display, HTML\n",
    "display(HTML(\"<style>.container { width:100% !important; }</style>\"))\n",
    "\n",
    "import os\n",
    "os.environ[\"CUDA_DEVICE_ORDER\"] = \"PCI_BUS_ID\"\n",
    "os.environ['CUDA_VISIBLE_DEVICES'] = '0'\n",
    "os.environ['TF_CPP_VMODULE'] = '=bfc_allocator=1'\n",
    "os.environ['TF_CPP_MIN_LOG_LEVEL'] = '0'\n",
    "os.environ['XLA_FLAGS'] = '--xla_gpu_cuda_data_dir=/usr/local/cuda'\n",
    "os.environ[\"XLA_PYTHON_CLIENT_PREALLOCATE\"] = \"false\"\n",
    "os.environ[\"XLA_PYTHON_CLIENT_ALLOCATOR\"] = \"platform\"\n",
    "os.environ['LD_LIBRARY_PATH'] = '${LD_LIBRARY_PATH}:/usr/local/cuda/lib64'\n",
    "\n",
    "import jax\n",
    "import jax.numpy as np\n",
    "from jax import grad, jit, vmap, device_put, random\n",
    "from flax import linen as nn\n",
    "from jax.scipy.stats import dirichlet\n",
    "\n",
    "from jax.lib import xla_bridge\n",
    "print(xla_bridge.get_backend().platform)\n",
    "print(jax.local_device_count())\n",
    "print(jax.devices())\n",
    "\n",
    "import matplotlib.pyplot as plt\n",
    "import matplotlib as mpl\n",
    "import matplotlib.tri as tri\n",
    "# https://matplotlib.org/3.1.1/gallery/style_sheets/style_sheets_reference.html\n",
    "mpl.rcParams['lines.linewidth'] = 3\n",
    "mpl.rcParams['font.size'] = 25\n",
    "mpl.rcParams['font.family'] = 'Times New Roman' \n",
    "cmap = plt.cm.get_cmap('bwr')\n",
    "\n",
    "\n",
    "from gpax import *"
   ]
  },
  {
   "cell_type": "code",
   "execution_count": null,
   "id": "imposed-fundamentals",
   "metadata": {},
   "outputs": [],
   "source": [
    "import torch\n",
    "import torchvision\n",
    "\n",
    "# https://stackoverflow.com/questions/66577151/http-error-when-trying-to-download-mnist-data\n",
    "new_mirror = 'https://ossci-datasets.s3.amazonaws.com/mnist'\n",
    "torchvision.datasets.MNIST.resources = [\n",
    "   ('/'.join([new_mirror, url.split('/')[-1]]), md5)\n",
    "   for url, md5 in torchvision.datasets.MNIST.resources\n",
    "]\n",
    "\n",
    "transforms = torchvision.transforms.Compose([\n",
    "    lambda x: np.asarray(x)[...,np.newaxis] / 255.\n",
    "])\n",
    "dataset = torchvision.datasets.MNIST('./data', train=True, transform=transforms, download=True)"
   ]
  },
  {
   "cell_type": "code",
   "execution_count": null,
   "id": "imposed-bedroom",
   "metadata": {},
   "outputs": [],
   "source": [
    "\n",
    "im = dataset.data[0]\n",
    "S = np.array(im.numpy()).reshape(28,28,1)\n",
    "ims = np.stack((S,S,S))\n",
    "Tsize = (28, 28)\n",
    "\n",
    "## \n",
    "\n",
    "height, width = Tsize\n",
    "Gt = homogeneous_grid(height, width)\n",
    "Xt, Yt = np.meshgrid(np.linspace(-1, 1, width),\n",
    "                         np.linspace(-1, 1, height))\n",
    "A = np.array([[.5,0,0],[0,.5,0]])\n",
    "Gs = A@Gt\n",
    "Xs_flat = Gs[0, :]\n",
    "Ys_flat = Gs[1, :]\n",
    "Xs = Xs_flat.reshape(*Tsize)\n",
    "Ys = Ys_flat.reshape(*Tsize)\n",
    "T = grid_sample(S, (Xs, Ys))\n",
    "\n",
    "fig, axs = plt.subplots(1, 2, figsize=(20,10))\n",
    "\n",
    "ax = axs[0]\n",
    "ax.set_xticks([]); ax.set_yticks([])\n",
    "ax.scatter(Xs, Ys, c='b')\n",
    "ax.imshow(S, cmap='Greys', extent=(-1,1,-1,1))\n",
    "\n",
    "ax = axs[1]\n",
    "ax.set_xticks([]); ax.set_yticks([])\n",
    "ax.scatter(Xt, Yt, c='b')\n",
    "ax.imshow(T, cmap='Greys', extent=(-1,1,-1,1))\n"
   ]
  },
  {
   "cell_type": "code",
   "execution_count": null,
   "id": "numerous-chicken",
   "metadata": {
    "scrolled": false
   },
   "outputs": [],
   "source": [
    "\n",
    "Xu = ims\n",
    "As = np.stack((A*.5, A, A*1.5))\n",
    "\n",
    "spatial_transform_vmap = vmap(spatial_transform, (0, 0, None), 0)\n",
    "Ts = spatial_transform_vmap(As, Xu, (28, 28))\n",
    "\n",
    "fig, axs = plt.subplots(1, 3, figsize=(15,5))\n",
    "\n",
    "for i in range(3):\n",
    "    ax = axs[i]\n",
    "    ax.set_xticks([]); ax.set_yticks([])\n",
    "    ax.imshow(Ts[i], cmap='Greys')\n",
    "\n",
    "\n",
    "\n"
   ]
  }
 ],
 "metadata": {
  "kernelspec": {
   "display_name": "Python [conda env:misc_impl]",
   "language": "python",
   "name": "conda-env-misc_impl-py"
  },
  "language_info": {
   "codemirror_mode": {
    "name": "ipython",
    "version": 3
   },
   "file_extension": ".py",
   "mimetype": "text/x-python",
   "name": "python",
   "nbconvert_exporter": "python",
   "pygments_lexer": "ipython3",
   "version": "3.7.10"
  }
 },
 "nbformat": 4,
 "nbformat_minor": 5
}
