{
 "cells": [
  {
   "cell_type": "code",
   "execution_count": null,
   "id": "e1cf3312",
   "metadata": {},
   "outputs": [],
   "source": [
    "import os\n",
    "os.environ[\"CUDA_DEVICE_ORDER\"] = \"PCI_BUS_ID\"\n",
    "os.environ['CUDA_VISIBLE_DEVICES'] = '3'\n",
    "os.environ['TF_CPP_VMODULE'] = '=bfc_allocator=1'\n",
    "os.environ['TF_CPP_MIN_LOG_LEVEL'] = '0'\n",
    "os.environ[\"XLA_PYTHON_CLIENT_PREALLOCATE\"] = \"false\"\n",
    "os.environ[\"XLA_PYTHON_CLIENT_ALLOCATOR\"] = \"platform\"\n",
    "\n",
    "from functools import partial\n",
    "\n",
    "import jax\n",
    "import jax.numpy as np\n",
    "from jax import random, vjp, vmap\n",
    "from flax import linen as nn\n",
    "from flax.core import freeze, unfreeze\n",
    "\n",
    "from torchsummary import summary\n",
    "# from torchvision.models import resnet18, resnet50\n",
    "from bagnet import *\n",
    "\n",
    "import matplotlib.pyplot as plt\n",
    "\n",
    "from gpax import *\n",
    "from jax_models import *\n",
    "from resnet import *\n",
    "\n",
    "from typing import Type, Any, Callable, Union, List, Optional\n"
   ]
  },
  {
   "cell_type": "code",
   "execution_count": null,
   "id": "ecf7dae5",
   "metadata": {},
   "outputs": [],
   "source": [
    "\n",
    "## Computes receptive fields for bagnet\n",
    "\n",
    "resnet_versions = ['18', '50']\n",
    "num_conv3x3_per_stages = [[1,1,0,0],[1,1,1,0],[1,1,1,1],\n",
    "                        [2,1,1,1],[2,2,1,1],[2,2,2,1],[2,2,2,2]]\n",
    "\n",
    "print('Receptive Fields')\n",
    "\n",
    "for resnet_version in resnet_versions:\n",
    "    for num_conv3x3_per_stage in num_conv3x3_per_stages:\n",
    "        if resnet_version == '18':\n",
    "            stage_sizes = [2,2,2,2]\n",
    "            block_cls = BagNetBlock\n",
    "        if resnet_version == '50':\n",
    "            stage_sizes = [3,4,6,3]\n",
    "            block_cls = BottleneckBagNetBlock\n",
    "        model_def = partial(BagNetTrunk, stage_sizes=stage_sizes,\n",
    "                                        block_cls=block_cls,\n",
    "                                        num_conv3x3_per_stage=num_conv3x3_per_stage,\n",
    "                                        disable_bn=True)\n",
    "        rf, gx, _ = compute_receptive_fields(model_def, (1, 224, 224, 1))\n",
    "        print(f'[{resnet_version}] {num_conv3x3_per_stage}:\\t {rf}')\n",
    "\n",
    "#         from plt_utils import plt_scaled_colobar_ax\n",
    "#         fig, axs = plt.subplots(1,2,figsize=(30,15))\n",
    "#         ax = axs[0]\n",
    "#         ax.hist(gx.flatten())\n",
    "\n",
    "#         ax = axs[1]\n",
    "#         im = gx.squeeze()\n",
    "#         im = ( im-np.min(im) ) / np.ptp(im)\n",
    "#         pltim = ax.imshow(im, vmin=0, vmax=1, cmap='bwr')\n",
    "#         fig.colorbar(pltim, cax=plt_scaled_colobar_ax(ax))\n",
    "#         ax.grid()\n"
   ]
  },
  {
   "cell_type": "code",
   "execution_count": null,
   "id": "7d7c8d42",
   "metadata": {
    "scrolled": true
   },
   "outputs": [],
   "source": [
    "\n",
    "\n",
    "    \n",
    "key = random.PRNGKey(0)\n",
    "x = random.normal(key, (224,224,3))\n",
    "model = BagNet18x11Trunk()\n",
    "params = model.init(key, x)\n",
    "\n",
    "\n",
    "print(pytree_num_parameters(params['params']))\n",
    "\n",
    "[(k, v.shape, np.prod(np.asarray(v.shape)).item()) \\\n",
    "     for k,v in pytree_get_kvs(params['params']).items()\n",
    "     if 'conv' in k or 'Conv' in k]\n"
   ]
  }
 ],
 "metadata": {
  "kernelspec": {
   "display_name": "Python [conda env:cxr] *",
   "language": "python",
   "name": "conda-env-cxr-py"
  },
  "language_info": {
   "codemirror_mode": {
    "name": "ipython",
    "version": 3
   },
   "file_extension": ".py",
   "mimetype": "text/x-python",
   "name": "python",
   "nbconvert_exporter": "python",
   "pygments_lexer": "ipython3",
   "version": "3.7.10"
  }
 },
 "nbformat": 4,
 "nbformat_minor": 5
}
