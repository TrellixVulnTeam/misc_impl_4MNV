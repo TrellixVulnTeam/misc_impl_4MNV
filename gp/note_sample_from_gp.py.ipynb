{
 "cells": [
  {
   "cell_type": "code",
   "execution_count": null,
   "metadata": {
    "scrolled": true
   },
   "outputs": [],
   "source": [
    "# Reference:\n",
    "#    https://peterroelants.github.io/posts/gaussian-process-kernels/\n",
    "#    https://peterroelants.github.io/posts/gaussian-process-kernels/\n",
    "# \n",
    "# https://github.com/pyro-ppl/numpyro\n",
    "\n",
    "import numpy as np\n",
    "import jax.numpy as jnp\n",
    "\n",
    "import matplotlib.pyplot as plt\n",
    "import matplotlib as mpl\n",
    "# https://matplotlib.org/3.1.1/gallery/style_sheets/style_sheets_reference.html\n",
    "mpl.rcParams['lines.linewidth'] = 3\n",
    "mpl.rcParams['font.size'] = 25\n",
    "mpl.rcParams['font.family'] = 'Times New Roman'\n",
    "cmap = plt.cm.get_cmap('bwr')\n",
    "# cmap = plt.cm.get_cmap('YlGnBu')\n",
    "\n",
    "import sys\n",
    "sys.path.append('../kernel')\n",
    "from jaxkern import (rbf_kernel, linear_kernel, cov_se, cov_rq, cov_pe)\n",
    "\n",
    "from plt_utils import plt_savefig, plt_scaled_colobar_ax\n",
    "from plt_sample_from_gp import plt_gp_samples"
   ]
  },
  {
   "cell_type": "code",
   "execution_count": null,
   "metadata": {},
   "outputs": [],
   "source": [
    "## Parameters\n",
    "\n",
    "nt = 500\n",
    "xlim = (-3,3)\n",
    "ylim = (-3,3)\n",
    "ϵ = .0001\n",
    "kernels = {\n",
    "    'SE(ℓ=1)': cov_se,\n",
    "    'RQ(α=1,ℓ=1)': cov_rq,\n",
    "    'PE(p=1,ℓ=1)': lambda X: cov_pe(X, p=1)}\n",
    "\n",
    "## Plotting\n",
    "\n",
    "gridspec_kw = {'width_ratios': [2, 1], 'height_ratios': [1,1,1]}\n",
    "fig, axs = plt.subplots(3, 2, gridspec_kw=gridspec_kw)\n",
    "fig.set_size_inches(15, 15)\n",
    "\n",
    "for i, (kernel_name, kernel) in enumerate(kernels.items()):\n",
    "    X = np.expand_dims(np.linspace(*xlim, nt), 1)\n",
    "    μ = np.zeros(nt)\n",
    "    Σ = kernel(X)\n",
    "    f = np.random.multivariate_normal(μ, Σ+ϵ*np.eye(nt), size=3).T\n",
    "    plt_gp_samples(X, f, μ, Σ, fig, axs[i,:], description=f\" where  $k$=${kernel_name}$\", xlim = xlim, ylim=ylim)\n",
    "fig.tight_layout()\n",
    "plt_savefig(fig, 'summary/assets/plt_sample_from_gp.png')\n"
   ]
  },
  {
   "cell_type": "code",
   "execution_count": 7,
   "metadata": {},
   "outputs": [
    {
     "data": {
      "text/plain": [
       "<matplotlib.image.AxesImage at 0x1a2b1260d0>"
      ]
     },
     "execution_count": 7,
     "metadata": {},
     "output_type": "execute_result"
    },
    {
     "data": {
      "image/png": "[encoded data removed]",
      "text/plain": [
       "<Figure size 432x288 with 1 Axes>"
      ]
     },
     "metadata": {
      "needs_background": "light"
     },
     "output_type": "display_data"
    }
   ],
   "source": []
  },
  {
   "cell_type": "code",
   "execution_count": null,
   "metadata": {},
   "outputs": [],
   "source": []
  }
 ],
 "metadata": {
  "kernelspec": {
   "display_name": "Python 3",
   "language": "python",
   "name": "python3"
  },
  "language_info": {
   "codemirror_mode": {
    "name": "ipython",
    "version": 3
   },
   "file_extension": ".py",
   "mimetype": "text/x-python",
   "name": "python",
   "nbconvert_exporter": "python",
   "pygments_lexer": "ipython3",
   "version": "3.7.7"
  }
 },
 "nbformat": 4,
 "nbformat_minor": 4
}
