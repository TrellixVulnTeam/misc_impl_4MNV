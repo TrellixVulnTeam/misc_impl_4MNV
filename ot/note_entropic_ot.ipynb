{
 "cells": [
  {
   "cell_type": "markdown",
   "id": "bf5b0f55",
   "metadata": {},
   "source": [
    "\n",
    "Goal\n",
    "+ replicate some impl of entropic regularized ot\n",
    "    + sinknhorn knopp\n",
    "    + log domain\n",
    "+ some reference impl \n",
    "    + https://github.com/zsteve/OptimalTransport.jl/blob/master/src/OptimalTransport.jl\n"
   ]
  },
  {
   "cell_type": "code",
   "execution_count": null,
   "id": "19c7bd3c",
   "metadata": {},
   "outputs": [],
   "source": [
    "from SinkhornAutoDiff import *\n",
    "\n",
    "import jax\n",
    "import jax.numpy as np\n",
    "import jax.random as random\n",
    "from functools import partial\n",
    "\n",
    "\n",
    "import matplotlib.pylab as plt\n",
    "import matplotlib as mpl\n",
    "mpl.rcParams['lines.linewidth'] = 3\n",
    "mpl.rcParams['font.size'] = 25\n",
    "mpl.rcParams['font.family'] = 'Times New Roman'\n",
    "cmap = plt.cm.get_cmap('bwr')\n",
    "\n",
    "\n",
    "import ot\n",
    "import ot.plot\n",
    "from ot.datasets import make_1D_gauss\n",
    "\n",
    "import sys\n",
    "sys.path.insert(0,'../gp/')\n",
    "from gpax import *\n",
    "from plt_utils import *\n",
    "\n",
    "from otax import *"
   ]
  },
  {
   "cell_type": "code",
   "execution_count": null,
   "id": "9a0ddc8d",
   "metadata": {
    "scrolled": false
   },
   "outputs": [],
   "source": [
    "# https://pythonot.github.io/auto_examples/plot_OT_1D.html\n",
    "\n",
    "n = 100\n",
    "\n",
    "x = np.arange(n)\n",
    "a = np.asarray(make_1D_gauss(n, m=20, s=5)+make_1D_gauss(n,m=50,s=10))\n",
    "b = np.asarray(make_1D_gauss(n, m=60, s=10))\n",
    "a = a/np.sum(a)\n",
    "b = b/np.sum(b)\n",
    "\n",
    "C = sqdist(x)\n",
    "C = C / C.max()\n",
    "\n",
    "# fig, ax = plt.subplots(1,1,figsize=(5,5))\n",
    "# ax.plot(x, a, 'b', label='Source distribution')\n",
    "# ax.plot(x, b, 'r', label='Target distribution')\n",
    "# ax.legend()\n",
    "# plt.show()\n",
    "\n",
    "# Gs = ot.sinkhorn(a, b, C, 1e-2)\n",
    "# ot.plot.plot1D_mat(a,b, Gs, 'Cost matrix M')"
   ]
  },
  {
   "cell_type": "code",
   "execution_count": null,
   "id": "9f140504",
   "metadata": {
    "scrolled": false
   },
   "outputs": [],
   "source": [
    "\n",
    "fig, axs = plt.subplots(1,4,figsize=(20,5))\n",
    "\n",
    "ax = axs[0]\n",
    "ax.plot(x, a, 'b', label='α')\n",
    "ax.plot(x, b, 'r', label='β')\n",
    "ax.set_ylim((0,.1))\n",
    "ax.grid()\n",
    "ax.set_title('histograms')\n",
    "ax.legend(fontsize=20)\n",
    "\n",
    "\n",
    "for i, ϵ in enumerate([.1,.03,.01]):\n",
    "    ax = axs[i+1]\n",
    "    _,_,cost,P = sinkhorn_knopp(a,b,M,ϵ,100)\n",
    "    ax.imshow(P)\n",
    "    ax.set_title('P ($\\epsilon$'+f'={ϵ})')\n",
    "    \n",
    "\n",
    "fig.tight_layout()\n",
    "plt_savefig(fig, 'summary/assets/sinkhorn_vary_epsilon_1dgauss.png')\n",
    "    \n"
   ]
  },
  {
   "cell_type": "code",
   "execution_count": null,
   "id": "cd09004a",
   "metadata": {},
   "outputs": [],
   "source": []
  }
 ],
 "metadata": {
  "kernelspec": {
   "display_name": "Python [conda env:misc_impl]",
   "language": "python",
   "name": "conda-env-misc_impl-py"
  },
  "language_info": {
   "codemirror_mode": {
    "name": "ipython",
    "version": 3
   },
   "file_extension": ".py",
   "mimetype": "text/x-python",
   "name": "python",
   "nbconvert_exporter": "python",
   "pygments_lexer": "ipython3",
   "version": "3.7.9"
  }
 },
 "nbformat": 4,
 "nbformat_minor": 5
}
