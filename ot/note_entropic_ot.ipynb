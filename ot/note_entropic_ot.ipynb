{
 "cells": [
  {
   "cell_type": "code",
   "execution_count": null,
   "id": "c553aa87",
   "metadata": {},
   "outputs": [],
   "source": [
    "from SinkhornAutoDiff import *\n",
    "\n",
    "import jax\n",
    "import jax.numpy as np\n",
    "import jax.random as random\n",
    "from functools import partial\n",
    "\n",
    "\n",
    "import matplotlib.pylab as plt\n",
    "import ot\n",
    "import ot.plot\n",
    "from ot.datasets import make_1D_gauss\n",
    "\n",
    "import sys\n",
    "sys.path.insert(0,'../gp/')\n",
    "from gpax import *\n",
    "\n",
    "from otax import *"
   ]
  },
  {
   "cell_type": "code",
   "execution_count": null,
   "id": "bd5f9e8c",
   "metadata": {
    "scrolled": true
   },
   "outputs": [],
   "source": [
    "# https://pythonot.github.io/auto_examples/plot_OT_1D.html\n",
    "\n",
    "n = 100\n",
    "\n",
    "x = np.arange(n)\n",
    "a = np.asarray(make_1D_gauss(n, m=20, s=5))\n",
    "b = np.asarray(make_1D_gauss(n, m=60, s=10))\n",
    "\n",
    "M = ot.dist(x.reshape((n, 1)), x.reshape((n, 1)))\n",
    "# M = sqdist(x)\n",
    "M = M / M.max()\n",
    "\n",
    "fig, ax = plt.subplots(1,1,figsize=(5,5))\n",
    "ax.plot(x, a, 'b', label='Source distribution')\n",
    "ax.plot(x, b, 'r', label='Target distribution')\n",
    "ax.legend()\n",
    "plt.show()\n",
    "\n",
    "Gs,log = ot.sinkhorn(a,b,M,1e-2,log=True)\n",
    "ot.plot.plot1D_mat(a,b, Gs, 'Cost matrix M')"
   ]
  },
  {
   "cell_type": "code",
   "execution_count": null,
   "id": "4d91c4e5",
   "metadata": {
    "scrolled": false
   },
   "outputs": [],
   "source": [
    "\n",
    "\n",
    "_,_,cost,P = sinkhorn_knopp(a,b,M,1e-2,100)\n",
    "plt.figure(4, figsize=(5, 5))\n",
    "ot.plot.plot1D_mat(a, b, P, 'OT matrix Sinkhorn')\n",
    "plt.show()\n"
   ]
  }
 ],
 "metadata": {
  "kernelspec": {
   "display_name": "Python [conda env:misc_impl]",
   "language": "python",
   "name": "conda-env-misc_impl-py"
  },
  "language_info": {
   "codemirror_mode": {
    "name": "ipython",
    "version": 3
   },
   "file_extension": ".py",
   "mimetype": "text/x-python",
   "name": "python",
   "nbconvert_exporter": "python",
   "pygments_lexer": "ipython3",
   "version": "3.7.9"
  }
 },
 "nbformat": 4,
 "nbformat_minor": 5
}
